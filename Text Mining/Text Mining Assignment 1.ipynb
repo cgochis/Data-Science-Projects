{
 "cells": [
  {
   "cell_type": "markdown",
   "metadata": {},
   "source": [
    "# Assignment 1 - Chris Gochis\n",
    "# Question Responses at bottom of notebook"
   ]
  },
  {
   "cell_type": "markdown",
   "metadata": {},
   "source": [
    "# Let's start by scraping the music retailer Andertons Music Co!"
   ]
  },
  {
   "cell_type": "code",
   "execution_count": 70,
   "metadata": {},
   "outputs": [],
   "source": [
    "# import modules\n",
    "import pandas as pd\n",
    "from bs4 import BeautifulSoup\n",
    "import requests\n",
    "import time\n",
    "pd.set_option('display.max_colwidth', 150)"
   ]
  },
  {
   "cell_type": "code",
   "execution_count": 71,
   "metadata": {},
   "outputs": [],
   "source": [
    "#make our page request\n",
    "page = requests.get('https://www.andertons.co.uk/new/new-electric-guitars?#facet:&productBeginIndex:0&facetLimit:&orderBy:&pageView:grid&minPrice:&maxPrice:&pageSize:96&')\n",
    " \n",
    "soup = BeautifulSoup(page.text, \"lxml\")"
   ]
  },
  {
   "cell_type": "code",
   "execution_count": 72,
   "metadata": {},
   "outputs": [],
   "source": [
    "#grab each product on page\n",
    "products = soup.findAll(\"div\", {\"class\":\"amc-product-grid__item\"})\n"
   ]
  },
  {
   "cell_type": "code",
   "execution_count": 73,
   "metadata": {},
   "outputs": [],
   "source": [
    "#build the loop to compile\n",
    "guitars = {}\n",
    "\n",
    "for product in products:\n",
    "    productTitle = product.find('div','image')\n",
    "    title = productTitle.img['alt']\n",
    "    productPrice = product.find('span','product-price')\n",
    "    price = productPrice.get_text(strip=True)\n",
    "    productURL = product.find('a')\n",
    "    url = productURL['href']\n",
    "    guitars.setdefault(title,[])\n",
    "    guitars[title].append(price)\n",
    "    guitars[title].append(url)\n",
    "    guitars[title].append('GUITAR')\n",
    "    guitars[title].append(time.strftime(\"%m/%d/%Y\"))\n",
    "    \n",
    "#print(guitars)\n",
    "    "
   ]
  },
  {
   "cell_type": "code",
   "execution_count": 74,
   "metadata": {},
   "outputs": [
    {
     "name": "stdout",
     "output_type": "stream",
     "text": [
      "(24, 5)\n"
     ]
    },
    {
     "data": {
      "text/html": [
       "<div>\n",
       "<style scoped>\n",
       "    .dataframe tbody tr th:only-of-type {\n",
       "        vertical-align: middle;\n",
       "    }\n",
       "\n",
       "    .dataframe tbody tr th {\n",
       "        vertical-align: top;\n",
       "    }\n",
       "\n",
       "    .dataframe thead th {\n",
       "        text-align: right;\n",
       "    }\n",
       "</style>\n",
       "<table border=\"1\" class=\"dataframe\">\n",
       "  <thead>\n",
       "    <tr style=\"text-align: right;\">\n",
       "      <th></th>\n",
       "      <th>Product</th>\n",
       "      <th>Price</th>\n",
       "      <th>URL</th>\n",
       "      <th>Category</th>\n",
       "      <th>Date Scraped</th>\n",
       "    </tr>\n",
       "  </thead>\n",
       "  <tbody>\n",
       "    <tr>\n",
       "      <th>0</th>\n",
       "      <td>Gretsch Limited Edition G6119TG 62 Rosewood Tenny</td>\n",
       "      <td>£2,779.00</td>\n",
       "      <td>https://www.andertons.co.uk/new-electric-guitars/gretsch-limited-edition-2021-g6119tg-62-rosewood-tenny-with-rosewood-body</td>\n",
       "      <td>GUITAR</td>\n",
       "      <td>02/09/2021</td>\n",
       "    </tr>\n",
       "    <tr>\n",
       "      <th>1</th>\n",
       "      <td>Gretsch Limited Edition G6136TSL Hollow Body Falcon in 2-Tone Copper and Sahara Metallic</td>\n",
       "      <td>£3,379.00</td>\n",
       "      <td>https://www.andertons.co.uk/new-electric-guitars/gretsch-limited-edition-2021-g6136tsl-hollow-body-falcon-in-2-tone-copper-metallic-and-sahara-met...</td>\n",
       "      <td>GUITAR</td>\n",
       "      <td>02/09/2021</td>\n",
       "    </tr>\n",
       "    <tr>\n",
       "      <th>2</th>\n",
       "      <td>Gretsch Limited Edition G6134T Penguin Koa</td>\n",
       "      <td>£3,349.00</td>\n",
       "      <td>https://www.andertons.co.uk/new-electric-guitars/gretsch-limited-edition-2021-g6134t-koa-penguin-with-koa-top-and-headstock</td>\n",
       "      <td>GUITAR</td>\n",
       "      <td>02/09/2021</td>\n",
       "    </tr>\n",
       "    <tr>\n",
       "      <th>3</th>\n",
       "      <td>Gretsch Electromatic Limited Edition G5410T Tri Five Hollow Body in 2-Tone Vintage White and Casino Gold</td>\n",
       "      <td>£899.00</td>\n",
       "      <td>https://www.andertons.co.uk/new-electric-guitars/gretsch-limited-edition-2021-g5410t-tri-five-hollow-body-2-tone-vintage-white-on-casino-gold</td>\n",
       "      <td>GUITAR</td>\n",
       "      <td>02/09/2021</td>\n",
       "    </tr>\n",
       "    <tr>\n",
       "      <th>4</th>\n",
       "      <td>Gretsch Electromatic Limited Edition G5410T Tri Five Hollow Body in 2-Tone Ocean Turquoise and Vintage White</td>\n",
       "      <td>£899.00</td>\n",
       "      <td>https://www.andertons.co.uk/new-electric-guitars/gretsch-limited-edition-2021-g5410t-tri-five-hollow-body-2-tone-ocean-turquoise-on-vintage-white</td>\n",
       "      <td>GUITAR</td>\n",
       "      <td>02/09/2021</td>\n",
       "    </tr>\n",
       "  </tbody>\n",
       "</table>\n",
       "</div>"
      ],
      "text/plain": [
       "                                                                                                        Product  \\\n",
       "0                                                             Gretsch Limited Edition G6119TG 62 Rosewood Tenny   \n",
       "1                      Gretsch Limited Edition G6136TSL Hollow Body Falcon in 2-Tone Copper and Sahara Metallic   \n",
       "2                                                                    Gretsch Limited Edition G6134T Penguin Koa   \n",
       "3      Gretsch Electromatic Limited Edition G5410T Tri Five Hollow Body in 2-Tone Vintage White and Casino Gold   \n",
       "4  Gretsch Electromatic Limited Edition G5410T Tri Five Hollow Body in 2-Tone Ocean Turquoise and Vintage White   \n",
       "\n",
       "       Price  \\\n",
       "0  £2,779.00   \n",
       "1  £3,379.00   \n",
       "2  £3,349.00   \n",
       "3    £899.00   \n",
       "4    £899.00   \n",
       "\n",
       "                                                                                                                                                     URL  \\\n",
       "0                             https://www.andertons.co.uk/new-electric-guitars/gretsch-limited-edition-2021-g6119tg-62-rosewood-tenny-with-rosewood-body   \n",
       "1  https://www.andertons.co.uk/new-electric-guitars/gretsch-limited-edition-2021-g6136tsl-hollow-body-falcon-in-2-tone-copper-metallic-and-sahara-met...   \n",
       "2                            https://www.andertons.co.uk/new-electric-guitars/gretsch-limited-edition-2021-g6134t-koa-penguin-with-koa-top-and-headstock   \n",
       "3          https://www.andertons.co.uk/new-electric-guitars/gretsch-limited-edition-2021-g5410t-tri-five-hollow-body-2-tone-vintage-white-on-casino-gold   \n",
       "4      https://www.andertons.co.uk/new-electric-guitars/gretsch-limited-edition-2021-g5410t-tri-five-hollow-body-2-tone-ocean-turquoise-on-vintage-white   \n",
       "\n",
       "  Category Date Scraped  \n",
       "0   GUITAR   02/09/2021  \n",
       "1   GUITAR   02/09/2021  \n",
       "2   GUITAR   02/09/2021  \n",
       "3   GUITAR   02/09/2021  \n",
       "4   GUITAR   02/09/2021  "
      ]
     },
     "execution_count": 74,
     "metadata": {},
     "output_type": "execute_result"
    }
   ],
   "source": [
    "#construct the dataframe\n",
    "guitarsdf = pd.DataFrame.from_dict(guitars,orient=\"index\")\n",
    "guitarsdf.reset_index(level=[0], inplace=True)\n",
    "guitarsdf.columns = ['Product', 'Price', 'URL', 'Category', 'Date Scraped']\n",
    "\n",
    "#view the dataframe head\n",
    "print(guitarsdf.shape)\n",
    "guitarsdf.head()"
   ]
  },
  {
   "cell_type": "markdown",
   "metadata": {},
   "source": [
    "# Now we will do a scrape of Twitter! We want to know what is treding in the music scene around NAMM 2021, #BelieveinMusic"
   ]
  },
  {
   "cell_type": "code",
   "execution_count": 75,
   "metadata": {},
   "outputs": [],
   "source": [
    "#set up the api\n",
    "import tweepy\n",
    "from tweepy import OAuthHandler\n",
    "\n",
    "consumer_key =  \n",
    "consumer_secret = \n",
    "access_token = \n",
    "access_secret = \n",
    "\n",
    "auth = OAuthHandler(consumer_key, consumer_secret)\n",
    "auth.set_access_token(access_token, access_secret)\n",
    "\n",
    "api = tweepy.API(auth)"
   ]
  },
  {
   "cell_type": "code",
   "execution_count": 76,
   "metadata": {},
   "outputs": [
    {
     "name": "stdout",
     "output_type": "stream",
     "text": [
      "41\n"
     ]
    }
   ],
   "source": [
    "#collect tweets with the hashtag - #beliveinmusic\n",
    "#establish holding list\n",
    "results = []\n",
    "\n",
    "#credit to harishil9968 on Stackoverflow for this RT filter!\n",
    "for tweet in tweepy.Cursor(api.search, q='%23BelieveinMusic').items(100):\n",
    "    if (not tweet.retweeted) and ('RT @' not in tweet.text):\n",
    "        results.append(tweet)\n",
    "\n",
    "#confirm we collected some tweets\n",
    "print(len(results))"
   ]
  },
  {
   "cell_type": "code",
   "execution_count": 77,
   "metadata": {},
   "outputs": [],
   "source": [
    "#def a function to compile the tweet data into a dataframe\n",
    "def toDataFrame(tweets):\n",
    "\n",
    "    DataSet = pd.DataFrame()\n",
    "\n",
    "    DataSet['userName'] = [tweet.user.name for tweet in tweets]\n",
    "    DataSet['tweetText'] = [tweet.text for tweet in tweets]\n",
    "    DataSet['tweetRetweetCt'] = [tweet.retweet_count for tweet in tweets]\n",
    "    DataSet['tweetFavoriteCt'] = [tweet.favorite_count for tweet in tweets]\n",
    "    DataSet['tweetCreated'] = [tweet.created_at for tweet in tweets]\n",
    "    DataSet['userDesc'] = [tweet.user.description for tweet in tweets]\n",
    "    DataSet['userFollowerCt'] = [tweet.user.followers_count for tweet in tweets]\n",
    "    DataSet['userLocation'] = [tweet.user.location for tweet in tweets]\n",
    "    DataSet['Category'] = 'Tweet'\n",
    "\n",
    "    return DataSet"
   ]
  },
  {
   "cell_type": "code",
   "execution_count": 78,
   "metadata": {},
   "outputs": [
    {
     "data": {
      "text/html": [
       "<div>\n",
       "<style scoped>\n",
       "    .dataframe tbody tr th:only-of-type {\n",
       "        vertical-align: middle;\n",
       "    }\n",
       "\n",
       "    .dataframe tbody tr th {\n",
       "        vertical-align: top;\n",
       "    }\n",
       "\n",
       "    .dataframe thead th {\n",
       "        text-align: right;\n",
       "    }\n",
       "</style>\n",
       "<table border=\"1\" class=\"dataframe\">\n",
       "  <thead>\n",
       "    <tr style=\"text-align: right;\">\n",
       "      <th></th>\n",
       "      <th>userName</th>\n",
       "      <th>tweetText</th>\n",
       "      <th>tweetRetweetCt</th>\n",
       "      <th>tweetFavoriteCt</th>\n",
       "      <th>tweetCreated</th>\n",
       "      <th>userDesc</th>\n",
       "      <th>userFollowerCt</th>\n",
       "      <th>userLocation</th>\n",
       "      <th>Category</th>\n",
       "    </tr>\n",
       "  </thead>\n",
       "  <tbody>\n",
       "    <tr>\n",
       "      <th>0</th>\n",
       "      <td>NAMMShow</td>\n",
       "      <td>In Planning Through Tough Times: Figuring Out Your COVID-19 Response, learn how event producers can develop a plan… https://t.co/JOxK2yPrPl</td>\n",
       "      <td>0</td>\n",
       "      <td>1</td>\n",
       "      <td>2021-02-09 22:09:01</td>\n",
       "      <td>All the details on #BelieveinMusic/#NAMMShow/#SummerNAMM, TEC Awards, Top 100 Dealer Awards &amp; more! Show us how you’re making music with #MusicISL...</td>\n",
       "      <td>81080</td>\n",
       "      <td>Anaheim and Nashville</td>\n",
       "      <td>Tweet</td>\n",
       "    </tr>\n",
       "    <tr>\n",
       "      <th>1</th>\n",
       "      <td>The NAMM Foundation</td>\n",
       "      <td>Avail. On-demand until 2/28 - \"The 7 Business Skills Every Music Teacher Needs to Create and Grow a Thriving Music… https://t.co/ElJFSLvQ0T</td>\n",
       "      <td>0</td>\n",
       "      <td>2</td>\n",
       "      <td>2021-02-09 21:11:01</td>\n",
       "      <td>The NAMM Foundation celebrates and promotes the intrinsic value of music education.</td>\n",
       "      <td>6277</td>\n",
       "      <td>Carlsbad, CA</td>\n",
       "      <td>Tweet</td>\n",
       "    </tr>\n",
       "    <tr>\n",
       "      <th>2</th>\n",
       "      <td>NAMMShow</td>\n",
       "      <td>Hear an intimate conversation among 3 studio legends: Peter Asher, Danny Kortchmar and Waddy Wachtel. You’ll hear t… https://t.co/Rje74wcWsy</td>\n",
       "      <td>0</td>\n",
       "      <td>1</td>\n",
       "      <td>2021-02-09 17:29:02</td>\n",
       "      <td>All the details on #BelieveinMusic/#NAMMShow/#SummerNAMM, TEC Awards, Top 100 Dealer Awards &amp; more! Show us how you’re making music with #MusicISL...</td>\n",
       "      <td>81080</td>\n",
       "      <td>Anaheim and Nashville</td>\n",
       "      <td>Tweet</td>\n",
       "    </tr>\n",
       "    <tr>\n",
       "      <th>3</th>\n",
       "      <td>The NAMM Foundation</td>\n",
       "      <td>From #BelieveinMusic week, the \"Lights, Camera, Action! Using Video to Promote Student Engagement\" session is avail… https://t.co/oHnsDFjrzh</td>\n",
       "      <td>1</td>\n",
       "      <td>2</td>\n",
       "      <td>2021-02-09 16:27:01</td>\n",
       "      <td>The NAMM Foundation celebrates and promotes the intrinsic value of music education.</td>\n",
       "      <td>6277</td>\n",
       "      <td>Carlsbad, CA</td>\n",
       "      <td>Tweet</td>\n",
       "    </tr>\n",
       "    <tr>\n",
       "      <th>4</th>\n",
       "      <td>NAMMShow</td>\n",
       "      <td>What does it take to have a successful career in our industry? Find out at a special session with a diverse lineup… https://t.co/LbD6L7cUt0</td>\n",
       "      <td>1</td>\n",
       "      <td>4</td>\n",
       "      <td>2021-02-08 22:07:03</td>\n",
       "      <td>All the details on #BelieveinMusic/#NAMMShow/#SummerNAMM, TEC Awards, Top 100 Dealer Awards &amp; more! Show us how you’re making music with #MusicISL...</td>\n",
       "      <td>81080</td>\n",
       "      <td>Anaheim and Nashville</td>\n",
       "      <td>Tweet</td>\n",
       "    </tr>\n",
       "  </tbody>\n",
       "</table>\n",
       "</div>"
      ],
      "text/plain": [
       "              userName  \\\n",
       "0             NAMMShow   \n",
       "1  The NAMM Foundation   \n",
       "2             NAMMShow   \n",
       "3  The NAMM Foundation   \n",
       "4             NAMMShow   \n",
       "\n",
       "                                                                                                                                      tweetText  \\\n",
       "0   In Planning Through Tough Times: Figuring Out Your COVID-19 Response, learn how event producers can develop a plan… https://t.co/JOxK2yPrPl   \n",
       "1   Avail. On-demand until 2/28 - \"The 7 Business Skills Every Music Teacher Needs to Create and Grow a Thriving Music… https://t.co/ElJFSLvQ0T   \n",
       "2  Hear an intimate conversation among 3 studio legends: Peter Asher, Danny Kortchmar and Waddy Wachtel. You’ll hear t… https://t.co/Rje74wcWsy   \n",
       "3  From #BelieveinMusic week, the \"Lights, Camera, Action! Using Video to Promote Student Engagement\" session is avail… https://t.co/oHnsDFjrzh   \n",
       "4   What does it take to have a successful career in our industry? Find out at a special session with a diverse lineup… https://t.co/LbD6L7cUt0   \n",
       "\n",
       "   tweetRetweetCt  tweetFavoriteCt        tweetCreated  \\\n",
       "0               0                1 2021-02-09 22:09:01   \n",
       "1               0                2 2021-02-09 21:11:01   \n",
       "2               0                1 2021-02-09 17:29:02   \n",
       "3               1                2 2021-02-09 16:27:01   \n",
       "4               1                4 2021-02-08 22:07:03   \n",
       "\n",
       "                                                                                                                                                userDesc  \\\n",
       "0  All the details on #BelieveinMusic/#NAMMShow/#SummerNAMM, TEC Awards, Top 100 Dealer Awards & more! Show us how you’re making music with #MusicISL...   \n",
       "1                                                                    The NAMM Foundation celebrates and promotes the intrinsic value of music education.   \n",
       "2  All the details on #BelieveinMusic/#NAMMShow/#SummerNAMM, TEC Awards, Top 100 Dealer Awards & more! Show us how you’re making music with #MusicISL...   \n",
       "3                                                                    The NAMM Foundation celebrates and promotes the intrinsic value of music education.   \n",
       "4  All the details on #BelieveinMusic/#NAMMShow/#SummerNAMM, TEC Awards, Top 100 Dealer Awards & more! Show us how you’re making music with #MusicISL...   \n",
       "\n",
       "   userFollowerCt           userLocation Category  \n",
       "0           81080  Anaheim and Nashville    Tweet  \n",
       "1            6277           Carlsbad, CA    Tweet  \n",
       "2           81080  Anaheim and Nashville    Tweet  \n",
       "3            6277           Carlsbad, CA    Tweet  \n",
       "4           81080  Anaheim and Nashville    Tweet  "
      ]
     },
     "execution_count": 78,
     "metadata": {},
     "output_type": "execute_result"
    }
   ],
   "source": [
    "#set the datafram to an object\n",
    "tweetsdf = toDataFrame(results)\n",
    "\n",
    "#view the dataframe head\n",
    "tweetsdf.head()"
   ]
  },
  {
   "cell_type": "markdown",
   "metadata": {},
   "source": [
    "# Question 1 - \n",
    "For this assignment, I will be working for a fictional music news and media company. Something similar to the likes of Guitar World, a magazine and online publishing company. The data that is collected is surrounding the topic of new gear coming out in the music industry. Every year, there is the NAMM show, the world’s largest trade show for manufacturers and dealers that work in the music industry. Unfortunately this year, there was no floor show, due to the pandemic, so many companies took to the web for a virtual show of sorts. I scraped both a world renowned music retailer for new product listings, as well as Twitter, to assess the social media activity surrounding the virtual show. The idea was to collect data about new gear, names, pricing, etc. as well as to try and keep up with what the buzz is surrounding the event, that way our management can stay on top of trends and make informed decisions on how to direct the staff writers.\n",
    "\n",
    "For the retailer, Andertons Music Co, I made a scrape of their new NAMM 2021 guitars page. I was able to collect text on the name of each item. This could easily provide us with the ability to monitor which brands are featured the most and which are more active, as well as providing us streamlined information about each product such as model and color. For non-text information, I was also able to compile pricing, URLs, instrument category, and the date the scrape was made. All of this will be very helpful to supply our management team with ways that they can see what kinds of guitars, what player level they target based on price, and where to find the listings, very quickly. For the Twitter scrape, I collected original tweets around #BelieveinMusic. The text collected would be the tweets themselves, allowing the managers to keep tabs on the what the industry is currently buzzing about. For non-text elements I also scraped retweet and favorite counts, date crated, user names, descriptions, followers, and location, and finally applied a category of “Tweet” to help in cases where more social media sites are scraped in the future, and we want ways to organize them. I believe this non-text material will greatly help managers decipher who has influence and what to follow, giving them access to the virality of certain topics as well as what parts of the globe are following what trends. All of this information combined will allow our management teams decide what to write about and the useful information to include for our readers."
   ]
  },
  {
   "cell_type": "markdown",
   "metadata": {},
   "source": [
    "# Question 2 -\n",
    "The data gathered was very different from each other. Both coming from different sources and looking for different kinds of data. I wanted them to come from different types of sources to provide the company with a broader sense of information to write from. One source comes from a retail site, providing more tabular, retail information, the other comes from social media, which has a lot less structure to the text, but helps us understand what’s currently important to report.\n",
    "\n",
    "The collection of this data required different tools. One comes from the BeautifulSoup package, designed to make a request and pull the information from the HTML code. This required some more accurate navigation of the site code to find where each bit of information I needed was stored, before applying those collections into a data frame. On the other hand, for Twitter I had to use the developer API to collect the information surrounding each tweet. This process was more about choosing what I did and did not want to collect on each tweet and store in my data frame. However I did have to do some research into filtering the pulls down to just original tweets, I wanted to avoid dealing with duplicate information from different users, just because they were retweeting each other. Once that process was built, changing hashtags and gathering original tweets is repeatable.\n",
    "\n",
    "Since the data comes from two very different sources, it makes the data even more useful to the company. Since we now have a good look at both a retail and a social media perspective, we have the ability to follow trends and provide accurate purchasing information that our customers want to see at their fingertips. Technically speaking, this collection process can easily be modified to collect different batches of information. We can chose various other retail sites with relative ease, as well as being able to quickly adjust the hashtags we want to pull from twitter, if our social media teams are finding better topics to track. All of this makes for a robust and endlessly usable mining operation. Our media company can collect great data that I believe will help our writer’s give the readers what they really want to see."
   ]
  },
  {
   "cell_type": "code",
   "execution_count": null,
   "metadata": {},
   "outputs": [],
   "source": []
  }
 ],
 "metadata": {
  "kernelspec": {
   "display_name": "Python 3",
   "language": "python",
   "name": "python3"
  },
  "language_info": {
   "codemirror_mode": {
    "name": "ipython",
    "version": 3
   },
   "file_extension": ".py",
   "mimetype": "text/x-python",
   "name": "python",
   "nbconvert_exporter": "python",
   "pygments_lexer": "ipython3",
   "version": "3.8.5"
  }
 },
 "nbformat": 4,
 "nbformat_minor": 4
}
