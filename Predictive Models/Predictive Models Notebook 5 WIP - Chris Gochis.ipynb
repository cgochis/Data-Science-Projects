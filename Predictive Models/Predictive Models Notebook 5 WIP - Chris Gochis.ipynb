{
 "cells": [
  {
   "cell_type": "markdown",
   "metadata": {},
   "source": [
    "# Introduction\n",
    "\n",
    "This is a dataset that I found on Kaggle. It documents various weather data across a 10 year span in Australia. The goal with this data is to build models to predict whether it will be raining tomorrow. The dataset contains a target variable called RainTomorrow with a No or Yes (1mm or more). \n",
    "\n",
    "Source - https://www.kaggle.com/jsphyg/weather-dataset-rattle-package"
   ]
  },
  {
   "cell_type": "markdown",
   "metadata": {},
   "source": [
    "# Import Modules and Data"
   ]
  },
  {
   "cell_type": "code",
   "execution_count": 1,
   "metadata": {},
   "outputs": [],
   "source": [
    "#Import modules \n",
    "import numpy as np \n",
    "import matplotlib.pyplot as plt\n",
    "import pandas as pd\n",
    "from sklearn import preprocessing\n",
    "import os as os\n",
    "from sklearn.metrics import mean_squared_error\n",
    "%matplotlib inline \n",
    "import sys\n",
    "from sklearn.metrics import r2_score \n",
    "from sklearn.metrics import mean_absolute_error\n",
    "from sklearn.metrics import accuracy_score, precision_score, recall_score, f1_score\n",
    "from sklearn.metrics import roc_curve, auc, confusion_matrix, classification_report\n",
    "from sklearn.model_selection  import train_test_split, cross_val_score, KFold\n",
    "from sklearn.model_selection import GridSearchCV"
   ]
  },
  {
   "cell_type": "code",
   "execution_count": 2,
   "metadata": {},
   "outputs": [
    {
     "data": {
      "text/plain": [
       "'/Users/ChrisGochis/OneDrive - Rockhurst University/PREDICTIVE MODELS/BIA6303PredictiveModels/Assignment 2'"
      ]
     },
     "execution_count": 2,
     "metadata": {},
     "output_type": "execute_result"
    }
   ],
   "source": [
    "%pwd"
   ]
  },
  {
   "cell_type": "code",
   "execution_count": 3,
   "metadata": {},
   "outputs": [
    {
     "data": {
      "text/plain": [
       "(145460, 23)"
      ]
     },
     "execution_count": 3,
     "metadata": {},
     "output_type": "execute_result"
    }
   ],
   "source": [
    "#import the weather data csv\n",
    "weather = pd.read_csv('weatherAUS.csv', sep=',', engine='python')\n",
    "weather.shape"
   ]
  },
  {
   "cell_type": "markdown",
   "metadata": {},
   "source": [
    "# The Dataset"
   ]
  },
  {
   "cell_type": "code",
   "execution_count": 4,
   "metadata": {},
   "outputs": [],
   "source": [
    "# Move Target Variable to front of dataframe\n",
    "targetName = 'RainTomorrow'\n",
    "targetSeries = weather[targetName]\n",
    "del weather[targetName]\n",
    "weather.insert(0, targetName, targetSeries)"
   ]
  },
  {
   "cell_type": "code",
   "execution_count": 5,
   "metadata": {},
   "outputs": [
    {
     "data": {
      "text/html": [
       "<div>\n",
       "<style scoped>\n",
       "    .dataframe tbody tr th:only-of-type {\n",
       "        vertical-align: middle;\n",
       "    }\n",
       "\n",
       "    .dataframe tbody tr th {\n",
       "        vertical-align: top;\n",
       "    }\n",
       "\n",
       "    .dataframe thead th {\n",
       "        text-align: right;\n",
       "    }\n",
       "</style>\n",
       "<table border=\"1\" class=\"dataframe\">\n",
       "  <thead>\n",
       "    <tr style=\"text-align: right;\">\n",
       "      <th></th>\n",
       "      <th>RainTomorrow</th>\n",
       "      <th>Date</th>\n",
       "      <th>Location</th>\n",
       "      <th>MinTemp</th>\n",
       "      <th>MaxTemp</th>\n",
       "      <th>Rainfall</th>\n",
       "      <th>Evaporation</th>\n",
       "      <th>Sunshine</th>\n",
       "      <th>WindGustDir</th>\n",
       "      <th>WindGustSpeed</th>\n",
       "      <th>...</th>\n",
       "      <th>WindSpeed3pm</th>\n",
       "      <th>Humidity9am</th>\n",
       "      <th>Humidity3pm</th>\n",
       "      <th>Pressure9am</th>\n",
       "      <th>Pressure3pm</th>\n",
       "      <th>Cloud9am</th>\n",
       "      <th>Cloud3pm</th>\n",
       "      <th>Temp9am</th>\n",
       "      <th>Temp3pm</th>\n",
       "      <th>RainToday</th>\n",
       "    </tr>\n",
       "  </thead>\n",
       "  <tbody>\n",
       "    <tr>\n",
       "      <th>0</th>\n",
       "      <td>No</td>\n",
       "      <td>2008-12-01</td>\n",
       "      <td>Albury</td>\n",
       "      <td>13.4</td>\n",
       "      <td>22.9</td>\n",
       "      <td>0.6</td>\n",
       "      <td>NaN</td>\n",
       "      <td>NaN</td>\n",
       "      <td>W</td>\n",
       "      <td>44.0</td>\n",
       "      <td>...</td>\n",
       "      <td>24.0</td>\n",
       "      <td>71.0</td>\n",
       "      <td>22.0</td>\n",
       "      <td>1007.7</td>\n",
       "      <td>1007.1</td>\n",
       "      <td>8.0</td>\n",
       "      <td>NaN</td>\n",
       "      <td>16.9</td>\n",
       "      <td>21.8</td>\n",
       "      <td>No</td>\n",
       "    </tr>\n",
       "    <tr>\n",
       "      <th>1</th>\n",
       "      <td>No</td>\n",
       "      <td>2008-12-02</td>\n",
       "      <td>Albury</td>\n",
       "      <td>7.4</td>\n",
       "      <td>25.1</td>\n",
       "      <td>0.0</td>\n",
       "      <td>NaN</td>\n",
       "      <td>NaN</td>\n",
       "      <td>WNW</td>\n",
       "      <td>44.0</td>\n",
       "      <td>...</td>\n",
       "      <td>22.0</td>\n",
       "      <td>44.0</td>\n",
       "      <td>25.0</td>\n",
       "      <td>1010.6</td>\n",
       "      <td>1007.8</td>\n",
       "      <td>NaN</td>\n",
       "      <td>NaN</td>\n",
       "      <td>17.2</td>\n",
       "      <td>24.3</td>\n",
       "      <td>No</td>\n",
       "    </tr>\n",
       "    <tr>\n",
       "      <th>2</th>\n",
       "      <td>No</td>\n",
       "      <td>2008-12-03</td>\n",
       "      <td>Albury</td>\n",
       "      <td>12.9</td>\n",
       "      <td>25.7</td>\n",
       "      <td>0.0</td>\n",
       "      <td>NaN</td>\n",
       "      <td>NaN</td>\n",
       "      <td>WSW</td>\n",
       "      <td>46.0</td>\n",
       "      <td>...</td>\n",
       "      <td>26.0</td>\n",
       "      <td>38.0</td>\n",
       "      <td>30.0</td>\n",
       "      <td>1007.6</td>\n",
       "      <td>1008.7</td>\n",
       "      <td>NaN</td>\n",
       "      <td>2.0</td>\n",
       "      <td>21.0</td>\n",
       "      <td>23.2</td>\n",
       "      <td>No</td>\n",
       "    </tr>\n",
       "    <tr>\n",
       "      <th>3</th>\n",
       "      <td>No</td>\n",
       "      <td>2008-12-04</td>\n",
       "      <td>Albury</td>\n",
       "      <td>9.2</td>\n",
       "      <td>28.0</td>\n",
       "      <td>0.0</td>\n",
       "      <td>NaN</td>\n",
       "      <td>NaN</td>\n",
       "      <td>NE</td>\n",
       "      <td>24.0</td>\n",
       "      <td>...</td>\n",
       "      <td>9.0</td>\n",
       "      <td>45.0</td>\n",
       "      <td>16.0</td>\n",
       "      <td>1017.6</td>\n",
       "      <td>1012.8</td>\n",
       "      <td>NaN</td>\n",
       "      <td>NaN</td>\n",
       "      <td>18.1</td>\n",
       "      <td>26.5</td>\n",
       "      <td>No</td>\n",
       "    </tr>\n",
       "    <tr>\n",
       "      <th>4</th>\n",
       "      <td>No</td>\n",
       "      <td>2008-12-05</td>\n",
       "      <td>Albury</td>\n",
       "      <td>17.5</td>\n",
       "      <td>32.3</td>\n",
       "      <td>1.0</td>\n",
       "      <td>NaN</td>\n",
       "      <td>NaN</td>\n",
       "      <td>W</td>\n",
       "      <td>41.0</td>\n",
       "      <td>...</td>\n",
       "      <td>20.0</td>\n",
       "      <td>82.0</td>\n",
       "      <td>33.0</td>\n",
       "      <td>1010.8</td>\n",
       "      <td>1006.0</td>\n",
       "      <td>7.0</td>\n",
       "      <td>8.0</td>\n",
       "      <td>17.8</td>\n",
       "      <td>29.7</td>\n",
       "      <td>No</td>\n",
       "    </tr>\n",
       "  </tbody>\n",
       "</table>\n",
       "<p>5 rows × 23 columns</p>\n",
       "</div>"
      ],
      "text/plain": [
       "  RainTomorrow        Date Location  MinTemp  MaxTemp  Rainfall  Evaporation  \\\n",
       "0           No  2008-12-01   Albury     13.4     22.9       0.6          NaN   \n",
       "1           No  2008-12-02   Albury      7.4     25.1       0.0          NaN   \n",
       "2           No  2008-12-03   Albury     12.9     25.7       0.0          NaN   \n",
       "3           No  2008-12-04   Albury      9.2     28.0       0.0          NaN   \n",
       "4           No  2008-12-05   Albury     17.5     32.3       1.0          NaN   \n",
       "\n",
       "   Sunshine WindGustDir  WindGustSpeed  ... WindSpeed3pm Humidity9am  \\\n",
       "0       NaN           W           44.0  ...         24.0        71.0   \n",
       "1       NaN         WNW           44.0  ...         22.0        44.0   \n",
       "2       NaN         WSW           46.0  ...         26.0        38.0   \n",
       "3       NaN          NE           24.0  ...          9.0        45.0   \n",
       "4       NaN           W           41.0  ...         20.0        82.0   \n",
       "\n",
       "   Humidity3pm  Pressure9am  Pressure3pm  Cloud9am  Cloud3pm  Temp9am  \\\n",
       "0         22.0       1007.7       1007.1       8.0       NaN     16.9   \n",
       "1         25.0       1010.6       1007.8       NaN       NaN     17.2   \n",
       "2         30.0       1007.6       1008.7       NaN       2.0     21.0   \n",
       "3         16.0       1017.6       1012.8       NaN       NaN     18.1   \n",
       "4         33.0       1010.8       1006.0       7.0       8.0     17.8   \n",
       "\n",
       "   Temp3pm  RainToday  \n",
       "0     21.8         No  \n",
       "1     24.3         No  \n",
       "2     23.2         No  \n",
       "3     26.5         No  \n",
       "4     29.7         No  \n",
       "\n",
       "[5 rows x 23 columns]"
      ]
     },
     "execution_count": 5,
     "metadata": {},
     "output_type": "execute_result"
    }
   ],
   "source": [
    "weather.head()"
   ]
  },
  {
   "cell_type": "code",
   "execution_count": 6,
   "metadata": {},
   "outputs": [
    {
     "data": {
      "text/html": [
       "<div>\n",
       "<style scoped>\n",
       "    .dataframe tbody tr th:only-of-type {\n",
       "        vertical-align: middle;\n",
       "    }\n",
       "\n",
       "    .dataframe tbody tr th {\n",
       "        vertical-align: top;\n",
       "    }\n",
       "\n",
       "    .dataframe thead th {\n",
       "        text-align: right;\n",
       "    }\n",
       "</style>\n",
       "<table border=\"1\" class=\"dataframe\">\n",
       "  <thead>\n",
       "    <tr style=\"text-align: right;\">\n",
       "      <th></th>\n",
       "      <th>RainTomorrow</th>\n",
       "      <th>Date</th>\n",
       "      <th>Location</th>\n",
       "      <th>MinTemp</th>\n",
       "      <th>MaxTemp</th>\n",
       "      <th>Rainfall</th>\n",
       "      <th>Evaporation</th>\n",
       "      <th>Sunshine</th>\n",
       "      <th>WindGustDir</th>\n",
       "      <th>WindGustSpeed</th>\n",
       "      <th>...</th>\n",
       "      <th>WindSpeed3pm</th>\n",
       "      <th>Humidity9am</th>\n",
       "      <th>Humidity3pm</th>\n",
       "      <th>Pressure9am</th>\n",
       "      <th>Pressure3pm</th>\n",
       "      <th>Cloud9am</th>\n",
       "      <th>Cloud3pm</th>\n",
       "      <th>Temp9am</th>\n",
       "      <th>Temp3pm</th>\n",
       "      <th>RainToday</th>\n",
       "    </tr>\n",
       "  </thead>\n",
       "  <tbody>\n",
       "    <tr>\n",
       "      <th>145455</th>\n",
       "      <td>No</td>\n",
       "      <td>2017-06-21</td>\n",
       "      <td>Uluru</td>\n",
       "      <td>2.8</td>\n",
       "      <td>23.4</td>\n",
       "      <td>0.0</td>\n",
       "      <td>NaN</td>\n",
       "      <td>NaN</td>\n",
       "      <td>E</td>\n",
       "      <td>31.0</td>\n",
       "      <td>...</td>\n",
       "      <td>11.0</td>\n",
       "      <td>51.0</td>\n",
       "      <td>24.0</td>\n",
       "      <td>1024.6</td>\n",
       "      <td>1020.3</td>\n",
       "      <td>NaN</td>\n",
       "      <td>NaN</td>\n",
       "      <td>10.1</td>\n",
       "      <td>22.4</td>\n",
       "      <td>No</td>\n",
       "    </tr>\n",
       "    <tr>\n",
       "      <th>145456</th>\n",
       "      <td>No</td>\n",
       "      <td>2017-06-22</td>\n",
       "      <td>Uluru</td>\n",
       "      <td>3.6</td>\n",
       "      <td>25.3</td>\n",
       "      <td>0.0</td>\n",
       "      <td>NaN</td>\n",
       "      <td>NaN</td>\n",
       "      <td>NNW</td>\n",
       "      <td>22.0</td>\n",
       "      <td>...</td>\n",
       "      <td>9.0</td>\n",
       "      <td>56.0</td>\n",
       "      <td>21.0</td>\n",
       "      <td>1023.5</td>\n",
       "      <td>1019.1</td>\n",
       "      <td>NaN</td>\n",
       "      <td>NaN</td>\n",
       "      <td>10.9</td>\n",
       "      <td>24.5</td>\n",
       "      <td>No</td>\n",
       "    </tr>\n",
       "    <tr>\n",
       "      <th>145457</th>\n",
       "      <td>No</td>\n",
       "      <td>2017-06-23</td>\n",
       "      <td>Uluru</td>\n",
       "      <td>5.4</td>\n",
       "      <td>26.9</td>\n",
       "      <td>0.0</td>\n",
       "      <td>NaN</td>\n",
       "      <td>NaN</td>\n",
       "      <td>N</td>\n",
       "      <td>37.0</td>\n",
       "      <td>...</td>\n",
       "      <td>9.0</td>\n",
       "      <td>53.0</td>\n",
       "      <td>24.0</td>\n",
       "      <td>1021.0</td>\n",
       "      <td>1016.8</td>\n",
       "      <td>NaN</td>\n",
       "      <td>NaN</td>\n",
       "      <td>12.5</td>\n",
       "      <td>26.1</td>\n",
       "      <td>No</td>\n",
       "    </tr>\n",
       "    <tr>\n",
       "      <th>145458</th>\n",
       "      <td>No</td>\n",
       "      <td>2017-06-24</td>\n",
       "      <td>Uluru</td>\n",
       "      <td>7.8</td>\n",
       "      <td>27.0</td>\n",
       "      <td>0.0</td>\n",
       "      <td>NaN</td>\n",
       "      <td>NaN</td>\n",
       "      <td>SE</td>\n",
       "      <td>28.0</td>\n",
       "      <td>...</td>\n",
       "      <td>7.0</td>\n",
       "      <td>51.0</td>\n",
       "      <td>24.0</td>\n",
       "      <td>1019.4</td>\n",
       "      <td>1016.5</td>\n",
       "      <td>3.0</td>\n",
       "      <td>2.0</td>\n",
       "      <td>15.1</td>\n",
       "      <td>26.0</td>\n",
       "      <td>No</td>\n",
       "    </tr>\n",
       "    <tr>\n",
       "      <th>145459</th>\n",
       "      <td>NaN</td>\n",
       "      <td>2017-06-25</td>\n",
       "      <td>Uluru</td>\n",
       "      <td>14.9</td>\n",
       "      <td>NaN</td>\n",
       "      <td>0.0</td>\n",
       "      <td>NaN</td>\n",
       "      <td>NaN</td>\n",
       "      <td>NaN</td>\n",
       "      <td>NaN</td>\n",
       "      <td>...</td>\n",
       "      <td>17.0</td>\n",
       "      <td>62.0</td>\n",
       "      <td>36.0</td>\n",
       "      <td>1020.2</td>\n",
       "      <td>1017.9</td>\n",
       "      <td>8.0</td>\n",
       "      <td>8.0</td>\n",
       "      <td>15.0</td>\n",
       "      <td>20.9</td>\n",
       "      <td>No</td>\n",
       "    </tr>\n",
       "  </tbody>\n",
       "</table>\n",
       "<p>5 rows × 23 columns</p>\n",
       "</div>"
      ],
      "text/plain": [
       "       RainTomorrow        Date Location  MinTemp  MaxTemp  Rainfall  \\\n",
       "145455           No  2017-06-21    Uluru      2.8     23.4       0.0   \n",
       "145456           No  2017-06-22    Uluru      3.6     25.3       0.0   \n",
       "145457           No  2017-06-23    Uluru      5.4     26.9       0.0   \n",
       "145458           No  2017-06-24    Uluru      7.8     27.0       0.0   \n",
       "145459          NaN  2017-06-25    Uluru     14.9      NaN       0.0   \n",
       "\n",
       "        Evaporation  Sunshine WindGustDir  WindGustSpeed  ... WindSpeed3pm  \\\n",
       "145455          NaN       NaN           E           31.0  ...         11.0   \n",
       "145456          NaN       NaN         NNW           22.0  ...          9.0   \n",
       "145457          NaN       NaN           N           37.0  ...          9.0   \n",
       "145458          NaN       NaN          SE           28.0  ...          7.0   \n",
       "145459          NaN       NaN         NaN            NaN  ...         17.0   \n",
       "\n",
       "       Humidity9am  Humidity3pm  Pressure9am  Pressure3pm  Cloud9am  Cloud3pm  \\\n",
       "145455        51.0         24.0       1024.6       1020.3       NaN       NaN   \n",
       "145456        56.0         21.0       1023.5       1019.1       NaN       NaN   \n",
       "145457        53.0         24.0       1021.0       1016.8       NaN       NaN   \n",
       "145458        51.0         24.0       1019.4       1016.5       3.0       2.0   \n",
       "145459        62.0         36.0       1020.2       1017.9       8.0       8.0   \n",
       "\n",
       "        Temp9am  Temp3pm  RainToday  \n",
       "145455     10.1     22.4         No  \n",
       "145456     10.9     24.5         No  \n",
       "145457     12.5     26.1         No  \n",
       "145458     15.1     26.0         No  \n",
       "145459     15.0     20.9         No  \n",
       "\n",
       "[5 rows x 23 columns]"
      ]
     },
     "execution_count": 6,
     "metadata": {},
     "output_type": "execute_result"
    }
   ],
   "source": [
    "weather.tail()"
   ]
  },
  {
   "cell_type": "markdown",
   "metadata": {},
   "source": [
    "# Since weather is best predictable locally, I want to focus on one city in Australia, Sydney. I will now filter the dataset down to the Sydney observations."
   ]
  },
  {
   "cell_type": "code",
   "execution_count": 7,
   "metadata": {},
   "outputs": [
    {
     "data": {
      "text/html": [
       "<div>\n",
       "<style scoped>\n",
       "    .dataframe tbody tr th:only-of-type {\n",
       "        vertical-align: middle;\n",
       "    }\n",
       "\n",
       "    .dataframe tbody tr th {\n",
       "        vertical-align: top;\n",
       "    }\n",
       "\n",
       "    .dataframe thead th {\n",
       "        text-align: right;\n",
       "    }\n",
       "</style>\n",
       "<table border=\"1\" class=\"dataframe\">\n",
       "  <thead>\n",
       "    <tr style=\"text-align: right;\">\n",
       "      <th></th>\n",
       "      <th>RainTomorrow</th>\n",
       "      <th>Date</th>\n",
       "      <th>Location</th>\n",
       "      <th>MinTemp</th>\n",
       "      <th>MaxTemp</th>\n",
       "      <th>Rainfall</th>\n",
       "      <th>Evaporation</th>\n",
       "      <th>Sunshine</th>\n",
       "      <th>WindGustDir</th>\n",
       "      <th>WindGustSpeed</th>\n",
       "      <th>...</th>\n",
       "      <th>WindSpeed3pm</th>\n",
       "      <th>Humidity9am</th>\n",
       "      <th>Humidity3pm</th>\n",
       "      <th>Pressure9am</th>\n",
       "      <th>Pressure3pm</th>\n",
       "      <th>Cloud9am</th>\n",
       "      <th>Cloud3pm</th>\n",
       "      <th>Temp9am</th>\n",
       "      <th>Temp3pm</th>\n",
       "      <th>RainToday</th>\n",
       "    </tr>\n",
       "  </thead>\n",
       "  <tbody>\n",
       "    <tr>\n",
       "      <th>30176</th>\n",
       "      <td>Yes</td>\n",
       "      <td>2008-02-01</td>\n",
       "      <td>Sydney</td>\n",
       "      <td>19.5</td>\n",
       "      <td>22.4</td>\n",
       "      <td>15.6</td>\n",
       "      <td>6.2</td>\n",
       "      <td>0.0</td>\n",
       "      <td>NaN</td>\n",
       "      <td>NaN</td>\n",
       "      <td>...</td>\n",
       "      <td>20.0</td>\n",
       "      <td>92.0</td>\n",
       "      <td>84.0</td>\n",
       "      <td>1017.6</td>\n",
       "      <td>1017.4</td>\n",
       "      <td>8.0</td>\n",
       "      <td>8.0</td>\n",
       "      <td>20.7</td>\n",
       "      <td>20.9</td>\n",
       "      <td>Yes</td>\n",
       "    </tr>\n",
       "    <tr>\n",
       "      <th>30177</th>\n",
       "      <td>Yes</td>\n",
       "      <td>2008-02-02</td>\n",
       "      <td>Sydney</td>\n",
       "      <td>19.5</td>\n",
       "      <td>25.6</td>\n",
       "      <td>6.0</td>\n",
       "      <td>3.4</td>\n",
       "      <td>2.7</td>\n",
       "      <td>NaN</td>\n",
       "      <td>NaN</td>\n",
       "      <td>...</td>\n",
       "      <td>13.0</td>\n",
       "      <td>83.0</td>\n",
       "      <td>73.0</td>\n",
       "      <td>1017.9</td>\n",
       "      <td>1016.4</td>\n",
       "      <td>7.0</td>\n",
       "      <td>7.0</td>\n",
       "      <td>22.4</td>\n",
       "      <td>24.8</td>\n",
       "      <td>Yes</td>\n",
       "    </tr>\n",
       "    <tr>\n",
       "      <th>30178</th>\n",
       "      <td>Yes</td>\n",
       "      <td>2008-02-03</td>\n",
       "      <td>Sydney</td>\n",
       "      <td>21.6</td>\n",
       "      <td>24.5</td>\n",
       "      <td>6.6</td>\n",
       "      <td>2.4</td>\n",
       "      <td>0.1</td>\n",
       "      <td>NaN</td>\n",
       "      <td>NaN</td>\n",
       "      <td>...</td>\n",
       "      <td>2.0</td>\n",
       "      <td>88.0</td>\n",
       "      <td>86.0</td>\n",
       "      <td>1016.7</td>\n",
       "      <td>1015.6</td>\n",
       "      <td>7.0</td>\n",
       "      <td>8.0</td>\n",
       "      <td>23.5</td>\n",
       "      <td>23.0</td>\n",
       "      <td>Yes</td>\n",
       "    </tr>\n",
       "    <tr>\n",
       "      <th>30179</th>\n",
       "      <td>Yes</td>\n",
       "      <td>2008-02-04</td>\n",
       "      <td>Sydney</td>\n",
       "      <td>20.2</td>\n",
       "      <td>22.8</td>\n",
       "      <td>18.8</td>\n",
       "      <td>2.2</td>\n",
       "      <td>0.0</td>\n",
       "      <td>NaN</td>\n",
       "      <td>NaN</td>\n",
       "      <td>...</td>\n",
       "      <td>20.0</td>\n",
       "      <td>83.0</td>\n",
       "      <td>90.0</td>\n",
       "      <td>1014.2</td>\n",
       "      <td>1011.8</td>\n",
       "      <td>8.0</td>\n",
       "      <td>8.0</td>\n",
       "      <td>21.4</td>\n",
       "      <td>20.9</td>\n",
       "      <td>Yes</td>\n",
       "    </tr>\n",
       "    <tr>\n",
       "      <th>30180</th>\n",
       "      <td>Yes</td>\n",
       "      <td>2008-02-05</td>\n",
       "      <td>Sydney</td>\n",
       "      <td>19.7</td>\n",
       "      <td>25.7</td>\n",
       "      <td>77.4</td>\n",
       "      <td>NaN</td>\n",
       "      <td>0.0</td>\n",
       "      <td>NaN</td>\n",
       "      <td>NaN</td>\n",
       "      <td>...</td>\n",
       "      <td>6.0</td>\n",
       "      <td>88.0</td>\n",
       "      <td>74.0</td>\n",
       "      <td>1008.3</td>\n",
       "      <td>1004.8</td>\n",
       "      <td>8.0</td>\n",
       "      <td>8.0</td>\n",
       "      <td>22.5</td>\n",
       "      <td>25.5</td>\n",
       "      <td>Yes</td>\n",
       "    </tr>\n",
       "  </tbody>\n",
       "</table>\n",
       "<p>5 rows × 23 columns</p>\n",
       "</div>"
      ],
      "text/plain": [
       "      RainTomorrow        Date Location  MinTemp  MaxTemp  Rainfall  \\\n",
       "30176          Yes  2008-02-01   Sydney     19.5     22.4      15.6   \n",
       "30177          Yes  2008-02-02   Sydney     19.5     25.6       6.0   \n",
       "30178          Yes  2008-02-03   Sydney     21.6     24.5       6.6   \n",
       "30179          Yes  2008-02-04   Sydney     20.2     22.8      18.8   \n",
       "30180          Yes  2008-02-05   Sydney     19.7     25.7      77.4   \n",
       "\n",
       "       Evaporation  Sunshine WindGustDir  WindGustSpeed  ... WindSpeed3pm  \\\n",
       "30176          6.2       0.0         NaN            NaN  ...         20.0   \n",
       "30177          3.4       2.7         NaN            NaN  ...         13.0   \n",
       "30178          2.4       0.1         NaN            NaN  ...          2.0   \n",
       "30179          2.2       0.0         NaN            NaN  ...         20.0   \n",
       "30180          NaN       0.0         NaN            NaN  ...          6.0   \n",
       "\n",
       "      Humidity9am  Humidity3pm  Pressure9am  Pressure3pm  Cloud9am  Cloud3pm  \\\n",
       "30176        92.0         84.0       1017.6       1017.4       8.0       8.0   \n",
       "30177        83.0         73.0       1017.9       1016.4       7.0       7.0   \n",
       "30178        88.0         86.0       1016.7       1015.6       7.0       8.0   \n",
       "30179        83.0         90.0       1014.2       1011.8       8.0       8.0   \n",
       "30180        88.0         74.0       1008.3       1004.8       8.0       8.0   \n",
       "\n",
       "       Temp9am  Temp3pm  RainToday  \n",
       "30176     20.7     20.9        Yes  \n",
       "30177     22.4     24.8        Yes  \n",
       "30178     23.5     23.0        Yes  \n",
       "30179     21.4     20.9        Yes  \n",
       "30180     22.5     25.5        Yes  \n",
       "\n",
       "[5 rows x 23 columns]"
      ]
     },
     "execution_count": 7,
     "metadata": {},
     "output_type": "execute_result"
    }
   ],
   "source": [
    "#Create dataframe where Location is Sydney\n",
    "weather_syd=weather.query('Location == \"Sydney\"')\n",
    "weather_syd.head()"
   ]
  },
  {
   "cell_type": "code",
   "execution_count": 8,
   "metadata": {},
   "outputs": [
    {
     "data": {
      "text/plain": [
       "(3344, 23)"
      ]
     },
     "execution_count": 8,
     "metadata": {},
     "output_type": "execute_result"
    }
   ],
   "source": [
    "weather_syd.shape"
   ]
  },
  {
   "cell_type": "code",
   "execution_count": 9,
   "metadata": {},
   "outputs": [],
   "source": [
    "#Drop date and location fields, they are not needed.\n",
    "weather_syd=weather_syd.drop(['Date', 'Location'],axis=1)"
   ]
  },
  {
   "cell_type": "code",
   "execution_count": 10,
   "metadata": {},
   "outputs": [
    {
     "data": {
      "text/plain": [
       "RainTomorrow      object\n",
       "MinTemp          float64\n",
       "MaxTemp          float64\n",
       "Rainfall         float64\n",
       "Evaporation      float64\n",
       "Sunshine         float64\n",
       "WindGustDir       object\n",
       "WindGustSpeed    float64\n",
       "WindDir9am        object\n",
       "WindDir3pm        object\n",
       "WindSpeed9am     float64\n",
       "WindSpeed3pm     float64\n",
       "Humidity9am      float64\n",
       "Humidity3pm      float64\n",
       "Pressure9am      float64\n",
       "Pressure3pm      float64\n",
       "Cloud9am         float64\n",
       "Cloud3pm         float64\n",
       "Temp9am          float64\n",
       "Temp3pm          float64\n",
       "RainToday         object\n",
       "dtype: object"
      ]
     },
     "execution_count": 10,
     "metadata": {},
     "output_type": "execute_result"
    }
   ],
   "source": [
    "weather_syd.dtypes"
   ]
  },
  {
   "cell_type": "markdown",
   "metadata": {},
   "source": [
    "Breakdown of the attributes from source - \n",
    "\n",
    "<ul>\n",
    "<li>MinTemp - Minimum temperature in the 24 hours to 9am in degrees Celsius\n",
    "<li>MaxTemp - Maximum temperature in the 24 hours from 9am in degrees Celsius\n",
    "<li>Rainfall - \tPrecipitation (rainfall) in the 24 hours to 9am in millimeters\n",
    "<li>Evaporation - \"Class A\" pan evaporation in the 24 hours to 9am in millimeters\n",
    "<li>Sunshine - \tBright sunshine in the 24 hours to midnight in hours\n",
    "<li>WindGustDir - Direction of strongest gust in the 24 hours to midnight in compass points\n",
    "<li>WindGustSpeed - Speed of strongest wind gust in the 24 hours to midnight in kilometers per hour\n",
    "<li>WindDir9am - Wind direction averaged over 10 minutes prior to 9 am in compass points\n",
    "<li>WindDir3pm - Wind direction averaged over 10 minutes prior to 3 pm in compass points\n",
    "<li>WindSpeed9am - Wind speed averaged over 10 minutes prior to 9 am in kilometers per hour\n",
    "<li>WindSpeed3pm - Wind speed averaged over 10 minutes prior to 3 pm in kilometers per hour\n",
    "<li>Humidity9am - Relative humidity at 9 am in percent\n",
    "<li>Humidity3pm - Relative humidity at 3 pm in percent\n",
    "<li>Pressure9am - Atmospheric pressure reduced to mean sea level at 9 am in hectopascals\n",
    "<li>Pressure3pm - Atmospheric pressure reduced to mean sea level at 3 pm in hectopascals\n",
    "<li>Cloud9am - Fraction of sky obscured by cloud at 9 am in eighths\n",
    "<li>Cloud3pm - Fraction of sky obscured by cloud at 3 pm in eighths\n",
    "<li>Temp9am - Temperature at 9 am in degrees Celsius\n",
    "<li>Temp3pm - Temperature at 3 pm in degrees Celsius\n",
    "<li>RainToday - Yes/No if rained today more than 1mm+\n",
    "</ul>\n",
    "\n",
    "TARGET VARIABLE\n",
    "\n",
    "<ul>\n",
    "<li>RainTomorrow - Yes/No if rained tomorrow more than 1mm\n",
    "</ul>\n",
    "    \n",
    "Data was compiled and sourced from the Australian Government Bureau of Meteorology"
   ]
  },
  {
   "cell_type": "code",
   "execution_count": 11,
   "metadata": {},
   "outputs": [],
   "source": [
    "#Check for Null Values\n",
    "#weather.isna().any() - omitted for space"
   ]
  },
  {
   "cell_type": "markdown",
   "metadata": {},
   "source": [
    "Lots of NaN in this dataframe. I am going to fill the integer/float values with thier variable mean, and since the categorical variables are mostly cardinal directions, I am going to remove those rows from the dataset. We have roughly 3,300 observations to work with, so we can lose some."
   ]
  },
  {
   "cell_type": "code",
   "execution_count": 12,
   "metadata": {},
   "outputs": [],
   "source": [
    "for col in weather_syd.columns[1:]:\n",
    "    dType = weather_syd[col].dtype\n",
    "    if dType == float or dType == int:\n",
    "        weather_syd[col].fillna(value=weather_syd[col].mean(), inplace=True)"
   ]
  },
  {
   "cell_type": "code",
   "execution_count": 13,
   "metadata": {},
   "outputs": [],
   "source": [
    "#weather.isna().any() - omitted for space"
   ]
  },
  {
   "cell_type": "code",
   "execution_count": 14,
   "metadata": {},
   "outputs": [],
   "source": [
    "# Drop remaining NaN values. They are not needed.\n",
    "weather_syd.dropna(inplace=True)"
   ]
  },
  {
   "cell_type": "code",
   "execution_count": 15,
   "metadata": {},
   "outputs": [
    {
     "data": {
      "text/plain": [
       "RainTomorrow     False\n",
       "MinTemp          False\n",
       "MaxTemp          False\n",
       "Rainfall         False\n",
       "Evaporation      False\n",
       "Sunshine         False\n",
       "WindGustDir      False\n",
       "WindGustSpeed    False\n",
       "WindDir9am       False\n",
       "WindDir3pm       False\n",
       "WindSpeed9am     False\n",
       "WindSpeed3pm     False\n",
       "Humidity9am      False\n",
       "Humidity3pm      False\n",
       "Pressure9am      False\n",
       "Pressure3pm      False\n",
       "Cloud9am         False\n",
       "Cloud3pm         False\n",
       "Temp9am          False\n",
       "Temp3pm          False\n",
       "RainToday        False\n",
       "dtype: bool"
      ]
     },
     "execution_count": 15,
     "metadata": {},
     "output_type": "execute_result"
    }
   ],
   "source": [
    "weather_syd.isna().any()"
   ]
  },
  {
   "cell_type": "code",
   "execution_count": 16,
   "metadata": {},
   "outputs": [
    {
     "data": {
      "text/plain": [
       "(2285, 21)"
      ]
     },
     "execution_count": 16,
     "metadata": {},
     "output_type": "execute_result"
    }
   ],
   "source": [
    "weather_syd.shape"
   ]
  },
  {
   "cell_type": "markdown",
   "metadata": {},
   "source": [
    "We still have over 2,000 observations to work with! Let's explore some of the characteristics."
   ]
  },
  {
   "cell_type": "code",
   "execution_count": 17,
   "metadata": {},
   "outputs": [],
   "source": [
    "#Convert Target variable from Yes/No to a 0 and 1\n",
    "le_dep = preprocessing.LabelEncoder()\n",
    "weather_syd['RainTomorrow'] = le_dep.fit_transform(weather_syd['RainTomorrow'])"
   ]
  },
  {
   "cell_type": "code",
   "execution_count": 18,
   "metadata": {},
   "outputs": [
    {
     "data": {
      "text/html": [
       "<div>\n",
       "<style scoped>\n",
       "    .dataframe tbody tr th:only-of-type {\n",
       "        vertical-align: middle;\n",
       "    }\n",
       "\n",
       "    .dataframe tbody tr th {\n",
       "        vertical-align: top;\n",
       "    }\n",
       "\n",
       "    .dataframe thead th {\n",
       "        text-align: right;\n",
       "    }\n",
       "</style>\n",
       "<table border=\"1\" class=\"dataframe\">\n",
       "  <thead>\n",
       "    <tr style=\"text-align: right;\">\n",
       "      <th></th>\n",
       "      <th>RainTomorrow</th>\n",
       "      <th>MinTemp</th>\n",
       "      <th>MaxTemp</th>\n",
       "      <th>Rainfall</th>\n",
       "      <th>Evaporation</th>\n",
       "      <th>Sunshine</th>\n",
       "      <th>WindGustSpeed</th>\n",
       "      <th>WindSpeed9am</th>\n",
       "      <th>WindSpeed3pm</th>\n",
       "      <th>Humidity9am</th>\n",
       "      <th>...</th>\n",
       "      <th>WindDir3pm_NW</th>\n",
       "      <th>WindDir3pm_S</th>\n",
       "      <th>WindDir3pm_SE</th>\n",
       "      <th>WindDir3pm_SSE</th>\n",
       "      <th>WindDir3pm_SSW</th>\n",
       "      <th>WindDir3pm_SW</th>\n",
       "      <th>WindDir3pm_W</th>\n",
       "      <th>WindDir3pm_WNW</th>\n",
       "      <th>WindDir3pm_WSW</th>\n",
       "      <th>RainToday_Yes</th>\n",
       "    </tr>\n",
       "  </thead>\n",
       "  <tbody>\n",
       "    <tr>\n",
       "      <th>31156</th>\n",
       "      <td>0</td>\n",
       "      <td>13.8</td>\n",
       "      <td>19.5</td>\n",
       "      <td>0.0</td>\n",
       "      <td>4.6</td>\n",
       "      <td>9.5</td>\n",
       "      <td>35.0</td>\n",
       "      <td>4.0</td>\n",
       "      <td>19.0</td>\n",
       "      <td>73.0</td>\n",
       "      <td>...</td>\n",
       "      <td>0</td>\n",
       "      <td>0</td>\n",
       "      <td>0</td>\n",
       "      <td>0</td>\n",
       "      <td>0</td>\n",
       "      <td>0</td>\n",
       "      <td>0</td>\n",
       "      <td>0</td>\n",
       "      <td>0</td>\n",
       "      <td>0</td>\n",
       "    </tr>\n",
       "    <tr>\n",
       "      <th>31159</th>\n",
       "      <td>0</td>\n",
       "      <td>16.5</td>\n",
       "      <td>21.1</td>\n",
       "      <td>1.2</td>\n",
       "      <td>6.2</td>\n",
       "      <td>6.6</td>\n",
       "      <td>56.0</td>\n",
       "      <td>26.0</td>\n",
       "      <td>20.0</td>\n",
       "      <td>62.0</td>\n",
       "      <td>...</td>\n",
       "      <td>0</td>\n",
       "      <td>0</td>\n",
       "      <td>0</td>\n",
       "      <td>0</td>\n",
       "      <td>0</td>\n",
       "      <td>0</td>\n",
       "      <td>0</td>\n",
       "      <td>0</td>\n",
       "      <td>0</td>\n",
       "      <td>1</td>\n",
       "    </tr>\n",
       "    <tr>\n",
       "      <th>31160</th>\n",
       "      <td>0</td>\n",
       "      <td>16.4</td>\n",
       "      <td>21.8</td>\n",
       "      <td>1.0</td>\n",
       "      <td>6.0</td>\n",
       "      <td>5.9</td>\n",
       "      <td>50.0</td>\n",
       "      <td>13.0</td>\n",
       "      <td>28.0</td>\n",
       "      <td>82.0</td>\n",
       "      <td>...</td>\n",
       "      <td>0</td>\n",
       "      <td>0</td>\n",
       "      <td>0</td>\n",
       "      <td>0</td>\n",
       "      <td>0</td>\n",
       "      <td>0</td>\n",
       "      <td>0</td>\n",
       "      <td>0</td>\n",
       "      <td>0</td>\n",
       "      <td>0</td>\n",
       "    </tr>\n",
       "    <tr>\n",
       "      <th>31161</th>\n",
       "      <td>1</td>\n",
       "      <td>16.7</td>\n",
       "      <td>23.9</td>\n",
       "      <td>0.4</td>\n",
       "      <td>7.0</td>\n",
       "      <td>2.8</td>\n",
       "      <td>39.0</td>\n",
       "      <td>7.0</td>\n",
       "      <td>19.0</td>\n",
       "      <td>81.0</td>\n",
       "      <td>...</td>\n",
       "      <td>0</td>\n",
       "      <td>0</td>\n",
       "      <td>0</td>\n",
       "      <td>0</td>\n",
       "      <td>0</td>\n",
       "      <td>0</td>\n",
       "      <td>0</td>\n",
       "      <td>0</td>\n",
       "      <td>0</td>\n",
       "      <td>0</td>\n",
       "    </tr>\n",
       "    <tr>\n",
       "      <th>31162</th>\n",
       "      <td>0</td>\n",
       "      <td>17.8</td>\n",
       "      <td>28.9</td>\n",
       "      <td>2.0</td>\n",
       "      <td>4.0</td>\n",
       "      <td>10.8</td>\n",
       "      <td>41.0</td>\n",
       "      <td>22.0</td>\n",
       "      <td>17.0</td>\n",
       "      <td>63.0</td>\n",
       "      <td>...</td>\n",
       "      <td>0</td>\n",
       "      <td>0</td>\n",
       "      <td>0</td>\n",
       "      <td>0</td>\n",
       "      <td>0</td>\n",
       "      <td>0</td>\n",
       "      <td>0</td>\n",
       "      <td>0</td>\n",
       "      <td>0</td>\n",
       "      <td>1</td>\n",
       "    </tr>\n",
       "  </tbody>\n",
       "</table>\n",
       "<p>5 rows × 63 columns</p>\n",
       "</div>"
      ],
      "text/plain": [
       "       RainTomorrow  MinTemp  MaxTemp  Rainfall  Evaporation  Sunshine  \\\n",
       "31156             0     13.8     19.5       0.0          4.6       9.5   \n",
       "31159             0     16.5     21.1       1.2          6.2       6.6   \n",
       "31160             0     16.4     21.8       1.0          6.0       5.9   \n",
       "31161             1     16.7     23.9       0.4          7.0       2.8   \n",
       "31162             0     17.8     28.9       2.0          4.0      10.8   \n",
       "\n",
       "       WindGustSpeed  WindSpeed9am  WindSpeed3pm  Humidity9am  ...  \\\n",
       "31156           35.0           4.0          19.0         73.0  ...   \n",
       "31159           56.0          26.0          20.0         62.0  ...   \n",
       "31160           50.0          13.0          28.0         82.0  ...   \n",
       "31161           39.0           7.0          19.0         81.0  ...   \n",
       "31162           41.0          22.0          17.0         63.0  ...   \n",
       "\n",
       "       WindDir3pm_NW  WindDir3pm_S  WindDir3pm_SE  WindDir3pm_SSE  \\\n",
       "31156              0             0              0               0   \n",
       "31159              0             0              0               0   \n",
       "31160              0             0              0               0   \n",
       "31161              0             0              0               0   \n",
       "31162              0             0              0               0   \n",
       "\n",
       "       WindDir3pm_SSW  WindDir3pm_SW  WindDir3pm_W  WindDir3pm_WNW  \\\n",
       "31156               0              0             0               0   \n",
       "31159               0              0             0               0   \n",
       "31160               0              0             0               0   \n",
       "31161               0              0             0               0   \n",
       "31162               0              0             0               0   \n",
       "\n",
       "       WindDir3pm_WSW  RainToday_Yes  \n",
       "31156               0              0  \n",
       "31159               0              1  \n",
       "31160               0              0  \n",
       "31161               0              0  \n",
       "31162               0              1  \n",
       "\n",
       "[5 rows x 63 columns]"
      ]
     },
     "execution_count": 18,
     "metadata": {},
     "output_type": "execute_result"
    }
   ],
   "source": [
    "#Convert remaining object fields into dummy variables, stored as new dataframe, weather_d.\n",
    "#Dropping first of each dummy to keep feature space manageable.\n",
    "weather_syd_d = pd.get_dummies(weather_syd, drop_first = True)\n",
    "weather_syd_d.head()"
   ]
  },
  {
   "cell_type": "markdown",
   "metadata": {},
   "source": [
    "# Exploratory Data Analysis"
   ]
  },
  {
   "cell_type": "code",
   "execution_count": 19,
   "metadata": {},
   "outputs": [
    {
     "data": {
      "text/html": [
       "<div>\n",
       "<style scoped>\n",
       "    .dataframe tbody tr th:only-of-type {\n",
       "        vertical-align: middle;\n",
       "    }\n",
       "\n",
       "    .dataframe tbody tr th {\n",
       "        vertical-align: top;\n",
       "    }\n",
       "\n",
       "    .dataframe thead th {\n",
       "        text-align: right;\n",
       "    }\n",
       "</style>\n",
       "<table border=\"1\" class=\"dataframe\">\n",
       "  <thead>\n",
       "    <tr style=\"text-align: right;\">\n",
       "      <th></th>\n",
       "      <th>RainTomorrow</th>\n",
       "      <th>MinTemp</th>\n",
       "      <th>MaxTemp</th>\n",
       "      <th>Rainfall</th>\n",
       "      <th>Evaporation</th>\n",
       "      <th>Sunshine</th>\n",
       "      <th>WindGustSpeed</th>\n",
       "      <th>WindSpeed9am</th>\n",
       "      <th>WindSpeed3pm</th>\n",
       "      <th>Humidity9am</th>\n",
       "      <th>...</th>\n",
       "      <th>WindDir3pm_NW</th>\n",
       "      <th>WindDir3pm_S</th>\n",
       "      <th>WindDir3pm_SE</th>\n",
       "      <th>WindDir3pm_SSE</th>\n",
       "      <th>WindDir3pm_SSW</th>\n",
       "      <th>WindDir3pm_SW</th>\n",
       "      <th>WindDir3pm_W</th>\n",
       "      <th>WindDir3pm_WNW</th>\n",
       "      <th>WindDir3pm_WSW</th>\n",
       "      <th>RainToday_Yes</th>\n",
       "    </tr>\n",
       "  </thead>\n",
       "  <tbody>\n",
       "    <tr>\n",
       "      <th>count</th>\n",
       "      <td>2285.000000</td>\n",
       "      <td>2285.000000</td>\n",
       "      <td>2285.000000</td>\n",
       "      <td>2285.000000</td>\n",
       "      <td>2285.000000</td>\n",
       "      <td>2285.000000</td>\n",
       "      <td>2285.000000</td>\n",
       "      <td>2285.000000</td>\n",
       "      <td>2285.000000</td>\n",
       "      <td>2285.000000</td>\n",
       "      <td>...</td>\n",
       "      <td>2285.000000</td>\n",
       "      <td>2285.000000</td>\n",
       "      <td>2285.000000</td>\n",
       "      <td>2285.000000</td>\n",
       "      <td>2285.000000</td>\n",
       "      <td>2285.000000</td>\n",
       "      <td>2285.000000</td>\n",
       "      <td>2285.000000</td>\n",
       "      <td>2285.000000</td>\n",
       "      <td>2285.000000</td>\n",
       "    </tr>\n",
       "    <tr>\n",
       "      <th>mean</th>\n",
       "      <td>0.260832</td>\n",
       "      <td>15.051116</td>\n",
       "      <td>23.280700</td>\n",
       "      <td>3.495492</td>\n",
       "      <td>5.311734</td>\n",
       "      <td>7.190440</td>\n",
       "      <td>41.760613</td>\n",
       "      <td>15.303282</td>\n",
       "      <td>19.751422</td>\n",
       "      <td>67.622172</td>\n",
       "      <td>...</td>\n",
       "      <td>0.018818</td>\n",
       "      <td>0.070460</td>\n",
       "      <td>0.063457</td>\n",
       "      <td>0.087090</td>\n",
       "      <td>0.048140</td>\n",
       "      <td>0.013129</td>\n",
       "      <td>0.055142</td>\n",
       "      <td>0.055142</td>\n",
       "      <td>0.035886</td>\n",
       "      <td>0.261707</td>\n",
       "    </tr>\n",
       "    <tr>\n",
       "      <th>std</th>\n",
       "      <td>0.439184</td>\n",
       "      <td>4.543949</td>\n",
       "      <td>4.491279</td>\n",
       "      <td>10.497717</td>\n",
       "      <td>2.784595</td>\n",
       "      <td>3.818992</td>\n",
       "      <td>12.974008</td>\n",
       "      <td>6.939280</td>\n",
       "      <td>7.456553</td>\n",
       "      <td>14.950889</td>\n",
       "      <td>...</td>\n",
       "      <td>0.135913</td>\n",
       "      <td>0.255976</td>\n",
       "      <td>0.243837</td>\n",
       "      <td>0.282028</td>\n",
       "      <td>0.214109</td>\n",
       "      <td>0.113853</td>\n",
       "      <td>0.228308</td>\n",
       "      <td>0.228308</td>\n",
       "      <td>0.186047</td>\n",
       "      <td>0.439660</td>\n",
       "    </tr>\n",
       "    <tr>\n",
       "      <th>min</th>\n",
       "      <td>0.000000</td>\n",
       "      <td>5.000000</td>\n",
       "      <td>11.700000</td>\n",
       "      <td>0.000000</td>\n",
       "      <td>0.000000</td>\n",
       "      <td>0.000000</td>\n",
       "      <td>17.000000</td>\n",
       "      <td>2.000000</td>\n",
       "      <td>2.000000</td>\n",
       "      <td>19.000000</td>\n",
       "      <td>...</td>\n",
       "      <td>0.000000</td>\n",
       "      <td>0.000000</td>\n",
       "      <td>0.000000</td>\n",
       "      <td>0.000000</td>\n",
       "      <td>0.000000</td>\n",
       "      <td>0.000000</td>\n",
       "      <td>0.000000</td>\n",
       "      <td>0.000000</td>\n",
       "      <td>0.000000</td>\n",
       "      <td>0.000000</td>\n",
       "    </tr>\n",
       "    <tr>\n",
       "      <th>25%</th>\n",
       "      <td>0.000000</td>\n",
       "      <td>11.200000</td>\n",
       "      <td>20.000000</td>\n",
       "      <td>0.000000</td>\n",
       "      <td>3.200000</td>\n",
       "      <td>4.300000</td>\n",
       "      <td>31.000000</td>\n",
       "      <td>11.000000</td>\n",
       "      <td>15.000000</td>\n",
       "      <td>58.000000</td>\n",
       "      <td>...</td>\n",
       "      <td>0.000000</td>\n",
       "      <td>0.000000</td>\n",
       "      <td>0.000000</td>\n",
       "      <td>0.000000</td>\n",
       "      <td>0.000000</td>\n",
       "      <td>0.000000</td>\n",
       "      <td>0.000000</td>\n",
       "      <td>0.000000</td>\n",
       "      <td>0.000000</td>\n",
       "      <td>0.000000</td>\n",
       "    </tr>\n",
       "    <tr>\n",
       "      <th>50%</th>\n",
       "      <td>0.000000</td>\n",
       "      <td>15.200000</td>\n",
       "      <td>23.200000</td>\n",
       "      <td>0.000000</td>\n",
       "      <td>5.000000</td>\n",
       "      <td>8.200000</td>\n",
       "      <td>41.000000</td>\n",
       "      <td>15.000000</td>\n",
       "      <td>20.000000</td>\n",
       "      <td>68.000000</td>\n",
       "      <td>...</td>\n",
       "      <td>0.000000</td>\n",
       "      <td>0.000000</td>\n",
       "      <td>0.000000</td>\n",
       "      <td>0.000000</td>\n",
       "      <td>0.000000</td>\n",
       "      <td>0.000000</td>\n",
       "      <td>0.000000</td>\n",
       "      <td>0.000000</td>\n",
       "      <td>0.000000</td>\n",
       "      <td>0.000000</td>\n",
       "    </tr>\n",
       "    <tr>\n",
       "      <th>75%</th>\n",
       "      <td>1.000000</td>\n",
       "      <td>18.900000</td>\n",
       "      <td>26.300000</td>\n",
       "      <td>1.400000</td>\n",
       "      <td>7.200000</td>\n",
       "      <td>10.200000</td>\n",
       "      <td>50.000000</td>\n",
       "      <td>20.000000</td>\n",
       "      <td>24.000000</td>\n",
       "      <td>79.000000</td>\n",
       "      <td>...</td>\n",
       "      <td>0.000000</td>\n",
       "      <td>0.000000</td>\n",
       "      <td>0.000000</td>\n",
       "      <td>0.000000</td>\n",
       "      <td>0.000000</td>\n",
       "      <td>0.000000</td>\n",
       "      <td>0.000000</td>\n",
       "      <td>0.000000</td>\n",
       "      <td>0.000000</td>\n",
       "      <td>1.000000</td>\n",
       "    </tr>\n",
       "    <tr>\n",
       "      <th>max</th>\n",
       "      <td>1.000000</td>\n",
       "      <td>27.600000</td>\n",
       "      <td>45.800000</td>\n",
       "      <td>119.400000</td>\n",
       "      <td>18.400000</td>\n",
       "      <td>13.600000</td>\n",
       "      <td>96.000000</td>\n",
       "      <td>54.000000</td>\n",
       "      <td>57.000000</td>\n",
       "      <td>100.000000</td>\n",
       "      <td>...</td>\n",
       "      <td>1.000000</td>\n",
       "      <td>1.000000</td>\n",
       "      <td>1.000000</td>\n",
       "      <td>1.000000</td>\n",
       "      <td>1.000000</td>\n",
       "      <td>1.000000</td>\n",
       "      <td>1.000000</td>\n",
       "      <td>1.000000</td>\n",
       "      <td>1.000000</td>\n",
       "      <td>1.000000</td>\n",
       "    </tr>\n",
       "  </tbody>\n",
       "</table>\n",
       "<p>8 rows × 63 columns</p>\n",
       "</div>"
      ],
      "text/plain": [
       "       RainTomorrow      MinTemp      MaxTemp     Rainfall  Evaporation  \\\n",
       "count   2285.000000  2285.000000  2285.000000  2285.000000  2285.000000   \n",
       "mean       0.260832    15.051116    23.280700     3.495492     5.311734   \n",
       "std        0.439184     4.543949     4.491279    10.497717     2.784595   \n",
       "min        0.000000     5.000000    11.700000     0.000000     0.000000   \n",
       "25%        0.000000    11.200000    20.000000     0.000000     3.200000   \n",
       "50%        0.000000    15.200000    23.200000     0.000000     5.000000   \n",
       "75%        1.000000    18.900000    26.300000     1.400000     7.200000   \n",
       "max        1.000000    27.600000    45.800000   119.400000    18.400000   \n",
       "\n",
       "          Sunshine  WindGustSpeed  WindSpeed9am  WindSpeed3pm  Humidity9am  \\\n",
       "count  2285.000000    2285.000000   2285.000000   2285.000000  2285.000000   \n",
       "mean      7.190440      41.760613     15.303282     19.751422    67.622172   \n",
       "std       3.818992      12.974008      6.939280      7.456553    14.950889   \n",
       "min       0.000000      17.000000      2.000000      2.000000    19.000000   \n",
       "25%       4.300000      31.000000     11.000000     15.000000    58.000000   \n",
       "50%       8.200000      41.000000     15.000000     20.000000    68.000000   \n",
       "75%      10.200000      50.000000     20.000000     24.000000    79.000000   \n",
       "max      13.600000      96.000000     54.000000     57.000000   100.000000   \n",
       "\n",
       "       ...  WindDir3pm_NW  WindDir3pm_S  WindDir3pm_SE  WindDir3pm_SSE  \\\n",
       "count  ...    2285.000000   2285.000000    2285.000000     2285.000000   \n",
       "mean   ...       0.018818      0.070460       0.063457        0.087090   \n",
       "std    ...       0.135913      0.255976       0.243837        0.282028   \n",
       "min    ...       0.000000      0.000000       0.000000        0.000000   \n",
       "25%    ...       0.000000      0.000000       0.000000        0.000000   \n",
       "50%    ...       0.000000      0.000000       0.000000        0.000000   \n",
       "75%    ...       0.000000      0.000000       0.000000        0.000000   \n",
       "max    ...       1.000000      1.000000       1.000000        1.000000   \n",
       "\n",
       "       WindDir3pm_SSW  WindDir3pm_SW  WindDir3pm_W  WindDir3pm_WNW  \\\n",
       "count     2285.000000    2285.000000   2285.000000     2285.000000   \n",
       "mean         0.048140       0.013129      0.055142        0.055142   \n",
       "std          0.214109       0.113853      0.228308        0.228308   \n",
       "min          0.000000       0.000000      0.000000        0.000000   \n",
       "25%          0.000000       0.000000      0.000000        0.000000   \n",
       "50%          0.000000       0.000000      0.000000        0.000000   \n",
       "75%          0.000000       0.000000      0.000000        0.000000   \n",
       "max          1.000000       1.000000      1.000000        1.000000   \n",
       "\n",
       "       WindDir3pm_WSW  RainToday_Yes  \n",
       "count     2285.000000    2285.000000  \n",
       "mean         0.035886       0.261707  \n",
       "std          0.186047       0.439660  \n",
       "min          0.000000       0.000000  \n",
       "25%          0.000000       0.000000  \n",
       "50%          0.000000       0.000000  \n",
       "75%          0.000000       1.000000  \n",
       "max          1.000000       1.000000  \n",
       "\n",
       "[8 rows x 63 columns]"
      ]
     },
     "execution_count": 19,
     "metadata": {},
     "output_type": "execute_result"
    }
   ],
   "source": [
    "weather_syd_d.describe()"
   ]
  },
  {
   "cell_type": "markdown",
   "metadata": {},
   "source": [
    "Right away we can see that there is a wide range of weather happening in Sydney. Temperatures are ranging from 5 deg to 45.8 deg C. We can also see that more often than not, it does not rain in Sydney. Let's visualize the proportions of rain or no rain."
   ]
  },
  {
   "cell_type": "code",
   "execution_count": 20,
   "metadata": {},
   "outputs": [
    {
     "name": "stdout",
     "output_type": "stream",
     "text": [
      "RainTomorrow\n",
      "0    1689\n",
      "1     596\n",
      "Name: RainTomorrow, dtype: int64\n"
     ]
    },
    {
     "data": {
      "text/plain": [
       "<matplotlib.lines.Line2D at 0x7f80c5b85c70>"
      ]
     },
     "execution_count": 20,
     "metadata": {},
     "output_type": "execute_result"
    },
    {
     "data": {
      "image/png": "[encoded data removed]",
      "text/plain": [
       "<Figure size 432x288 with 1 Axes>"
      ]
     },
     "metadata": {
      "needs_background": "light"
     },
     "output_type": "display_data"
    }
   ],
   "source": [
    "#Visualizing the difference in scale of wins between Blue (1) and Red (0) corners\n",
    "groupby = weather_syd_d.groupby(['RainTomorrow'])\n",
    "targetEDA=groupby['RainTomorrow'].aggregate(len)\n",
    "print(targetEDA)\n",
    "plt.figure()\n",
    "targetEDA.plot(kind='bar', grid=False)\n",
    "plt.axhline(0, color='k')"
   ]
  },
  {
   "cell_type": "markdown",
   "metadata": {},
   "source": [
    "We can see from this graph and matrix that the data is fairly skewed to No rain, or 0. It appears that it only rains about 26% of the time in Sydney. Using this frequency, we can determine that for our models to be predictively significant, they need to be at least 74% accurate. Accuracy will be a good measurement for these models, and we will also need to pay attention to the recall and precision of Yes, or 1, to help us find our optimal model.\n",
    "\n",
    "Let's see what other kind of information we can find in our EDA."
   ]
  },
  {
   "cell_type": "markdown",
   "metadata": {},
   "source": [
    "### Correlation Analysis"
   ]
  },
  {
   "cell_type": "code",
   "execution_count": 21,
   "metadata": {},
   "outputs": [
    {
     "data": {
      "image/png": "[encoded data removed]",
      "text/plain": [
       "<Figure size 1080x1080 with 2 Axes>"
      ]
     },
     "metadata": {
      "needs_background": "light"
     },
     "output_type": "display_data"
    }
   ],
   "source": [
    "#Create correlation matrix\n",
    "corr_matrix = weather_syd.iloc[:,1:].corr()\n",
    "corr_matrix\n",
    "\n",
    "import seaborn as sns\n",
    "\n",
    "plt.figure(figsize=(15,15)) #need to adjust size as needed.\n",
    "mask = np.zeros_like(corr_matrix, dtype=np.bool)\n",
    "mask[np.triu_indices_from(mask)] = True\n",
    "\n",
    "sns.heatmap(corr_matrix,\n",
    "           vmin=-1,\n",
    "           vmax=1,\n",
    "           cmap='coolwarm',\n",
    "           annot=True,\n",
    "           mask=mask)\n",
    "plt.show()"
   ]
  },
  {
   "cell_type": "markdown",
   "metadata": {},
   "source": [
    "We can see some correlation happening between a handfull of our variables. First, we can see that both Cloud9am and Cloud3pm are negatively correlated to Sunshing, which makes sense. The more Sunshine, the less Cloud. We can also see that the temperatures and pressure from at 9am and 3pm are positively corelated. This also logically makes sense, unless we were to see a big change in those measurements at midday, they would stay relatively consistent.\n",
    "\n",
    "At this stage we should be able to reduce our feature space a bit, cutting out some of the correlated variables. We will plan to remove Temp9am, Pressure9am, MinTemp, and Cloud9am. I am choosing to eliminate the 9am variables to keep them consistent, noting that the weather later in the day being closer to the following prediction day."
   ]
  },
  {
   "cell_type": "code",
   "execution_count": 22,
   "metadata": {},
   "outputs": [],
   "source": [
    "weather_syd_d.drop(columns=['Temp9am', 'Pressure9am', 'MinTemp', 'Cloud9am'], inplace=True)"
   ]
  },
  {
   "cell_type": "code",
   "execution_count": 23,
   "metadata": {},
   "outputs": [
    {
     "data": {
      "text/html": [
       "<div>\n",
       "<style scoped>\n",
       "    .dataframe tbody tr th:only-of-type {\n",
       "        vertical-align: middle;\n",
       "    }\n",
       "\n",
       "    .dataframe tbody tr th {\n",
       "        vertical-align: top;\n",
       "    }\n",
       "\n",
       "    .dataframe thead th {\n",
       "        text-align: right;\n",
       "    }\n",
       "</style>\n",
       "<table border=\"1\" class=\"dataframe\">\n",
       "  <thead>\n",
       "    <tr style=\"text-align: right;\">\n",
       "      <th></th>\n",
       "      <th>RainTomorrow</th>\n",
       "      <th>MaxTemp</th>\n",
       "      <th>Rainfall</th>\n",
       "      <th>Evaporation</th>\n",
       "      <th>Sunshine</th>\n",
       "      <th>WindGustSpeed</th>\n",
       "      <th>WindSpeed9am</th>\n",
       "      <th>WindSpeed3pm</th>\n",
       "      <th>Humidity9am</th>\n",
       "      <th>Humidity3pm</th>\n",
       "      <th>...</th>\n",
       "      <th>WindDir3pm_NW</th>\n",
       "      <th>WindDir3pm_S</th>\n",
       "      <th>WindDir3pm_SE</th>\n",
       "      <th>WindDir3pm_SSE</th>\n",
       "      <th>WindDir3pm_SSW</th>\n",
       "      <th>WindDir3pm_SW</th>\n",
       "      <th>WindDir3pm_W</th>\n",
       "      <th>WindDir3pm_WNW</th>\n",
       "      <th>WindDir3pm_WSW</th>\n",
       "      <th>RainToday_Yes</th>\n",
       "    </tr>\n",
       "  </thead>\n",
       "  <tbody>\n",
       "    <tr>\n",
       "      <th>31156</th>\n",
       "      <td>0</td>\n",
       "      <td>19.5</td>\n",
       "      <td>0.0</td>\n",
       "      <td>4.6</td>\n",
       "      <td>9.5</td>\n",
       "      <td>35.0</td>\n",
       "      <td>4.0</td>\n",
       "      <td>19.0</td>\n",
       "      <td>73.0</td>\n",
       "      <td>56.0</td>\n",
       "      <td>...</td>\n",
       "      <td>0</td>\n",
       "      <td>0</td>\n",
       "      <td>0</td>\n",
       "      <td>0</td>\n",
       "      <td>0</td>\n",
       "      <td>0</td>\n",
       "      <td>0</td>\n",
       "      <td>0</td>\n",
       "      <td>0</td>\n",
       "      <td>0</td>\n",
       "    </tr>\n",
       "    <tr>\n",
       "      <th>31159</th>\n",
       "      <td>0</td>\n",
       "      <td>21.1</td>\n",
       "      <td>1.2</td>\n",
       "      <td>6.2</td>\n",
       "      <td>6.6</td>\n",
       "      <td>56.0</td>\n",
       "      <td>26.0</td>\n",
       "      <td>20.0</td>\n",
       "      <td>62.0</td>\n",
       "      <td>55.0</td>\n",
       "      <td>...</td>\n",
       "      <td>0</td>\n",
       "      <td>0</td>\n",
       "      <td>0</td>\n",
       "      <td>0</td>\n",
       "      <td>0</td>\n",
       "      <td>0</td>\n",
       "      <td>0</td>\n",
       "      <td>0</td>\n",
       "      <td>0</td>\n",
       "      <td>1</td>\n",
       "    </tr>\n",
       "    <tr>\n",
       "      <th>31160</th>\n",
       "      <td>0</td>\n",
       "      <td>21.8</td>\n",
       "      <td>1.0</td>\n",
       "      <td>6.0</td>\n",
       "      <td>5.9</td>\n",
       "      <td>50.0</td>\n",
       "      <td>13.0</td>\n",
       "      <td>28.0</td>\n",
       "      <td>82.0</td>\n",
       "      <td>58.0</td>\n",
       "      <td>...</td>\n",
       "      <td>0</td>\n",
       "      <td>0</td>\n",
       "      <td>0</td>\n",
       "      <td>0</td>\n",
       "      <td>0</td>\n",
       "      <td>0</td>\n",
       "      <td>0</td>\n",
       "      <td>0</td>\n",
       "      <td>0</td>\n",
       "      <td>0</td>\n",
       "    </tr>\n",
       "    <tr>\n",
       "      <th>31161</th>\n",
       "      <td>1</td>\n",
       "      <td>23.9</td>\n",
       "      <td>0.4</td>\n",
       "      <td>7.0</td>\n",
       "      <td>2.8</td>\n",
       "      <td>39.0</td>\n",
       "      <td>7.0</td>\n",
       "      <td>19.0</td>\n",
       "      <td>81.0</td>\n",
       "      <td>64.0</td>\n",
       "      <td>...</td>\n",
       "      <td>0</td>\n",
       "      <td>0</td>\n",
       "      <td>0</td>\n",
       "      <td>0</td>\n",
       "      <td>0</td>\n",
       "      <td>0</td>\n",
       "      <td>0</td>\n",
       "      <td>0</td>\n",
       "      <td>0</td>\n",
       "      <td>0</td>\n",
       "    </tr>\n",
       "    <tr>\n",
       "      <th>31162</th>\n",
       "      <td>0</td>\n",
       "      <td>28.9</td>\n",
       "      <td>2.0</td>\n",
       "      <td>4.0</td>\n",
       "      <td>10.8</td>\n",
       "      <td>41.0</td>\n",
       "      <td>22.0</td>\n",
       "      <td>17.0</td>\n",
       "      <td>63.0</td>\n",
       "      <td>48.0</td>\n",
       "      <td>...</td>\n",
       "      <td>0</td>\n",
       "      <td>0</td>\n",
       "      <td>0</td>\n",
       "      <td>0</td>\n",
       "      <td>0</td>\n",
       "      <td>0</td>\n",
       "      <td>0</td>\n",
       "      <td>0</td>\n",
       "      <td>0</td>\n",
       "      <td>1</td>\n",
       "    </tr>\n",
       "  </tbody>\n",
       "</table>\n",
       "<p>5 rows × 59 columns</p>\n",
       "</div>"
      ],
      "text/plain": [
       "       RainTomorrow  MaxTemp  Rainfall  Evaporation  Sunshine  WindGustSpeed  \\\n",
       "31156             0     19.5       0.0          4.6       9.5           35.0   \n",
       "31159             0     21.1       1.2          6.2       6.6           56.0   \n",
       "31160             0     21.8       1.0          6.0       5.9           50.0   \n",
       "31161             1     23.9       0.4          7.0       2.8           39.0   \n",
       "31162             0     28.9       2.0          4.0      10.8           41.0   \n",
       "\n",
       "       WindSpeed9am  WindSpeed3pm  Humidity9am  Humidity3pm  ...  \\\n",
       "31156           4.0          19.0         73.0         56.0  ...   \n",
       "31159          26.0          20.0         62.0         55.0  ...   \n",
       "31160          13.0          28.0         82.0         58.0  ...   \n",
       "31161           7.0          19.0         81.0         64.0  ...   \n",
       "31162          22.0          17.0         63.0         48.0  ...   \n",
       "\n",
       "       WindDir3pm_NW  WindDir3pm_S  WindDir3pm_SE  WindDir3pm_SSE  \\\n",
       "31156              0             0              0               0   \n",
       "31159              0             0              0               0   \n",
       "31160              0             0              0               0   \n",
       "31161              0             0              0               0   \n",
       "31162              0             0              0               0   \n",
       "\n",
       "       WindDir3pm_SSW  WindDir3pm_SW  WindDir3pm_W  WindDir3pm_WNW  \\\n",
       "31156               0              0             0               0   \n",
       "31159               0              0             0               0   \n",
       "31160               0              0             0               0   \n",
       "31161               0              0             0               0   \n",
       "31162               0              0             0               0   \n",
       "\n",
       "       WindDir3pm_WSW  RainToday_Yes  \n",
       "31156               0              0  \n",
       "31159               0              1  \n",
       "31160               0              0  \n",
       "31161               0              0  \n",
       "31162               0              1  \n",
       "\n",
       "[5 rows x 59 columns]"
      ]
     },
     "execution_count": 23,
     "metadata": {},
     "output_type": "execute_result"
    }
   ],
   "source": [
    "weather_syd_d.head()"
   ]
  },
  {
   "cell_type": "markdown",
   "metadata": {},
   "source": [
    "I would like to explore some of the variables in relation to our target. I would like to see how Sunshine, Evaporation, Humidity, and Pressure all relate to our rain prediction. I will perform a series of plots to see this relationship.\n",
    "\n",
    "### Sunshine vs. Rain Tomorrow"
   ]
  },
  {
   "cell_type": "code",
   "execution_count": 24,
   "metadata": {},
   "outputs": [
    {
     "data": {
      "image/png": "[encoded data removed]",
      "text/plain": [
       "<Figure size 432x288 with 1 Axes>"
      ]
     },
     "metadata": {
      "needs_background": "light"
     },
     "output_type": "display_data"
    }
   ],
   "source": [
    "#Code credit to - https://medium.com/analytics-vidhya/tutorial-exploratory-data-analysis-eda-with-categorical-variables-6a569a3aea55\n",
    "\n",
    "#Create histogram comparing RainTomorrow to Sunshine\n",
    "\n",
    "fig, ax = plt.subplots()\n",
    "\n",
    "ax.hist(weather_syd[weather_syd[\"RainTomorrow\"]==1][\"Sunshine\"], bins=15, alpha=0.5, color=\"blue\", label=\"rained\")\n",
    "ax.hist(weather_syd[weather_syd[\"RainTomorrow\"]==0][\"Sunshine\"], bins=15, alpha=0.5, color=\"green\", label=\"did not rain\")\n",
    "\n",
    "ax.set_xlabel(\"Sunshine\")\n",
    "ax.set_ylabel(\"Count of days\")\n",
    "\n",
    "fig.suptitle(\"Sunshine vs. Rain for Tomorrow\")\n",
    "\n",
    "ax.legend();"
   ]
  },
  {
   "cell_type": "markdown",
   "metadata": {},
   "source": [
    "We can clearly see if the day had significant sunshine, then it did not end up raining the following day. This is what I was expecting to see. It appears that rain in these areas possibly require some buildup through the previous day to result in significant enought precipitation.\n",
    "\n",
    "Next, I would like to see how Evaporation has an effect.\n",
    "\n",
    "### Evaporation vs. Rain Tomorrow"
   ]
  },
  {
   "cell_type": "code",
   "execution_count": 25,
   "metadata": {},
   "outputs": [
    {
     "data": {
      "image/png": "[encoded data removed]",
      "text/plain": [
       "<Figure size 432x288 with 1 Axes>"
      ]
     },
     "metadata": {
      "needs_background": "light"
     },
     "output_type": "display_data"
    }
   ],
   "source": [
    "#Create histogram comparing RainTomorrow to Evaporation\n",
    "\n",
    "fig, ax = plt.subplots()\n",
    "\n",
    "ax.hist(weather_syd[weather_syd[\"RainTomorrow\"]==1][\"Evaporation\"], bins=15, alpha=0.5, color=\"blue\", label=\"rained\")\n",
    "ax.hist(weather_syd[weather_syd[\"RainTomorrow\"]==0][\"Evaporation\"], bins=15, alpha=0.5, color=\"green\", label=\"did not rain\")\n",
    "\n",
    "ax.set_xlabel(\"Evaporation\")\n",
    "ax.set_ylabel(\"Count of days\")\n",
    "\n",
    "fig.suptitle(\"Evaporation vs. Rain for Tomorrow\")\n",
    "\n",
    "ax.legend();"
   ]
  },
  {
   "cell_type": "markdown",
   "metadata": {},
   "source": [
    "This is interesting. I assumed that a day with high evaporation would result in a greater count of rainy days. Instead what we find is that they are roughly the same. The difference in values we see here is in line with the target distribution.\n",
    "\n",
    "Next, let's see how Humidity factors in. I will use Humidity readings from 3pm, since it is closest in time to the following day, i.e. our prediction.\n",
    "\n",
    "### Humidity vs. Rain Tomorrow"
   ]
  },
  {
   "cell_type": "code",
   "execution_count": 26,
   "metadata": {},
   "outputs": [
    {
     "data": {
      "image/png": "[encoded data removed]",
      "text/plain": [
       "<Figure size 432x288 with 1 Axes>"
      ]
     },
     "metadata": {
      "needs_background": "light"
     },
     "output_type": "display_data"
    }
   ],
   "source": [
    "#Create histogram comparing RainTomorrow to Humidity3pm\n",
    "\n",
    "fig, ax = plt.subplots()\n",
    "\n",
    "ax.hist(weather_syd[weather_syd[\"RainTomorrow\"]==1][\"Humidity3pm\"], bins=15, alpha=0.5, color=\"blue\", label=\"rained\")\n",
    "ax.hist(weather_syd[weather_syd[\"RainTomorrow\"]==0][\"Humidity3pm\"], bins=15, alpha=0.5, color=\"green\", label=\"did not rain\")\n",
    "\n",
    "ax.set_xlabel(\"Humidity3pm\")\n",
    "ax.set_ylabel(\"Count of days\")\n",
    "\n",
    "fig.suptitle(\"Humidity vs. Rain for Tomorrow\")\n",
    "\n",
    "ax.legend();"
   ]
  },
  {
   "cell_type": "markdown",
   "metadata": {},
   "source": [
    "This spread is more in line with my expectations. A higer humidity level late in the day does tend to create an increase in rainy days to follow.\n",
    "\n",
    "Let's check and see how Pressure relates, I will continue the trend of 3pm.\n",
    "\n",
    "### Pressure vs. Rain Tomorrow"
   ]
  },
  {
   "cell_type": "code",
   "execution_count": 27,
   "metadata": {},
   "outputs": [
    {
     "data": {
      "image/png": "[encoded data removed]",
      "text/plain": [
       "<Figure size 432x288 with 1 Axes>"
      ]
     },
     "metadata": {
      "needs_background": "light"
     },
     "output_type": "display_data"
    }
   ],
   "source": [
    "#Create histogram comparing RainTomorrow to Pressure3pm\n",
    "\n",
    "fig, ax = plt.subplots()\n",
    "\n",
    "ax.hist(weather_syd[weather_syd[\"RainTomorrow\"]==1][\"Pressure3pm\"], bins=15, alpha=0.5, color=\"blue\", label=\"rained\")\n",
    "ax.hist(weather_syd[weather_syd[\"RainTomorrow\"]==0][\"Pressure3pm\"], bins=15, alpha=0.5, color=\"green\", label=\"did not rain\")\n",
    "\n",
    "ax.set_xlabel(\"Pressure3pm\")\n",
    "ax.set_ylabel(\"Count of days\")\n",
    "\n",
    "fig.suptitle(\"Pressure vs. Rain for Tomorrow\")\n",
    "\n",
    "ax.legend();"
   ]
  },
  {
   "cell_type": "markdown",
   "metadata": {},
   "source": [
    "This is interesting. It appears that Pressure skews slightly to the right, meaning that it does have some impact, just not as much as I expected to see.\n",
    "\n",
    "One last comparison I would like to make is between RainToday and RainTomorrow. Are we going to typically see rain carry over into a second day? Or are they more isolated daily incidents?\n",
    "\n",
    "### Rain Today vs. Rain Tomorrow"
   ]
  },
  {
   "cell_type": "code",
   "execution_count": 28,
   "metadata": {},
   "outputs": [
    {
     "name": "stdout",
     "output_type": "stream",
     "text": [
      "Rain Today        0    1\n",
      "Rain Tomorrow           \n",
      "0              1394  295\n",
      "1               293  303\n"
     ]
    }
   ],
   "source": [
    "#Create Crosstab of Rain Tomorrow vs Rain Today\n",
    "\n",
    "rain_cross=pd.crosstab(weather_syd_d.RainTomorrow, weather_syd_d.RainToday_Yes, colnames=['Rain Today'],rownames=['Rain Tomorrow'])\n",
    "print(rain_cross)"
   ]
  },
  {
   "cell_type": "code",
   "execution_count": 29,
   "metadata": {},
   "outputs": [
    {
     "data": {
      "text/plain": [
       "Text(0.5, 1.0, 'Rain Tomorrow vs. Rain Today')"
      ]
     },
     "execution_count": 29,
     "metadata": {},
     "output_type": "execute_result"
    },
    {
     "data": {
      "image/png": "[encoded data removed]",
      "text/plain": [
       "<Figure size 432x288 with 1 Axes>"
      ]
     },
     "metadata": {
      "needs_background": "light"
     },
     "output_type": "display_data"
    }
   ],
   "source": [
    "#Create stacked bar chart to visualize crosstab\n",
    "\n",
    "rain_cross.plot(kind='bar', stacked=True)\n",
    "plt.title('Rain Tomorrow vs. Rain Today')"
   ]
  },
  {
   "cell_type": "markdown",
   "metadata": {},
   "source": [
    "We can see that rain today does seem to have somewhat of an impact. Of all our recorded days with rain, the following day recorded rain around 50% of the time. This tells us that when there is rain one day, there is a 50/50 chance that we will see rain the following day.\n",
    "\n",
    "Through this EDA we can see that some of these variables, Sunshine and Humidity do have a positive impact to our chances of rain the following day. We can see that surprisingly, Evaporation has a slightly negative effect on our rain tomorrow chances. We have also learned that due to the neutral, almost normal distribution of effect that pressure has on our rain chances, it is not that impactful to the overall model."
   ]
  },
  {
   "cell_type": "markdown",
   "metadata": {},
   "source": [
    "# Predictive Classification Models\n",
    "\n",
    "### Create Training and Test Sets"
   ]
  },
  {
   "cell_type": "code",
   "execution_count": 30,
   "metadata": {},
   "outputs": [
    {
     "name": "stdout",
     "output_type": "stream",
     "text": [
      "(1599, 58)\n",
      "(1599,)\n",
      "(686, 58)\n",
      "(686,)\n"
     ]
    }
   ],
   "source": [
    "#Create a 70/30 split for our Training and Test sets.\n",
    "\n",
    "from sklearn.model_selection  import train_test_split\n",
    "features_train, features_test, target_train, target_test = train_test_split(\n",
    "    weather_syd_d.iloc[:,1:].values, weather_syd_d.iloc[:,0].values, test_size=0.30, random_state=0)\n",
    "\n",
    "print(features_train.shape)\n",
    "print(target_train.shape)\n",
    "print(features_test.shape)\n",
    "print(target_test.shape)"
   ]
  },
  {
   "cell_type": "markdown",
   "metadata": {},
   "source": [
    "## K-Nearest Neighbor (KNN)"
   ]
  },
  {
   "cell_type": "code",
   "execution_count": 32,
   "metadata": {},
   "outputs": [
    {
     "name": "stdout",
     "output_type": "stream",
     "text": [
      "Accuracy Score 0.7711370262390671\n",
      "Precision Score 0.6470588235294118\n",
      "Recall Score 0.24858757062146894\n",
      "              precision    recall  f1-score   support\n",
      "\n",
      "           0       0.78      0.95      0.86       509\n",
      "           1       0.65      0.25      0.36       177\n",
      "\n",
      "    accuracy                           0.77       686\n",
      "   macro avg       0.72      0.60      0.61       686\n",
      "weighted avg       0.75      0.77      0.73       686\n",
      "\n",
      "[[485  24]\n",
      " [133  44]]\n",
      "True Negatives:  485\n",
      "False Positives:  24\n",
      "False Negatives:  133\n",
      "True Positives:  44\n"
     ]
    }
   ],
   "source": [
    "from sklearn.neighbors import KNeighborsClassifier\n",
    "from sklearn.preprocessing import StandardScaler\n",
    "\n",
    "from sklearn.pipeline import make_pipeline\n",
    "clf_knn = make_pipeline(StandardScaler(), KNeighborsClassifier(n_neighbors=10))\n",
    "\n",
    "#Train\n",
    "clf_knn = clf_knn.fit(features_train, target_train)\n",
    "\n",
    "#Validate\n",
    "target_predicted_knn = clf_knn.predict(features_test)\n",
    "\n",
    "print(\"Accuracy Score\", accuracy_score(target_test, target_predicted_knn))\n",
    "print(\"Precision Score\", precision_score(target_test, target_predicted_knn))\n",
    "print(\"Recall Score\", recall_score(target_test, target_predicted_knn))\n",
    "print(classification_report(target_test, target_predicted_knn))\n",
    "print(confusion_matrix(target_test, target_predicted_knn))\n",
    "\n",
    "#extracting true_positives, false_positives, true_negatives, false_negatives\n",
    "tn, fp, fn, tp = confusion_matrix(target_test, target_predicted_knn).ravel()\n",
    "print(\"True Negatives: \",tn)\n",
    "print(\"False Positives: \",fp)\n",
    "print(\"False Negatives: \",fn)\n",
    "print(\"True Positives: \",tp)"
   ]
  },
  {
   "cell_type": "code",
   "execution_count": 33,
   "metadata": {},
   "outputs": [
    {
     "name": "stdout",
     "output_type": "stream",
     "text": [
      "Cross Validation Score for each K [0.75625    0.775      0.75625    0.80625    0.7625     0.775\n",
      " 0.78125    0.81875    0.80625    0.77987421]\n"
     ]
    },
    {
     "data": {
      "text/plain": [
       "0.7817374213836479"
      ]
     },
     "execution_count": 33,
     "metadata": {},
     "output_type": "execute_result"
    }
   ],
   "source": [
    "#Verify results with cross validation, 10 fold\n",
    "scores = cross_val_score(clf_knn, features_train, target_train, cv=10)\n",
    "print(\"Cross Validation Score for each K\",scores)\n",
    "scores.mean() "
   ]
  },
  {
   "cell_type": "markdown",
   "metadata": {},
   "source": [
    "#### Results:\n",
    "For this model we tuned the number of neighbors. We performed n=3, n=5, and n=10. The best results came with n=10. We saw the highest level of accuracy and precision, however we did see the lowest level of recall. We can see that we are identifying 25% of rainy days, with 67% precision. We didn't seem to cast as wide of a net with n=10, but we were more precice when predicting those rainy days. Our crossvalidation confirms that our model is performing well with our data. We are still seeing accuracy ratings higher than our goal of 74%. "
   ]
  },
  {
   "cell_type": "markdown",
   "metadata": {},
   "source": [
    "### Decision Tree"
   ]
  },
  {
   "cell_type": "code",
   "execution_count": 38,
   "metadata": {},
   "outputs": [
    {
     "name": "stdout",
     "output_type": "stream",
     "text": [
      "DT Accuracy Score 0.8090379008746356\n",
      "DT Precision Score 0.6597222222222222\n",
      "DT Recall Score 0.536723163841808\n",
      "              precision    recall  f1-score   support\n",
      "\n",
      "           0       0.85      0.90      0.88       509\n",
      "           1       0.66      0.54      0.59       177\n",
      "\n",
      "    accuracy                           0.81       686\n",
      "   macro avg       0.75      0.72      0.73       686\n",
      "weighted avg       0.80      0.81      0.80       686\n",
      "\n",
      "True Negatives:  460\n",
      "False Positives:  49\n",
      "False Negatives:  82\n",
      "True Positives:  95\n"
     ]
    }
   ],
   "source": [
    "#Build the Decision Tree\n",
    "from sklearn import tree \n",
    "clf_dt = tree.DecisionTreeClassifier(random_state=123, max_depth = 5)\n",
    "#print(clf_dt)\n",
    "\n",
    "#Train\n",
    "clf_dt = clf_dt.fit(features_train, target_train)\n",
    "\n",
    "#Validate\n",
    "target_predicted_dt = clf_dt.predict(features_test)\n",
    "print(\"DT Accuracy Score\", accuracy_score(target_test, target_predicted_dt))\n",
    "print(\"DT Precision Score\", precision_score(target_test, target_predicted_dt))\n",
    "print(\"DT Recall Score\", recall_score(target_test, target_predicted_dt))\n",
    "print(classification_report(target_test, target_predicted_dt))\n",
    "\n",
    "#extracting true_positives, false_positives, true_negatives, false_negatives\n",
    "tn, fp, fn, tp = confusion_matrix(target_test, target_predicted_dt).ravel()\n",
    "print(\"True Negatives: \",tn)\n",
    "print(\"False Positives: \",fp)\n",
    "print(\"False Negatives: \",fn)\n",
    "print(\"True Positives: \",tp)"
   ]
  },
  {
   "cell_type": "code",
   "execution_count": 43,
   "metadata": {},
   "outputs": [
    {
     "name": "stdout",
     "output_type": "stream",
     "text": [
      "Cross Validation Score for each K [0.7625     0.8375     0.80625    0.81875    0.80625    0.81875\n",
      " 0.85625    0.80625    0.8375     0.79874214]\n"
     ]
    },
    {
     "data": {
      "text/plain": [
       "0.8148742138364782"
      ]
     },
     "execution_count": 43,
     "metadata": {},
     "output_type": "execute_result"
    }
   ],
   "source": [
    "#Verify results with cross validation, 10 fold\n",
    "scores = cross_val_score(clf_dt, features_train, target_train, cv=10)\n",
    "print(\"Cross Validation Score for each K\",scores)\n",
    "scores.mean() "
   ]
  },
  {
   "cell_type": "markdown",
   "metadata": {},
   "source": [
    "#### Results\n",
    "The decision tree model was tuned using the max_depth parameter. I started with it as 'None', then tuned to 10, then 5. The best results so far have come from our pruned tree with a max_depth = 5. We can see that our accuracy has risen to 80% confirmed by our cross validation. We can also see that our recall has also increased over our KNN model, now at 54%. Our model is casting a wider net, and still maintaining somewhat steady precision, at 66%. This is a 1% decline from KNN but it also increase recall by nearly 30%."
   ]
  },
  {
   "cell_type": "markdown",
   "metadata": {},
   "source": [
    "### Random Forest"
   ]
  },
  {
   "cell_type": "code",
   "execution_count": 51,
   "metadata": {},
   "outputs": [
    {
     "name": "stdout",
     "output_type": "stream",
     "text": [
      "Accuracy Score 0.8396501457725948\n",
      "Precision Score 0.7557251908396947\n",
      "Recall Score 0.559322033898305\n",
      "              precision    recall  f1-score   support\n",
      "\n",
      "           0       0.86      0.94      0.90       509\n",
      "           1       0.76      0.56      0.64       177\n",
      "\n",
      "    accuracy                           0.84       686\n",
      "   macro avg       0.81      0.75      0.77       686\n",
      "weighted avg       0.83      0.84      0.83       686\n",
      "\n",
      "True Negatives:  477\n",
      "False Positives:  32\n",
      "False Negatives:  78\n",
      "True Positives:  99\n"
     ]
    }
   ],
   "source": [
    "#Build Random Forest\n",
    "from sklearn.ensemble import RandomForestClassifier\n",
    "clf_rf = RandomForestClassifier(max_features=4, n_estimators=100, random_state=123)\n",
    "\n",
    "#Train\n",
    "clf_rf.fit(features_train, target_train)\n",
    "\n",
    "#Validate\n",
    "target_predicted_rf = clf_rf.predict(features_test)\n",
    "print(\"Accuracy Score\", accuracy_score(target_test, target_predicted_rf))\n",
    "print(\"Precision Score\", precision_score(target_test, target_predicted_rf))\n",
    "print(\"Recall Score\", recall_score(target_test, target_predicted_rf))\n",
    "print(classification_report(target_test, target_predicted_rf))\n",
    "\n",
    "#extracting true_positives, false_positives, true_negatives, false_negatives\n",
    "tn, fp, fn, tp = confusion_matrix(target_test, target_predicted_rf).ravel()\n",
    "print(\"True Negatives: \",tn)\n",
    "print(\"False Positives: \",fp)\n",
    "print(\"False Negatives: \",fn)\n",
    "print(\"True Positives: \",tp)"
   ]
  },
  {
   "cell_type": "code",
   "execution_count": 52,
   "metadata": {},
   "outputs": [
    {
     "name": "stdout",
     "output_type": "stream",
     "text": [
      "Cross Validation Score for each K [0.80625    0.875      0.8375     0.8625     0.825      0.81875\n",
      " 0.8375     0.825      0.86875    0.85534591]\n"
     ]
    },
    {
     "data": {
      "text/plain": [
       "0.8411595911949685"
      ]
     },
     "execution_count": 52,
     "metadata": {},
     "output_type": "execute_result"
    }
   ],
   "source": [
    "#Verify results with cross validation, 10 fold\n",
    "scores = cross_val_score(clf_rf, features_train, target_train, cv=10)\n",
    "print(\"Cross Validation Score for each K\",scores)\n",
    "scores.mean() "
   ]
  },
  {
   "cell_type": "markdown",
   "metadata": {},
   "source": [
    "Let's see how we can tune this forest using a grid search!"
   ]
  },
  {
   "cell_type": "code",
   "execution_count": 48,
   "metadata": {},
   "outputs": [
    {
     "name": "stdout",
     "output_type": "stream",
     "text": [
      "Time to run 6 seconds\n",
      "{'mean_fit_time': array([0.09892831, 0.46548204, 0.44467618, 0.45177779, 0.46223435,\n",
      "       0.48029819, 0.4934303 , 0.51159234, 0.52935779, 0.50546045]), 'std_fit_time': array([0.01200233, 0.01647436, 0.01101355, 0.00379514, 0.0049368 ,\n",
      "       0.00580139, 0.00790127, 0.00506155, 0.00618424, 0.06852648]), 'mean_score_time': array([0.        , 0.03043458, 0.02400825, 0.02467732, 0.02335408,\n",
      "       0.02432017, 0.02293482, 0.02290351, 0.02306688, 0.01951938]), 'std_score_time': array([0.        , 0.00816526, 0.00127095, 0.00166244, 0.00100156,\n",
      "       0.00307711, 0.00047236, 0.00028443, 0.00107431, 0.00325934]), 'param_max_features': masked_array(data=[0, 1, 2, 3, 4, 5, 6, 7, 8, 9],\n",
      "             mask=[False, False, False, False, False, False, False, False,\n",
      "                   False, False],\n",
      "       fill_value='?',\n",
      "            dtype=object), 'params': [{'max_features': 0}, {'max_features': 1}, {'max_features': 2}, {'max_features': 3}, {'max_features': 4}, {'max_features': 5}, {'max_features': 6}, {'max_features': 7}, {'max_features': 8}, {'max_features': 9}], 'split0_test_score': array([    nan, 0.7875 , 0.79375, 0.8    , 0.80625, 0.81875, 0.8    ,\n",
      "       0.8125 , 0.8    , 0.775  ]), 'split1_test_score': array([    nan, 0.85   , 0.84375, 0.85625, 0.875  , 0.8625 , 0.85625,\n",
      "       0.8625 , 0.86875, 0.85625]), 'split2_test_score': array([    nan, 0.84375, 0.8125 , 0.825  , 0.8375 , 0.83125, 0.83125,\n",
      "       0.8    , 0.84375, 0.83125]), 'split3_test_score': array([    nan, 0.85   , 0.85   , 0.8625 , 0.8625 , 0.84375, 0.84375,\n",
      "       0.85625, 0.8375 , 0.85   ]), 'split4_test_score': array([    nan, 0.8    , 0.80625, 0.8125 , 0.825  , 0.8125 , 0.80625,\n",
      "       0.81875, 0.8125 , 0.8125 ]), 'split5_test_score': array([    nan, 0.8125 , 0.8125 , 0.8125 , 0.81875, 0.80625, 0.81875,\n",
      "       0.825  , 0.81875, 0.825  ]), 'split6_test_score': array([    nan, 0.81875, 0.81875, 0.83125, 0.8375 , 0.83125, 0.81875,\n",
      "       0.83125, 0.81875, 0.83125]), 'split7_test_score': array([    nan, 0.81875, 0.85625, 0.825  , 0.825  , 0.83125, 0.80625,\n",
      "       0.8125 , 0.80625, 0.8125 ]), 'split8_test_score': array([    nan, 0.85   , 0.85625, 0.8625 , 0.86875, 0.86875, 0.86875,\n",
      "       0.875  , 0.875  , 0.86875]), 'split9_test_score': array([       nan, 0.8427673 , 0.8427673 , 0.8490566 , 0.85534591,\n",
      "       0.86163522, 0.86163522, 0.86163522, 0.86163522, 0.85534591]), 'mean_test_score': array([       nan, 0.82740173, 0.82927673, 0.83365566, 0.84115959,\n",
      "       0.83678852, 0.83116352, 0.83553852, 0.83428852, 0.83178459]), 'std_test_score': array([       nan, 0.02179491, 0.02177647, 0.02143628, 0.02198406,\n",
      "       0.02070841, 0.0237692 , 0.02475878, 0.02571417, 0.02620461]), 'rank_test_score': array([10,  9,  8,  5,  1,  2,  7,  3,  4,  6], dtype=int32)}\n",
      "B E S T   S C O R E 0.8411595911949685\n",
      "B E S T   P A R A M {'max_features': 4}\n"
     ]
    }
   ],
   "source": [
    "# use a full grid over all parameters\n",
    "from numpy import arange\n",
    "import time\n",
    "#param_grid = {\"max_features\": arange(0,50,5)} # FIRST TUNE\n",
    "param_grid = {\"max_features\": arange(0,10,1)} # SECOND TUNE\n",
    "start = time.time()\n",
    "\n",
    "# run grid search\n",
    "grid_search = GridSearchCV(clf_rf, param_grid=param_grid,n_jobs=-1, cv=10)\n",
    "grid_search.fit(features_train, target_train)\n",
    "end = time.time()\n",
    "print(\"Time to run\", round(end-start), \"seconds\")\n",
    "print(grid_search.cv_results_)\n",
    "print(*\"BEST SCORE\", grid_search.best_score_)\n",
    "print(*\"BEST PARAM\", grid_search.best_params_)"
   ]
  },
  {
   "cell_type": "markdown",
   "metadata": {},
   "source": [
    "#### Results\n",
    "For this model, I will tuned the max_features parameter. I performed the default, 4, and 5 features. I used a grid search method to help find the best number of features. I first performed a grid search of 0-50 by 5. This suggested my best number of feature being 5, the results improveed over default. I then ran the grid search again by 0-10 by 1. This resulted in a number of 4. This also slightly improved our results to our best yet. We are now reaching an accuracy of 84% with Recall of 56% at 76% Precision. Our model is really performing well! We are over our goals! Let's keep improving to see if any further methods are better."
   ]
  },
  {
   "cell_type": "code",
   "execution_count": null,
   "metadata": {},
   "outputs": [],
   "source": []
  },
  {
   "cell_type": "code",
   "execution_count": null,
   "metadata": {},
   "outputs": [],
   "source": []
  },
  {
   "cell_type": "code",
   "execution_count": null,
   "metadata": {},
   "outputs": [],
   "source": []
  }
 ],
 "metadata": {
  "kernelspec": {
   "display_name": "Python 3",
   "language": "python",
   "name": "python3"
  },
  "language_info": {
   "codemirror_mode": {
    "name": "ipython",
    "version": 3
   },
   "file_extension": ".py",
   "mimetype": "text/x-python",
   "name": "python",
   "nbconvert_exporter": "python",
   "pygments_lexer": "ipython3",
   "version": "3.8.5"
  }
 },
 "nbformat": 4,
 "nbformat_minor": 4
}
