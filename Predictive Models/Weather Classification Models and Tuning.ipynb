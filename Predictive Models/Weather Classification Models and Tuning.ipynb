{
 "cells": [
  {
   "cell_type": "markdown",
   "metadata": {},
   "source": [
    "# Introduction\n",
    "\n",
    "This is a dataset that I found on Kaggle. It documents various weather data across a 10 year span in various cities across Australia. The goal with this data is to build models to predict if there will be rain tomorrow. The dataset contains a target variable called RainTomorrow with a No or Yes (1mm or more). \n",
    "\n",
    "Since this dataset contains multiple cities that span across an entire continent, I will focus on one specific city to help predict more localized weather events. We don't want to see other weather areas affecting our predictions. I have chosen the city of Sydney to make my predicitons on.\n",
    "\n",
    "Source - https://www.kaggle.com/jsphyg/weather-dataset-rattle-package"
   ]
  },
  {
   "cell_type": "markdown",
   "metadata": {},
   "source": [
    "# Import Modules and Data"
   ]
  },
  {
   "cell_type": "code",
   "execution_count": 1,
   "metadata": {},
   "outputs": [],
   "source": [
    "#Import modules \n",
    "import numpy as np \n",
    "import matplotlib.pyplot as plt\n",
    "import pandas as pd\n",
    "from sklearn import preprocessing\n",
    "import os as os\n",
    "from sklearn.metrics import mean_squared_error\n",
    "%matplotlib inline \n",
    "import sys\n",
    "from sklearn.metrics import r2_score \n",
    "from sklearn.metrics import mean_absolute_error\n",
    "from sklearn.metrics import accuracy_score, precision_score, recall_score, f1_score\n",
    "from sklearn.metrics import roc_curve, auc, confusion_matrix, classification_report\n",
    "from sklearn.model_selection  import train_test_split, cross_val_score, KFold\n",
    "from sklearn.model_selection import GridSearchCV"
   ]
  },
  {
   "cell_type": "code",
   "execution_count": 2,
   "metadata": {},
   "outputs": [
    {
     "data": {
      "text/plain": [
       "'/Users/ChrisGochis/OneDrive - Rockhurst University/PREDICTIVE MODELS/BIA6303PredictiveModels/Assignment 2'"
      ]
     },
     "execution_count": 2,
     "metadata": {},
     "output_type": "execute_result"
    }
   ],
   "source": [
    "%pwd"
   ]
  },
  {
   "cell_type": "code",
   "execution_count": 3,
   "metadata": {},
   "outputs": [
    {
     "data": {
      "text/plain": [
       "(145460, 23)"
      ]
     },
     "execution_count": 3,
     "metadata": {},
     "output_type": "execute_result"
    }
   ],
   "source": [
    "#import the weather data csv\n",
    "weather = pd.read_csv('weatherAUS.csv', sep=',', engine='python')\n",
    "weather.shape"
   ]
  },
  {
   "cell_type": "markdown",
   "metadata": {},
   "source": [
    "# The Dataset"
   ]
  },
  {
   "cell_type": "code",
   "execution_count": 4,
   "metadata": {},
   "outputs": [],
   "source": [
    "# Move Target Variable to front of dataframe\n",
    "targetName = 'RainTomorrow'\n",
    "targetSeries = weather[targetName]\n",
    "del weather[targetName]\n",
    "weather.insert(0, targetName, targetSeries)"
   ]
  },
  {
   "cell_type": "code",
   "execution_count": 5,
   "metadata": {},
   "outputs": [
    {
     "data": {
      "text/html": [
       "<div>\n",
       "<style scoped>\n",
       "    .dataframe tbody tr th:only-of-type {\n",
       "        vertical-align: middle;\n",
       "    }\n",
       "\n",
       "    .dataframe tbody tr th {\n",
       "        vertical-align: top;\n",
       "    }\n",
       "\n",
       "    .dataframe thead th {\n",
       "        text-align: right;\n",
       "    }\n",
       "</style>\n",
       "<table border=\"1\" class=\"dataframe\">\n",
       "  <thead>\n",
       "    <tr style=\"text-align: right;\">\n",
       "      <th></th>\n",
       "      <th>RainTomorrow</th>\n",
       "      <th>Date</th>\n",
       "      <th>Location</th>\n",
       "      <th>MinTemp</th>\n",
       "      <th>MaxTemp</th>\n",
       "      <th>Rainfall</th>\n",
       "      <th>Evaporation</th>\n",
       "      <th>Sunshine</th>\n",
       "      <th>WindGustDir</th>\n",
       "      <th>WindGustSpeed</th>\n",
       "      <th>...</th>\n",
       "      <th>WindSpeed3pm</th>\n",
       "      <th>Humidity9am</th>\n",
       "      <th>Humidity3pm</th>\n",
       "      <th>Pressure9am</th>\n",
       "      <th>Pressure3pm</th>\n",
       "      <th>Cloud9am</th>\n",
       "      <th>Cloud3pm</th>\n",
       "      <th>Temp9am</th>\n",
       "      <th>Temp3pm</th>\n",
       "      <th>RainToday</th>\n",
       "    </tr>\n",
       "  </thead>\n",
       "  <tbody>\n",
       "    <tr>\n",
       "      <th>0</th>\n",
       "      <td>No</td>\n",
       "      <td>2008-12-01</td>\n",
       "      <td>Albury</td>\n",
       "      <td>13.4</td>\n",
       "      <td>22.9</td>\n",
       "      <td>0.6</td>\n",
       "      <td>NaN</td>\n",
       "      <td>NaN</td>\n",
       "      <td>W</td>\n",
       "      <td>44.0</td>\n",
       "      <td>...</td>\n",
       "      <td>24.0</td>\n",
       "      <td>71.0</td>\n",
       "      <td>22.0</td>\n",
       "      <td>1007.7</td>\n",
       "      <td>1007.1</td>\n",
       "      <td>8.0</td>\n",
       "      <td>NaN</td>\n",
       "      <td>16.9</td>\n",
       "      <td>21.8</td>\n",
       "      <td>No</td>\n",
       "    </tr>\n",
       "    <tr>\n",
       "      <th>1</th>\n",
       "      <td>No</td>\n",
       "      <td>2008-12-02</td>\n",
       "      <td>Albury</td>\n",
       "      <td>7.4</td>\n",
       "      <td>25.1</td>\n",
       "      <td>0.0</td>\n",
       "      <td>NaN</td>\n",
       "      <td>NaN</td>\n",
       "      <td>WNW</td>\n",
       "      <td>44.0</td>\n",
       "      <td>...</td>\n",
       "      <td>22.0</td>\n",
       "      <td>44.0</td>\n",
       "      <td>25.0</td>\n",
       "      <td>1010.6</td>\n",
       "      <td>1007.8</td>\n",
       "      <td>NaN</td>\n",
       "      <td>NaN</td>\n",
       "      <td>17.2</td>\n",
       "      <td>24.3</td>\n",
       "      <td>No</td>\n",
       "    </tr>\n",
       "    <tr>\n",
       "      <th>2</th>\n",
       "      <td>No</td>\n",
       "      <td>2008-12-03</td>\n",
       "      <td>Albury</td>\n",
       "      <td>12.9</td>\n",
       "      <td>25.7</td>\n",
       "      <td>0.0</td>\n",
       "      <td>NaN</td>\n",
       "      <td>NaN</td>\n",
       "      <td>WSW</td>\n",
       "      <td>46.0</td>\n",
       "      <td>...</td>\n",
       "      <td>26.0</td>\n",
       "      <td>38.0</td>\n",
       "      <td>30.0</td>\n",
       "      <td>1007.6</td>\n",
       "      <td>1008.7</td>\n",
       "      <td>NaN</td>\n",
       "      <td>2.0</td>\n",
       "      <td>21.0</td>\n",
       "      <td>23.2</td>\n",
       "      <td>No</td>\n",
       "    </tr>\n",
       "    <tr>\n",
       "      <th>3</th>\n",
       "      <td>No</td>\n",
       "      <td>2008-12-04</td>\n",
       "      <td>Albury</td>\n",
       "      <td>9.2</td>\n",
       "      <td>28.0</td>\n",
       "      <td>0.0</td>\n",
       "      <td>NaN</td>\n",
       "      <td>NaN</td>\n",
       "      <td>NE</td>\n",
       "      <td>24.0</td>\n",
       "      <td>...</td>\n",
       "      <td>9.0</td>\n",
       "      <td>45.0</td>\n",
       "      <td>16.0</td>\n",
       "      <td>1017.6</td>\n",
       "      <td>1012.8</td>\n",
       "      <td>NaN</td>\n",
       "      <td>NaN</td>\n",
       "      <td>18.1</td>\n",
       "      <td>26.5</td>\n",
       "      <td>No</td>\n",
       "    </tr>\n",
       "    <tr>\n",
       "      <th>4</th>\n",
       "      <td>No</td>\n",
       "      <td>2008-12-05</td>\n",
       "      <td>Albury</td>\n",
       "      <td>17.5</td>\n",
       "      <td>32.3</td>\n",
       "      <td>1.0</td>\n",
       "      <td>NaN</td>\n",
       "      <td>NaN</td>\n",
       "      <td>W</td>\n",
       "      <td>41.0</td>\n",
       "      <td>...</td>\n",
       "      <td>20.0</td>\n",
       "      <td>82.0</td>\n",
       "      <td>33.0</td>\n",
       "      <td>1010.8</td>\n",
       "      <td>1006.0</td>\n",
       "      <td>7.0</td>\n",
       "      <td>8.0</td>\n",
       "      <td>17.8</td>\n",
       "      <td>29.7</td>\n",
       "      <td>No</td>\n",
       "    </tr>\n",
       "  </tbody>\n",
       "</table>\n",
       "<p>5 rows × 23 columns</p>\n",
       "</div>"
      ],
      "text/plain": [
       "  RainTomorrow        Date Location  MinTemp  MaxTemp  Rainfall  Evaporation  \\\n",
       "0           No  2008-12-01   Albury     13.4     22.9       0.6          NaN   \n",
       "1           No  2008-12-02   Albury      7.4     25.1       0.0          NaN   \n",
       "2           No  2008-12-03   Albury     12.9     25.7       0.0          NaN   \n",
       "3           No  2008-12-04   Albury      9.2     28.0       0.0          NaN   \n",
       "4           No  2008-12-05   Albury     17.5     32.3       1.0          NaN   \n",
       "\n",
       "   Sunshine WindGustDir  WindGustSpeed  ... WindSpeed3pm Humidity9am  \\\n",
       "0       NaN           W           44.0  ...         24.0        71.0   \n",
       "1       NaN         WNW           44.0  ...         22.0        44.0   \n",
       "2       NaN         WSW           46.0  ...         26.0        38.0   \n",
       "3       NaN          NE           24.0  ...          9.0        45.0   \n",
       "4       NaN           W           41.0  ...         20.0        82.0   \n",
       "\n",
       "   Humidity3pm  Pressure9am  Pressure3pm  Cloud9am  Cloud3pm  Temp9am  \\\n",
       "0         22.0       1007.7       1007.1       8.0       NaN     16.9   \n",
       "1         25.0       1010.6       1007.8       NaN       NaN     17.2   \n",
       "2         30.0       1007.6       1008.7       NaN       2.0     21.0   \n",
       "3         16.0       1017.6       1012.8       NaN       NaN     18.1   \n",
       "4         33.0       1010.8       1006.0       7.0       8.0     17.8   \n",
       "\n",
       "   Temp3pm  RainToday  \n",
       "0     21.8         No  \n",
       "1     24.3         No  \n",
       "2     23.2         No  \n",
       "3     26.5         No  \n",
       "4     29.7         No  \n",
       "\n",
       "[5 rows x 23 columns]"
      ]
     },
     "execution_count": 5,
     "metadata": {},
     "output_type": "execute_result"
    }
   ],
   "source": [
    "weather.head()"
   ]
  },
  {
   "cell_type": "code",
   "execution_count": 6,
   "metadata": {},
   "outputs": [
    {
     "data": {
      "text/html": [
       "<div>\n",
       "<style scoped>\n",
       "    .dataframe tbody tr th:only-of-type {\n",
       "        vertical-align: middle;\n",
       "    }\n",
       "\n",
       "    .dataframe tbody tr th {\n",
       "        vertical-align: top;\n",
       "    }\n",
       "\n",
       "    .dataframe thead th {\n",
       "        text-align: right;\n",
       "    }\n",
       "</style>\n",
       "<table border=\"1\" class=\"dataframe\">\n",
       "  <thead>\n",
       "    <tr style=\"text-align: right;\">\n",
       "      <th></th>\n",
       "      <th>RainTomorrow</th>\n",
       "      <th>Date</th>\n",
       "      <th>Location</th>\n",
       "      <th>MinTemp</th>\n",
       "      <th>MaxTemp</th>\n",
       "      <th>Rainfall</th>\n",
       "      <th>Evaporation</th>\n",
       "      <th>Sunshine</th>\n",
       "      <th>WindGustDir</th>\n",
       "      <th>WindGustSpeed</th>\n",
       "      <th>...</th>\n",
       "      <th>WindSpeed3pm</th>\n",
       "      <th>Humidity9am</th>\n",
       "      <th>Humidity3pm</th>\n",
       "      <th>Pressure9am</th>\n",
       "      <th>Pressure3pm</th>\n",
       "      <th>Cloud9am</th>\n",
       "      <th>Cloud3pm</th>\n",
       "      <th>Temp9am</th>\n",
       "      <th>Temp3pm</th>\n",
       "      <th>RainToday</th>\n",
       "    </tr>\n",
       "  </thead>\n",
       "  <tbody>\n",
       "    <tr>\n",
       "      <th>145455</th>\n",
       "      <td>No</td>\n",
       "      <td>2017-06-21</td>\n",
       "      <td>Uluru</td>\n",
       "      <td>2.8</td>\n",
       "      <td>23.4</td>\n",
       "      <td>0.0</td>\n",
       "      <td>NaN</td>\n",
       "      <td>NaN</td>\n",
       "      <td>E</td>\n",
       "      <td>31.0</td>\n",
       "      <td>...</td>\n",
       "      <td>11.0</td>\n",
       "      <td>51.0</td>\n",
       "      <td>24.0</td>\n",
       "      <td>1024.6</td>\n",
       "      <td>1020.3</td>\n",
       "      <td>NaN</td>\n",
       "      <td>NaN</td>\n",
       "      <td>10.1</td>\n",
       "      <td>22.4</td>\n",
       "      <td>No</td>\n",
       "    </tr>\n",
       "    <tr>\n",
       "      <th>145456</th>\n",
       "      <td>No</td>\n",
       "      <td>2017-06-22</td>\n",
       "      <td>Uluru</td>\n",
       "      <td>3.6</td>\n",
       "      <td>25.3</td>\n",
       "      <td>0.0</td>\n",
       "      <td>NaN</td>\n",
       "      <td>NaN</td>\n",
       "      <td>NNW</td>\n",
       "      <td>22.0</td>\n",
       "      <td>...</td>\n",
       "      <td>9.0</td>\n",
       "      <td>56.0</td>\n",
       "      <td>21.0</td>\n",
       "      <td>1023.5</td>\n",
       "      <td>1019.1</td>\n",
       "      <td>NaN</td>\n",
       "      <td>NaN</td>\n",
       "      <td>10.9</td>\n",
       "      <td>24.5</td>\n",
       "      <td>No</td>\n",
       "    </tr>\n",
       "    <tr>\n",
       "      <th>145457</th>\n",
       "      <td>No</td>\n",
       "      <td>2017-06-23</td>\n",
       "      <td>Uluru</td>\n",
       "      <td>5.4</td>\n",
       "      <td>26.9</td>\n",
       "      <td>0.0</td>\n",
       "      <td>NaN</td>\n",
       "      <td>NaN</td>\n",
       "      <td>N</td>\n",
       "      <td>37.0</td>\n",
       "      <td>...</td>\n",
       "      <td>9.0</td>\n",
       "      <td>53.0</td>\n",
       "      <td>24.0</td>\n",
       "      <td>1021.0</td>\n",
       "      <td>1016.8</td>\n",
       "      <td>NaN</td>\n",
       "      <td>NaN</td>\n",
       "      <td>12.5</td>\n",
       "      <td>26.1</td>\n",
       "      <td>No</td>\n",
       "    </tr>\n",
       "    <tr>\n",
       "      <th>145458</th>\n",
       "      <td>No</td>\n",
       "      <td>2017-06-24</td>\n",
       "      <td>Uluru</td>\n",
       "      <td>7.8</td>\n",
       "      <td>27.0</td>\n",
       "      <td>0.0</td>\n",
       "      <td>NaN</td>\n",
       "      <td>NaN</td>\n",
       "      <td>SE</td>\n",
       "      <td>28.0</td>\n",
       "      <td>...</td>\n",
       "      <td>7.0</td>\n",
       "      <td>51.0</td>\n",
       "      <td>24.0</td>\n",
       "      <td>1019.4</td>\n",
       "      <td>1016.5</td>\n",
       "      <td>3.0</td>\n",
       "      <td>2.0</td>\n",
       "      <td>15.1</td>\n",
       "      <td>26.0</td>\n",
       "      <td>No</td>\n",
       "    </tr>\n",
       "    <tr>\n",
       "      <th>145459</th>\n",
       "      <td>NaN</td>\n",
       "      <td>2017-06-25</td>\n",
       "      <td>Uluru</td>\n",
       "      <td>14.9</td>\n",
       "      <td>NaN</td>\n",
       "      <td>0.0</td>\n",
       "      <td>NaN</td>\n",
       "      <td>NaN</td>\n",
       "      <td>NaN</td>\n",
       "      <td>NaN</td>\n",
       "      <td>...</td>\n",
       "      <td>17.0</td>\n",
       "      <td>62.0</td>\n",
       "      <td>36.0</td>\n",
       "      <td>1020.2</td>\n",
       "      <td>1017.9</td>\n",
       "      <td>8.0</td>\n",
       "      <td>8.0</td>\n",
       "      <td>15.0</td>\n",
       "      <td>20.9</td>\n",
       "      <td>No</td>\n",
       "    </tr>\n",
       "  </tbody>\n",
       "</table>\n",
       "<p>5 rows × 23 columns</p>\n",
       "</div>"
      ],
      "text/plain": [
       "       RainTomorrow        Date Location  MinTemp  MaxTemp  Rainfall  \\\n",
       "145455           No  2017-06-21    Uluru      2.8     23.4       0.0   \n",
       "145456           No  2017-06-22    Uluru      3.6     25.3       0.0   \n",
       "145457           No  2017-06-23    Uluru      5.4     26.9       0.0   \n",
       "145458           No  2017-06-24    Uluru      7.8     27.0       0.0   \n",
       "145459          NaN  2017-06-25    Uluru     14.9      NaN       0.0   \n",
       "\n",
       "        Evaporation  Sunshine WindGustDir  WindGustSpeed  ... WindSpeed3pm  \\\n",
       "145455          NaN       NaN           E           31.0  ...         11.0   \n",
       "145456          NaN       NaN         NNW           22.0  ...          9.0   \n",
       "145457          NaN       NaN           N           37.0  ...          9.0   \n",
       "145458          NaN       NaN          SE           28.0  ...          7.0   \n",
       "145459          NaN       NaN         NaN            NaN  ...         17.0   \n",
       "\n",
       "       Humidity9am  Humidity3pm  Pressure9am  Pressure3pm  Cloud9am  Cloud3pm  \\\n",
       "145455        51.0         24.0       1024.6       1020.3       NaN       NaN   \n",
       "145456        56.0         21.0       1023.5       1019.1       NaN       NaN   \n",
       "145457        53.0         24.0       1021.0       1016.8       NaN       NaN   \n",
       "145458        51.0         24.0       1019.4       1016.5       3.0       2.0   \n",
       "145459        62.0         36.0       1020.2       1017.9       8.0       8.0   \n",
       "\n",
       "        Temp9am  Temp3pm  RainToday  \n",
       "145455     10.1     22.4         No  \n",
       "145456     10.9     24.5         No  \n",
       "145457     12.5     26.1         No  \n",
       "145458     15.1     26.0         No  \n",
       "145459     15.0     20.9         No  \n",
       "\n",
       "[5 rows x 23 columns]"
      ]
     },
     "execution_count": 6,
     "metadata": {},
     "output_type": "execute_result"
    }
   ],
   "source": [
    "weather.tail()"
   ]
  },
  {
   "cell_type": "markdown",
   "metadata": {},
   "source": [
    "# Since weather is best predictable locally, I want to focus on one city in Australia, Sydney. I will now filter the dataset down to the Sydney observations."
   ]
  },
  {
   "cell_type": "code",
   "execution_count": 7,
   "metadata": {},
   "outputs": [
    {
     "data": {
      "text/html": [
       "<div>\n",
       "<style scoped>\n",
       "    .dataframe tbody tr th:only-of-type {\n",
       "        vertical-align: middle;\n",
       "    }\n",
       "\n",
       "    .dataframe tbody tr th {\n",
       "        vertical-align: top;\n",
       "    }\n",
       "\n",
       "    .dataframe thead th {\n",
       "        text-align: right;\n",
       "    }\n",
       "</style>\n",
       "<table border=\"1\" class=\"dataframe\">\n",
       "  <thead>\n",
       "    <tr style=\"text-align: right;\">\n",
       "      <th></th>\n",
       "      <th>RainTomorrow</th>\n",
       "      <th>Date</th>\n",
       "      <th>Location</th>\n",
       "      <th>MinTemp</th>\n",
       "      <th>MaxTemp</th>\n",
       "      <th>Rainfall</th>\n",
       "      <th>Evaporation</th>\n",
       "      <th>Sunshine</th>\n",
       "      <th>WindGustDir</th>\n",
       "      <th>WindGustSpeed</th>\n",
       "      <th>...</th>\n",
       "      <th>WindSpeed3pm</th>\n",
       "      <th>Humidity9am</th>\n",
       "      <th>Humidity3pm</th>\n",
       "      <th>Pressure9am</th>\n",
       "      <th>Pressure3pm</th>\n",
       "      <th>Cloud9am</th>\n",
       "      <th>Cloud3pm</th>\n",
       "      <th>Temp9am</th>\n",
       "      <th>Temp3pm</th>\n",
       "      <th>RainToday</th>\n",
       "    </tr>\n",
       "  </thead>\n",
       "  <tbody>\n",
       "    <tr>\n",
       "      <th>30176</th>\n",
       "      <td>Yes</td>\n",
       "      <td>2008-02-01</td>\n",
       "      <td>Sydney</td>\n",
       "      <td>19.5</td>\n",
       "      <td>22.4</td>\n",
       "      <td>15.6</td>\n",
       "      <td>6.2</td>\n",
       "      <td>0.0</td>\n",
       "      <td>NaN</td>\n",
       "      <td>NaN</td>\n",
       "      <td>...</td>\n",
       "      <td>20.0</td>\n",
       "      <td>92.0</td>\n",
       "      <td>84.0</td>\n",
       "      <td>1017.6</td>\n",
       "      <td>1017.4</td>\n",
       "      <td>8.0</td>\n",
       "      <td>8.0</td>\n",
       "      <td>20.7</td>\n",
       "      <td>20.9</td>\n",
       "      <td>Yes</td>\n",
       "    </tr>\n",
       "    <tr>\n",
       "      <th>30177</th>\n",
       "      <td>Yes</td>\n",
       "      <td>2008-02-02</td>\n",
       "      <td>Sydney</td>\n",
       "      <td>19.5</td>\n",
       "      <td>25.6</td>\n",
       "      <td>6.0</td>\n",
       "      <td>3.4</td>\n",
       "      <td>2.7</td>\n",
       "      <td>NaN</td>\n",
       "      <td>NaN</td>\n",
       "      <td>...</td>\n",
       "      <td>13.0</td>\n",
       "      <td>83.0</td>\n",
       "      <td>73.0</td>\n",
       "      <td>1017.9</td>\n",
       "      <td>1016.4</td>\n",
       "      <td>7.0</td>\n",
       "      <td>7.0</td>\n",
       "      <td>22.4</td>\n",
       "      <td>24.8</td>\n",
       "      <td>Yes</td>\n",
       "    </tr>\n",
       "    <tr>\n",
       "      <th>30178</th>\n",
       "      <td>Yes</td>\n",
       "      <td>2008-02-03</td>\n",
       "      <td>Sydney</td>\n",
       "      <td>21.6</td>\n",
       "      <td>24.5</td>\n",
       "      <td>6.6</td>\n",
       "      <td>2.4</td>\n",
       "      <td>0.1</td>\n",
       "      <td>NaN</td>\n",
       "      <td>NaN</td>\n",
       "      <td>...</td>\n",
       "      <td>2.0</td>\n",
       "      <td>88.0</td>\n",
       "      <td>86.0</td>\n",
       "      <td>1016.7</td>\n",
       "      <td>1015.6</td>\n",
       "      <td>7.0</td>\n",
       "      <td>8.0</td>\n",
       "      <td>23.5</td>\n",
       "      <td>23.0</td>\n",
       "      <td>Yes</td>\n",
       "    </tr>\n",
       "    <tr>\n",
       "      <th>30179</th>\n",
       "      <td>Yes</td>\n",
       "      <td>2008-02-04</td>\n",
       "      <td>Sydney</td>\n",
       "      <td>20.2</td>\n",
       "      <td>22.8</td>\n",
       "      <td>18.8</td>\n",
       "      <td>2.2</td>\n",
       "      <td>0.0</td>\n",
       "      <td>NaN</td>\n",
       "      <td>NaN</td>\n",
       "      <td>...</td>\n",
       "      <td>20.0</td>\n",
       "      <td>83.0</td>\n",
       "      <td>90.0</td>\n",
       "      <td>1014.2</td>\n",
       "      <td>1011.8</td>\n",
       "      <td>8.0</td>\n",
       "      <td>8.0</td>\n",
       "      <td>21.4</td>\n",
       "      <td>20.9</td>\n",
       "      <td>Yes</td>\n",
       "    </tr>\n",
       "    <tr>\n",
       "      <th>30180</th>\n",
       "      <td>Yes</td>\n",
       "      <td>2008-02-05</td>\n",
       "      <td>Sydney</td>\n",
       "      <td>19.7</td>\n",
       "      <td>25.7</td>\n",
       "      <td>77.4</td>\n",
       "      <td>NaN</td>\n",
       "      <td>0.0</td>\n",
       "      <td>NaN</td>\n",
       "      <td>NaN</td>\n",
       "      <td>...</td>\n",
       "      <td>6.0</td>\n",
       "      <td>88.0</td>\n",
       "      <td>74.0</td>\n",
       "      <td>1008.3</td>\n",
       "      <td>1004.8</td>\n",
       "      <td>8.0</td>\n",
       "      <td>8.0</td>\n",
       "      <td>22.5</td>\n",
       "      <td>25.5</td>\n",
       "      <td>Yes</td>\n",
       "    </tr>\n",
       "  </tbody>\n",
       "</table>\n",
       "<p>5 rows × 23 columns</p>\n",
       "</div>"
      ],
      "text/plain": [
       "      RainTomorrow        Date Location  MinTemp  MaxTemp  Rainfall  \\\n",
       "30176          Yes  2008-02-01   Sydney     19.5     22.4      15.6   \n",
       "30177          Yes  2008-02-02   Sydney     19.5     25.6       6.0   \n",
       "30178          Yes  2008-02-03   Sydney     21.6     24.5       6.6   \n",
       "30179          Yes  2008-02-04   Sydney     20.2     22.8      18.8   \n",
       "30180          Yes  2008-02-05   Sydney     19.7     25.7      77.4   \n",
       "\n",
       "       Evaporation  Sunshine WindGustDir  WindGustSpeed  ... WindSpeed3pm  \\\n",
       "30176          6.2       0.0         NaN            NaN  ...         20.0   \n",
       "30177          3.4       2.7         NaN            NaN  ...         13.0   \n",
       "30178          2.4       0.1         NaN            NaN  ...          2.0   \n",
       "30179          2.2       0.0         NaN            NaN  ...         20.0   \n",
       "30180          NaN       0.0         NaN            NaN  ...          6.0   \n",
       "\n",
       "      Humidity9am  Humidity3pm  Pressure9am  Pressure3pm  Cloud9am  Cloud3pm  \\\n",
       "30176        92.0         84.0       1017.6       1017.4       8.0       8.0   \n",
       "30177        83.0         73.0       1017.9       1016.4       7.0       7.0   \n",
       "30178        88.0         86.0       1016.7       1015.6       7.0       8.0   \n",
       "30179        83.0         90.0       1014.2       1011.8       8.0       8.0   \n",
       "30180        88.0         74.0       1008.3       1004.8       8.0       8.0   \n",
       "\n",
       "       Temp9am  Temp3pm  RainToday  \n",
       "30176     20.7     20.9        Yes  \n",
       "30177     22.4     24.8        Yes  \n",
       "30178     23.5     23.0        Yes  \n",
       "30179     21.4     20.9        Yes  \n",
       "30180     22.5     25.5        Yes  \n",
       "\n",
       "[5 rows x 23 columns]"
      ]
     },
     "execution_count": 7,
     "metadata": {},
     "output_type": "execute_result"
    }
   ],
   "source": [
    "#Create dataframe where Location is Sydney\n",
    "weather_syd=weather.query('Location == \"Sydney\"')\n",
    "weather_syd.head()"
   ]
  },
  {
   "cell_type": "code",
   "execution_count": 8,
   "metadata": {},
   "outputs": [
    {
     "data": {
      "text/plain": [
       "(3344, 23)"
      ]
     },
     "execution_count": 8,
     "metadata": {},
     "output_type": "execute_result"
    }
   ],
   "source": [
    "weather_syd.shape"
   ]
  },
  {
   "cell_type": "code",
   "execution_count": 9,
   "metadata": {},
   "outputs": [],
   "source": [
    "#Drop date and location fields, they are not needed.\n",
    "weather_syd=weather_syd.drop(['Date', 'Location'],axis=1)"
   ]
  },
  {
   "cell_type": "code",
   "execution_count": 10,
   "metadata": {},
   "outputs": [
    {
     "data": {
      "text/plain": [
       "RainTomorrow      object\n",
       "MinTemp          float64\n",
       "MaxTemp          float64\n",
       "Rainfall         float64\n",
       "Evaporation      float64\n",
       "Sunshine         float64\n",
       "WindGustDir       object\n",
       "WindGustSpeed    float64\n",
       "WindDir9am        object\n",
       "WindDir3pm        object\n",
       "WindSpeed9am     float64\n",
       "WindSpeed3pm     float64\n",
       "Humidity9am      float64\n",
       "Humidity3pm      float64\n",
       "Pressure9am      float64\n",
       "Pressure3pm      float64\n",
       "Cloud9am         float64\n",
       "Cloud3pm         float64\n",
       "Temp9am          float64\n",
       "Temp3pm          float64\n",
       "RainToday         object\n",
       "dtype: object"
      ]
     },
     "execution_count": 10,
     "metadata": {},
     "output_type": "execute_result"
    }
   ],
   "source": [
    "weather_syd.dtypes"
   ]
  },
  {
   "cell_type": "markdown",
   "metadata": {},
   "source": [
    "Breakdown of the attributes from source - \n",
    "\n",
    "<ul>\n",
    "<li>MinTemp - Minimum temperature in the 24 hours to 9am in degrees Celsius\n",
    "<li>MaxTemp - Maximum temperature in the 24 hours from 9am in degrees Celsius\n",
    "<li>Rainfall - \tPrecipitation (rainfall) in the 24 hours to 9am in millimeters\n",
    "<li>Evaporation - \"Class A\" pan evaporation in the 24 hours to 9am in millimeters\n",
    "<li>Sunshine - \tBright sunshine in the 24 hours to midnight in hours\n",
    "<li>WindGustDir - Direction of strongest gust in the 24 hours to midnight in compass points\n",
    "<li>WindGustSpeed - Speed of strongest wind gust in the 24 hours to midnight in kilometers per hour\n",
    "<li>WindDir9am - Wind direction averaged over 10 minutes prior to 9 am in compass points\n",
    "<li>WindDir3pm - Wind direction averaged over 10 minutes prior to 3 pm in compass points\n",
    "<li>WindSpeed9am - Wind speed averaged over 10 minutes prior to 9 am in kilometers per hour\n",
    "<li>WindSpeed3pm - Wind speed averaged over 10 minutes prior to 3 pm in kilometers per hour\n",
    "<li>Humidity9am - Relative humidity at 9 am in percent\n",
    "<li>Humidity3pm - Relative humidity at 3 pm in percent\n",
    "<li>Pressure9am - Atmospheric pressure reduced to mean sea level at 9 am in hectopascals\n",
    "<li>Pressure3pm - Atmospheric pressure reduced to mean sea level at 3 pm in hectopascals\n",
    "<li>Cloud9am - Fraction of sky obscured by cloud at 9 am in eighths\n",
    "<li>Cloud3pm - Fraction of sky obscured by cloud at 3 pm in eighths\n",
    "<li>Temp9am - Temperature at 9 am in degrees Celsius\n",
    "<li>Temp3pm - Temperature at 3 pm in degrees Celsius\n",
    "<li>RainToday - Yes/No if rained today more than 1mm+\n",
    "</ul>\n",
    "\n",
    "TARGET VARIABLE\n",
    "\n",
    "<ul>\n",
    "<li>RainTomorrow - Yes/No if rained tomorrow more than 1mm\n",
    "</ul>\n",
    "    \n",
    "Data was compiled and sourced from the Australian Government Bureau of Meteorology"
   ]
  },
  {
   "cell_type": "code",
   "execution_count": 1,
   "metadata": {},
   "outputs": [],
   "source": [
    "#Check for Null Values\n",
    "#weather_syd.isna().any() - omitted for space"
   ]
  },
  {
   "cell_type": "markdown",
   "metadata": {},
   "source": [
    "There is some missing data in this dataframe. I am going to fill the integer/float values with thier variable mean. For categorical variables, since they are mostly cardinal directions, I am going to remove those rows from the dataset. There is no good way to fill these data in, and using NONE is not appropriate for this situation. We have roughly 3,300 observations to work with, so we can lose some obervations and have plenty to spare."
   ]
  },
  {
   "cell_type": "code",
   "execution_count": 12,
   "metadata": {},
   "outputs": [],
   "source": [
    "for col in weather_syd.columns[1:]:\n",
    "    dType = weather_syd[col].dtype\n",
    "    if dType == float or dType == int:\n",
    "        weather_syd[col].fillna(value=weather_syd[col].mean(), inplace=True)"
   ]
  },
  {
   "cell_type": "code",
   "execution_count": 13,
   "metadata": {},
   "outputs": [],
   "source": [
    "#weather.isna().any() - omitted for space"
   ]
  },
  {
   "cell_type": "code",
   "execution_count": 14,
   "metadata": {},
   "outputs": [],
   "source": [
    "# Drop remaining NaN values. They are not needed.\n",
    "weather_syd.dropna(inplace=True)"
   ]
  },
  {
   "cell_type": "code",
   "execution_count": 15,
   "metadata": {},
   "outputs": [
    {
     "data": {
      "text/plain": [
       "RainTomorrow     False\n",
       "MinTemp          False\n",
       "MaxTemp          False\n",
       "Rainfall         False\n",
       "Evaporation      False\n",
       "Sunshine         False\n",
       "WindGustDir      False\n",
       "WindGustSpeed    False\n",
       "WindDir9am       False\n",
       "WindDir3pm       False\n",
       "WindSpeed9am     False\n",
       "WindSpeed3pm     False\n",
       "Humidity9am      False\n",
       "Humidity3pm      False\n",
       "Pressure9am      False\n",
       "Pressure3pm      False\n",
       "Cloud9am         False\n",
       "Cloud3pm         False\n",
       "Temp9am          False\n",
       "Temp3pm          False\n",
       "RainToday        False\n",
       "dtype: bool"
      ]
     },
     "execution_count": 15,
     "metadata": {},
     "output_type": "execute_result"
    }
   ],
   "source": [
    "weather_syd.isna().any()"
   ]
  },
  {
   "cell_type": "code",
   "execution_count": 16,
   "metadata": {},
   "outputs": [
    {
     "data": {
      "text/plain": [
       "(2285, 21)"
      ]
     },
     "execution_count": 16,
     "metadata": {},
     "output_type": "execute_result"
    }
   ],
   "source": [
    "weather_syd.shape"
   ]
  },
  {
   "cell_type": "markdown",
   "metadata": {},
   "source": [
    "We still have over 2,000 observations to work with! Let's explore some of the characteristics."
   ]
  },
  {
   "cell_type": "code",
   "execution_count": 17,
   "metadata": {},
   "outputs": [],
   "source": [
    "#Convert Target variable from Yes/No to a 0 and 1\n",
    "le_dep = preprocessing.LabelEncoder()\n",
    "weather_syd['RainTomorrow'] = le_dep.fit_transform(weather_syd['RainTomorrow'])"
   ]
  },
  {
   "cell_type": "code",
   "execution_count": 18,
   "metadata": {},
   "outputs": [
    {
     "data": {
      "text/html": [
       "<div>\n",
       "<style scoped>\n",
       "    .dataframe tbody tr th:only-of-type {\n",
       "        vertical-align: middle;\n",
       "    }\n",
       "\n",
       "    .dataframe tbody tr th {\n",
       "        vertical-align: top;\n",
       "    }\n",
       "\n",
       "    .dataframe thead th {\n",
       "        text-align: right;\n",
       "    }\n",
       "</style>\n",
       "<table border=\"1\" class=\"dataframe\">\n",
       "  <thead>\n",
       "    <tr style=\"text-align: right;\">\n",
       "      <th></th>\n",
       "      <th>RainTomorrow</th>\n",
       "      <th>MinTemp</th>\n",
       "      <th>MaxTemp</th>\n",
       "      <th>Rainfall</th>\n",
       "      <th>Evaporation</th>\n",
       "      <th>Sunshine</th>\n",
       "      <th>WindGustSpeed</th>\n",
       "      <th>WindSpeed9am</th>\n",
       "      <th>WindSpeed3pm</th>\n",
       "      <th>Humidity9am</th>\n",
       "      <th>...</th>\n",
       "      <th>WindDir3pm_NW</th>\n",
       "      <th>WindDir3pm_S</th>\n",
       "      <th>WindDir3pm_SE</th>\n",
       "      <th>WindDir3pm_SSE</th>\n",
       "      <th>WindDir3pm_SSW</th>\n",
       "      <th>WindDir3pm_SW</th>\n",
       "      <th>WindDir3pm_W</th>\n",
       "      <th>WindDir3pm_WNW</th>\n",
       "      <th>WindDir3pm_WSW</th>\n",
       "      <th>RainToday_Yes</th>\n",
       "    </tr>\n",
       "  </thead>\n",
       "  <tbody>\n",
       "    <tr>\n",
       "      <th>31156</th>\n",
       "      <td>0</td>\n",
       "      <td>13.8</td>\n",
       "      <td>19.5</td>\n",
       "      <td>0.0</td>\n",
       "      <td>4.6</td>\n",
       "      <td>9.5</td>\n",
       "      <td>35.0</td>\n",
       "      <td>4.0</td>\n",
       "      <td>19.0</td>\n",
       "      <td>73.0</td>\n",
       "      <td>...</td>\n",
       "      <td>0</td>\n",
       "      <td>0</td>\n",
       "      <td>0</td>\n",
       "      <td>0</td>\n",
       "      <td>0</td>\n",
       "      <td>0</td>\n",
       "      <td>0</td>\n",
       "      <td>0</td>\n",
       "      <td>0</td>\n",
       "      <td>0</td>\n",
       "    </tr>\n",
       "    <tr>\n",
       "      <th>31159</th>\n",
       "      <td>0</td>\n",
       "      <td>16.5</td>\n",
       "      <td>21.1</td>\n",
       "      <td>1.2</td>\n",
       "      <td>6.2</td>\n",
       "      <td>6.6</td>\n",
       "      <td>56.0</td>\n",
       "      <td>26.0</td>\n",
       "      <td>20.0</td>\n",
       "      <td>62.0</td>\n",
       "      <td>...</td>\n",
       "      <td>0</td>\n",
       "      <td>0</td>\n",
       "      <td>0</td>\n",
       "      <td>0</td>\n",
       "      <td>0</td>\n",
       "      <td>0</td>\n",
       "      <td>0</td>\n",
       "      <td>0</td>\n",
       "      <td>0</td>\n",
       "      <td>1</td>\n",
       "    </tr>\n",
       "    <tr>\n",
       "      <th>31160</th>\n",
       "      <td>0</td>\n",
       "      <td>16.4</td>\n",
       "      <td>21.8</td>\n",
       "      <td>1.0</td>\n",
       "      <td>6.0</td>\n",
       "      <td>5.9</td>\n",
       "      <td>50.0</td>\n",
       "      <td>13.0</td>\n",
       "      <td>28.0</td>\n",
       "      <td>82.0</td>\n",
       "      <td>...</td>\n",
       "      <td>0</td>\n",
       "      <td>0</td>\n",
       "      <td>0</td>\n",
       "      <td>0</td>\n",
       "      <td>0</td>\n",
       "      <td>0</td>\n",
       "      <td>0</td>\n",
       "      <td>0</td>\n",
       "      <td>0</td>\n",
       "      <td>0</td>\n",
       "    </tr>\n",
       "    <tr>\n",
       "      <th>31161</th>\n",
       "      <td>1</td>\n",
       "      <td>16.7</td>\n",
       "      <td>23.9</td>\n",
       "      <td>0.4</td>\n",
       "      <td>7.0</td>\n",
       "      <td>2.8</td>\n",
       "      <td>39.0</td>\n",
       "      <td>7.0</td>\n",
       "      <td>19.0</td>\n",
       "      <td>81.0</td>\n",
       "      <td>...</td>\n",
       "      <td>0</td>\n",
       "      <td>0</td>\n",
       "      <td>0</td>\n",
       "      <td>0</td>\n",
       "      <td>0</td>\n",
       "      <td>0</td>\n",
       "      <td>0</td>\n",
       "      <td>0</td>\n",
       "      <td>0</td>\n",
       "      <td>0</td>\n",
       "    </tr>\n",
       "    <tr>\n",
       "      <th>31162</th>\n",
       "      <td>0</td>\n",
       "      <td>17.8</td>\n",
       "      <td>28.9</td>\n",
       "      <td>2.0</td>\n",
       "      <td>4.0</td>\n",
       "      <td>10.8</td>\n",
       "      <td>41.0</td>\n",
       "      <td>22.0</td>\n",
       "      <td>17.0</td>\n",
       "      <td>63.0</td>\n",
       "      <td>...</td>\n",
       "      <td>0</td>\n",
       "      <td>0</td>\n",
       "      <td>0</td>\n",
       "      <td>0</td>\n",
       "      <td>0</td>\n",
       "      <td>0</td>\n",
       "      <td>0</td>\n",
       "      <td>0</td>\n",
       "      <td>0</td>\n",
       "      <td>1</td>\n",
       "    </tr>\n",
       "  </tbody>\n",
       "</table>\n",
       "<p>5 rows × 63 columns</p>\n",
       "</div>"
      ],
      "text/plain": [
       "       RainTomorrow  MinTemp  MaxTemp  Rainfall  Evaporation  Sunshine  \\\n",
       "31156             0     13.8     19.5       0.0          4.6       9.5   \n",
       "31159             0     16.5     21.1       1.2          6.2       6.6   \n",
       "31160             0     16.4     21.8       1.0          6.0       5.9   \n",
       "31161             1     16.7     23.9       0.4          7.0       2.8   \n",
       "31162             0     17.8     28.9       2.0          4.0      10.8   \n",
       "\n",
       "       WindGustSpeed  WindSpeed9am  WindSpeed3pm  Humidity9am  ...  \\\n",
       "31156           35.0           4.0          19.0         73.0  ...   \n",
       "31159           56.0          26.0          20.0         62.0  ...   \n",
       "31160           50.0          13.0          28.0         82.0  ...   \n",
       "31161           39.0           7.0          19.0         81.0  ...   \n",
       "31162           41.0          22.0          17.0         63.0  ...   \n",
       "\n",
       "       WindDir3pm_NW  WindDir3pm_S  WindDir3pm_SE  WindDir3pm_SSE  \\\n",
       "31156              0             0              0               0   \n",
       "31159              0             0              0               0   \n",
       "31160              0             0              0               0   \n",
       "31161              0             0              0               0   \n",
       "31162              0             0              0               0   \n",
       "\n",
       "       WindDir3pm_SSW  WindDir3pm_SW  WindDir3pm_W  WindDir3pm_WNW  \\\n",
       "31156               0              0             0               0   \n",
       "31159               0              0             0               0   \n",
       "31160               0              0             0               0   \n",
       "31161               0              0             0               0   \n",
       "31162               0              0             0               0   \n",
       "\n",
       "       WindDir3pm_WSW  RainToday_Yes  \n",
       "31156               0              0  \n",
       "31159               0              1  \n",
       "31160               0              0  \n",
       "31161               0              0  \n",
       "31162               0              1  \n",
       "\n",
       "[5 rows x 63 columns]"
      ]
     },
     "execution_count": 18,
     "metadata": {},
     "output_type": "execute_result"
    }
   ],
   "source": [
    "#Convert remaining object fields into dummy variables, stored as new dataframe, weather_d.\n",
    "#Dropping first of each dummy to keep feature space manageable.\n",
    "weather_syd_d = pd.get_dummies(weather_syd, drop_first = True)\n",
    "weather_syd_d.head()"
   ]
  },
  {
   "cell_type": "markdown",
   "metadata": {},
   "source": [
    "# Exploratory Data Analysis"
   ]
  },
  {
   "cell_type": "code",
   "execution_count": 19,
   "metadata": {},
   "outputs": [
    {
     "data": {
      "text/html": [
       "<div>\n",
       "<style scoped>\n",
       "    .dataframe tbody tr th:only-of-type {\n",
       "        vertical-align: middle;\n",
       "    }\n",
       "\n",
       "    .dataframe tbody tr th {\n",
       "        vertical-align: top;\n",
       "    }\n",
       "\n",
       "    .dataframe thead th {\n",
       "        text-align: right;\n",
       "    }\n",
       "</style>\n",
       "<table border=\"1\" class=\"dataframe\">\n",
       "  <thead>\n",
       "    <tr style=\"text-align: right;\">\n",
       "      <th></th>\n",
       "      <th>RainTomorrow</th>\n",
       "      <th>MinTemp</th>\n",
       "      <th>MaxTemp</th>\n",
       "      <th>Rainfall</th>\n",
       "      <th>Evaporation</th>\n",
       "      <th>Sunshine</th>\n",
       "      <th>WindGustSpeed</th>\n",
       "      <th>WindSpeed9am</th>\n",
       "      <th>WindSpeed3pm</th>\n",
       "      <th>Humidity9am</th>\n",
       "      <th>...</th>\n",
       "      <th>WindDir3pm_NW</th>\n",
       "      <th>WindDir3pm_S</th>\n",
       "      <th>WindDir3pm_SE</th>\n",
       "      <th>WindDir3pm_SSE</th>\n",
       "      <th>WindDir3pm_SSW</th>\n",
       "      <th>WindDir3pm_SW</th>\n",
       "      <th>WindDir3pm_W</th>\n",
       "      <th>WindDir3pm_WNW</th>\n",
       "      <th>WindDir3pm_WSW</th>\n",
       "      <th>RainToday_Yes</th>\n",
       "    </tr>\n",
       "  </thead>\n",
       "  <tbody>\n",
       "    <tr>\n",
       "      <th>count</th>\n",
       "      <td>2285.000000</td>\n",
       "      <td>2285.000000</td>\n",
       "      <td>2285.000000</td>\n",
       "      <td>2285.000000</td>\n",
       "      <td>2285.000000</td>\n",
       "      <td>2285.000000</td>\n",
       "      <td>2285.000000</td>\n",
       "      <td>2285.000000</td>\n",
       "      <td>2285.000000</td>\n",
       "      <td>2285.000000</td>\n",
       "      <td>...</td>\n",
       "      <td>2285.000000</td>\n",
       "      <td>2285.000000</td>\n",
       "      <td>2285.000000</td>\n",
       "      <td>2285.000000</td>\n",
       "      <td>2285.000000</td>\n",
       "      <td>2285.000000</td>\n",
       "      <td>2285.000000</td>\n",
       "      <td>2285.000000</td>\n",
       "      <td>2285.000000</td>\n",
       "      <td>2285.000000</td>\n",
       "    </tr>\n",
       "    <tr>\n",
       "      <th>mean</th>\n",
       "      <td>0.260832</td>\n",
       "      <td>15.051116</td>\n",
       "      <td>23.280700</td>\n",
       "      <td>3.495492</td>\n",
       "      <td>5.311734</td>\n",
       "      <td>7.190440</td>\n",
       "      <td>41.760613</td>\n",
       "      <td>15.303282</td>\n",
       "      <td>19.751422</td>\n",
       "      <td>67.622172</td>\n",
       "      <td>...</td>\n",
       "      <td>0.018818</td>\n",
       "      <td>0.070460</td>\n",
       "      <td>0.063457</td>\n",
       "      <td>0.087090</td>\n",
       "      <td>0.048140</td>\n",
       "      <td>0.013129</td>\n",
       "      <td>0.055142</td>\n",
       "      <td>0.055142</td>\n",
       "      <td>0.035886</td>\n",
       "      <td>0.261707</td>\n",
       "    </tr>\n",
       "    <tr>\n",
       "      <th>std</th>\n",
       "      <td>0.439184</td>\n",
       "      <td>4.543949</td>\n",
       "      <td>4.491279</td>\n",
       "      <td>10.497717</td>\n",
       "      <td>2.784595</td>\n",
       "      <td>3.818992</td>\n",
       "      <td>12.974008</td>\n",
       "      <td>6.939280</td>\n",
       "      <td>7.456553</td>\n",
       "      <td>14.950889</td>\n",
       "      <td>...</td>\n",
       "      <td>0.135913</td>\n",
       "      <td>0.255976</td>\n",
       "      <td>0.243837</td>\n",
       "      <td>0.282028</td>\n",
       "      <td>0.214109</td>\n",
       "      <td>0.113853</td>\n",
       "      <td>0.228308</td>\n",
       "      <td>0.228308</td>\n",
       "      <td>0.186047</td>\n",
       "      <td>0.439660</td>\n",
       "    </tr>\n",
       "    <tr>\n",
       "      <th>min</th>\n",
       "      <td>0.000000</td>\n",
       "      <td>5.000000</td>\n",
       "      <td>11.700000</td>\n",
       "      <td>0.000000</td>\n",
       "      <td>0.000000</td>\n",
       "      <td>0.000000</td>\n",
       "      <td>17.000000</td>\n",
       "      <td>2.000000</td>\n",
       "      <td>2.000000</td>\n",
       "      <td>19.000000</td>\n",
       "      <td>...</td>\n",
       "      <td>0.000000</td>\n",
       "      <td>0.000000</td>\n",
       "      <td>0.000000</td>\n",
       "      <td>0.000000</td>\n",
       "      <td>0.000000</td>\n",
       "      <td>0.000000</td>\n",
       "      <td>0.000000</td>\n",
       "      <td>0.000000</td>\n",
       "      <td>0.000000</td>\n",
       "      <td>0.000000</td>\n",
       "    </tr>\n",
       "    <tr>\n",
       "      <th>25%</th>\n",
       "      <td>0.000000</td>\n",
       "      <td>11.200000</td>\n",
       "      <td>20.000000</td>\n",
       "      <td>0.000000</td>\n",
       "      <td>3.200000</td>\n",
       "      <td>4.300000</td>\n",
       "      <td>31.000000</td>\n",
       "      <td>11.000000</td>\n",
       "      <td>15.000000</td>\n",
       "      <td>58.000000</td>\n",
       "      <td>...</td>\n",
       "      <td>0.000000</td>\n",
       "      <td>0.000000</td>\n",
       "      <td>0.000000</td>\n",
       "      <td>0.000000</td>\n",
       "      <td>0.000000</td>\n",
       "      <td>0.000000</td>\n",
       "      <td>0.000000</td>\n",
       "      <td>0.000000</td>\n",
       "      <td>0.000000</td>\n",
       "      <td>0.000000</td>\n",
       "    </tr>\n",
       "    <tr>\n",
       "      <th>50%</th>\n",
       "      <td>0.000000</td>\n",
       "      <td>15.200000</td>\n",
       "      <td>23.200000</td>\n",
       "      <td>0.000000</td>\n",
       "      <td>5.000000</td>\n",
       "      <td>8.200000</td>\n",
       "      <td>41.000000</td>\n",
       "      <td>15.000000</td>\n",
       "      <td>20.000000</td>\n",
       "      <td>68.000000</td>\n",
       "      <td>...</td>\n",
       "      <td>0.000000</td>\n",
       "      <td>0.000000</td>\n",
       "      <td>0.000000</td>\n",
       "      <td>0.000000</td>\n",
       "      <td>0.000000</td>\n",
       "      <td>0.000000</td>\n",
       "      <td>0.000000</td>\n",
       "      <td>0.000000</td>\n",
       "      <td>0.000000</td>\n",
       "      <td>0.000000</td>\n",
       "    </tr>\n",
       "    <tr>\n",
       "      <th>75%</th>\n",
       "      <td>1.000000</td>\n",
       "      <td>18.900000</td>\n",
       "      <td>26.300000</td>\n",
       "      <td>1.400000</td>\n",
       "      <td>7.200000</td>\n",
       "      <td>10.200000</td>\n",
       "      <td>50.000000</td>\n",
       "      <td>20.000000</td>\n",
       "      <td>24.000000</td>\n",
       "      <td>79.000000</td>\n",
       "      <td>...</td>\n",
       "      <td>0.000000</td>\n",
       "      <td>0.000000</td>\n",
       "      <td>0.000000</td>\n",
       "      <td>0.000000</td>\n",
       "      <td>0.000000</td>\n",
       "      <td>0.000000</td>\n",
       "      <td>0.000000</td>\n",
       "      <td>0.000000</td>\n",
       "      <td>0.000000</td>\n",
       "      <td>1.000000</td>\n",
       "    </tr>\n",
       "    <tr>\n",
       "      <th>max</th>\n",
       "      <td>1.000000</td>\n",
       "      <td>27.600000</td>\n",
       "      <td>45.800000</td>\n",
       "      <td>119.400000</td>\n",
       "      <td>18.400000</td>\n",
       "      <td>13.600000</td>\n",
       "      <td>96.000000</td>\n",
       "      <td>54.000000</td>\n",
       "      <td>57.000000</td>\n",
       "      <td>100.000000</td>\n",
       "      <td>...</td>\n",
       "      <td>1.000000</td>\n",
       "      <td>1.000000</td>\n",
       "      <td>1.000000</td>\n",
       "      <td>1.000000</td>\n",
       "      <td>1.000000</td>\n",
       "      <td>1.000000</td>\n",
       "      <td>1.000000</td>\n",
       "      <td>1.000000</td>\n",
       "      <td>1.000000</td>\n",
       "      <td>1.000000</td>\n",
       "    </tr>\n",
       "  </tbody>\n",
       "</table>\n",
       "<p>8 rows × 63 columns</p>\n",
       "</div>"
      ],
      "text/plain": [
       "       RainTomorrow      MinTemp      MaxTemp     Rainfall  Evaporation  \\\n",
       "count   2285.000000  2285.000000  2285.000000  2285.000000  2285.000000   \n",
       "mean       0.260832    15.051116    23.280700     3.495492     5.311734   \n",
       "std        0.439184     4.543949     4.491279    10.497717     2.784595   \n",
       "min        0.000000     5.000000    11.700000     0.000000     0.000000   \n",
       "25%        0.000000    11.200000    20.000000     0.000000     3.200000   \n",
       "50%        0.000000    15.200000    23.200000     0.000000     5.000000   \n",
       "75%        1.000000    18.900000    26.300000     1.400000     7.200000   \n",
       "max        1.000000    27.600000    45.800000   119.400000    18.400000   \n",
       "\n",
       "          Sunshine  WindGustSpeed  WindSpeed9am  WindSpeed3pm  Humidity9am  \\\n",
       "count  2285.000000    2285.000000   2285.000000   2285.000000  2285.000000   \n",
       "mean      7.190440      41.760613     15.303282     19.751422    67.622172   \n",
       "std       3.818992      12.974008      6.939280      7.456553    14.950889   \n",
       "min       0.000000      17.000000      2.000000      2.000000    19.000000   \n",
       "25%       4.300000      31.000000     11.000000     15.000000    58.000000   \n",
       "50%       8.200000      41.000000     15.000000     20.000000    68.000000   \n",
       "75%      10.200000      50.000000     20.000000     24.000000    79.000000   \n",
       "max      13.600000      96.000000     54.000000     57.000000   100.000000   \n",
       "\n",
       "       ...  WindDir3pm_NW  WindDir3pm_S  WindDir3pm_SE  WindDir3pm_SSE  \\\n",
       "count  ...    2285.000000   2285.000000    2285.000000     2285.000000   \n",
       "mean   ...       0.018818      0.070460       0.063457        0.087090   \n",
       "std    ...       0.135913      0.255976       0.243837        0.282028   \n",
       "min    ...       0.000000      0.000000       0.000000        0.000000   \n",
       "25%    ...       0.000000      0.000000       0.000000        0.000000   \n",
       "50%    ...       0.000000      0.000000       0.000000        0.000000   \n",
       "75%    ...       0.000000      0.000000       0.000000        0.000000   \n",
       "max    ...       1.000000      1.000000       1.000000        1.000000   \n",
       "\n",
       "       WindDir3pm_SSW  WindDir3pm_SW  WindDir3pm_W  WindDir3pm_WNW  \\\n",
       "count     2285.000000    2285.000000   2285.000000     2285.000000   \n",
       "mean         0.048140       0.013129      0.055142        0.055142   \n",
       "std          0.214109       0.113853      0.228308        0.228308   \n",
       "min          0.000000       0.000000      0.000000        0.000000   \n",
       "25%          0.000000       0.000000      0.000000        0.000000   \n",
       "50%          0.000000       0.000000      0.000000        0.000000   \n",
       "75%          0.000000       0.000000      0.000000        0.000000   \n",
       "max          1.000000       1.000000      1.000000        1.000000   \n",
       "\n",
       "       WindDir3pm_WSW  RainToday_Yes  \n",
       "count     2285.000000    2285.000000  \n",
       "mean         0.035886       0.261707  \n",
       "std          0.186047       0.439660  \n",
       "min          0.000000       0.000000  \n",
       "25%          0.000000       0.000000  \n",
       "50%          0.000000       0.000000  \n",
       "75%          0.000000       1.000000  \n",
       "max          1.000000       1.000000  \n",
       "\n",
       "[8 rows x 63 columns]"
      ]
     },
     "execution_count": 19,
     "metadata": {},
     "output_type": "execute_result"
    }
   ],
   "source": [
    "weather_syd_d.describe()"
   ]
  },
  {
   "cell_type": "markdown",
   "metadata": {},
   "source": [
    "Right away we can see that there is a wide range of weather happening in Sydney. Temperatures are ranging from 5 degC to 45.8 degC. We can also see that more often than not, it does not rain in Sydney. Let's visualize the proportions of rain or no rain."
   ]
  },
  {
   "cell_type": "code",
   "execution_count": 20,
   "metadata": {},
   "outputs": [
    {
     "name": "stdout",
     "output_type": "stream",
     "text": [
      "RainTomorrow\n",
      "0    1689\n",
      "1     596\n",
      "Name: RainTomorrow, dtype: int64\n"
     ]
    },
    {
     "data": {
      "text/plain": [
       "<matplotlib.lines.Line2D at 0x7fbf20b82b50>"
      ]
     },
     "execution_count": 20,
     "metadata": {},
     "output_type": "execute_result"
    },
    {
     "data": {
      "image/png": "[encoded data removed]",
      "text/plain": [
       "<Figure size 432x288 with 1 Axes>"
      ]
     },
     "metadata": {
      "needs_background": "light"
     },
     "output_type": "display_data"
    }
   ],
   "source": [
    "#Visualizing the difference in scale of wins between Blue (1) and Red (0) corners\n",
    "groupby = weather_syd_d.groupby(['RainTomorrow'])\n",
    "targetEDA=groupby['RainTomorrow'].aggregate(len)\n",
    "print(targetEDA)\n",
    "plt.figure()\n",
    "targetEDA.plot(kind='bar', grid=False)\n",
    "plt.axhline(0, color='k')"
   ]
  },
  {
   "cell_type": "markdown",
   "metadata": {},
   "source": [
    "We can see from this graph and matrix that the data is fairly skewed to NO RAIN, or 0. It appears that it only rains about 26% of the time in Sydney. In other terms, there is roughly a 26% chance that it will rain tomorrow. Using this frequency, we can determine that for our models to be predictively significant, they need to be at least 74% accurate. \n",
    "\n",
    "However, Accuracy wont be our main driver for model performance. Our relationhip of Recall and Precision will be the best measurement for these models since the RainTomorrow prediction only happens 26% of the time, we need to make sure we are hitting our best scores predicting our Yes variable. To make this simple, we can view the F1 score to see the weighted average of the two. The best F1 score we can achive is 1, and the worst is 0. Since both Precision and Recall are weighted equally in this score's calcualtion, it will give us the best overall performance metric. We will also pay attention, and not forget our overall accuracy of to help us find our optimal model, we need to make sure this stays above 74% at least.\n",
    "\n",
    "Let's see what other kind of information we can find in our EDA."
   ]
  },
  {
   "cell_type": "markdown",
   "metadata": {},
   "source": [
    "### Correlation Analysis"
   ]
  },
  {
   "cell_type": "code",
   "execution_count": 21,
   "metadata": {},
   "outputs": [
    {
     "data": {
      "image/png": "[encoded data removed]",
      "text/plain": [
       "<Figure size 1080x1080 with 2 Axes>"
      ]
     },
     "metadata": {
      "needs_background": "light"
     },
     "output_type": "display_data"
    }
   ],
   "source": [
    "#Create correlation matrix\n",
    "corr_matrix = weather_syd.iloc[:,1:].corr()\n",
    "corr_matrix\n",
    "\n",
    "import seaborn as sns\n",
    "\n",
    "plt.figure(figsize=(15,15)) #need to adjust size as needed.\n",
    "mask = np.zeros_like(corr_matrix, dtype=np.bool)\n",
    "mask[np.triu_indices_from(mask)] = True\n",
    "\n",
    "sns.heatmap(corr_matrix,\n",
    "           vmin=-1,\n",
    "           vmax=1,\n",
    "           cmap='coolwarm',\n",
    "           annot=True,\n",
    "           mask=mask)\n",
    "plt.show()"
   ]
  },
  {
   "cell_type": "markdown",
   "metadata": {},
   "source": [
    "We can see some correlation happening between a handfull of our variables. First, we can see that both Cloud9am and Cloud3pm are negatively correlated to Sunshine, which makes sense. If there is more sunshine, there would logically be less cloud coverage. We can also see that the temperatures and pressure from at 9am and 3pm are positively corelated. This also logically makes sense, unless we were to see a big change in those measurements at midday, they would stay relatively consistent, you would still see the gradual increase as the day warms up, but you would not likely see half the day cold and the other hot. Sydney has a mild climate and it stays relatively warm. Not often do they see large changes throughout the day. (This isn't Kansas City!!)\n",
    "\n",
    "At this stage, seeing how our variables are correlated, we should be able to reduce our feature space a bit, cutting out some of the variables that follow eachother. We will plan to remove Temp9am, Pressure9am, MinTemp, and Cloud9am. I am choosing to eliminate the 9am variables to keep them consistent, noting that the weather later in the day being closer to the following prediction day."
   ]
  },
  {
   "cell_type": "code",
   "execution_count": 22,
   "metadata": {},
   "outputs": [],
   "source": [
    "weather_syd_d.drop(columns=['Temp9am', 'Pressure9am', 'MinTemp', 'Cloud9am'], inplace=True)"
   ]
  },
  {
   "cell_type": "code",
   "execution_count": 23,
   "metadata": {},
   "outputs": [
    {
     "data": {
      "text/html": [
       "<div>\n",
       "<style scoped>\n",
       "    .dataframe tbody tr th:only-of-type {\n",
       "        vertical-align: middle;\n",
       "    }\n",
       "\n",
       "    .dataframe tbody tr th {\n",
       "        vertical-align: top;\n",
       "    }\n",
       "\n",
       "    .dataframe thead th {\n",
       "        text-align: right;\n",
       "    }\n",
       "</style>\n",
       "<table border=\"1\" class=\"dataframe\">\n",
       "  <thead>\n",
       "    <tr style=\"text-align: right;\">\n",
       "      <th></th>\n",
       "      <th>RainTomorrow</th>\n",
       "      <th>MaxTemp</th>\n",
       "      <th>Rainfall</th>\n",
       "      <th>Evaporation</th>\n",
       "      <th>Sunshine</th>\n",
       "      <th>WindGustSpeed</th>\n",
       "      <th>WindSpeed9am</th>\n",
       "      <th>WindSpeed3pm</th>\n",
       "      <th>Humidity9am</th>\n",
       "      <th>Humidity3pm</th>\n",
       "      <th>...</th>\n",
       "      <th>WindDir3pm_NW</th>\n",
       "      <th>WindDir3pm_S</th>\n",
       "      <th>WindDir3pm_SE</th>\n",
       "      <th>WindDir3pm_SSE</th>\n",
       "      <th>WindDir3pm_SSW</th>\n",
       "      <th>WindDir3pm_SW</th>\n",
       "      <th>WindDir3pm_W</th>\n",
       "      <th>WindDir3pm_WNW</th>\n",
       "      <th>WindDir3pm_WSW</th>\n",
       "      <th>RainToday_Yes</th>\n",
       "    </tr>\n",
       "  </thead>\n",
       "  <tbody>\n",
       "    <tr>\n",
       "      <th>31156</th>\n",
       "      <td>0</td>\n",
       "      <td>19.5</td>\n",
       "      <td>0.0</td>\n",
       "      <td>4.6</td>\n",
       "      <td>9.5</td>\n",
       "      <td>35.0</td>\n",
       "      <td>4.0</td>\n",
       "      <td>19.0</td>\n",
       "      <td>73.0</td>\n",
       "      <td>56.0</td>\n",
       "      <td>...</td>\n",
       "      <td>0</td>\n",
       "      <td>0</td>\n",
       "      <td>0</td>\n",
       "      <td>0</td>\n",
       "      <td>0</td>\n",
       "      <td>0</td>\n",
       "      <td>0</td>\n",
       "      <td>0</td>\n",
       "      <td>0</td>\n",
       "      <td>0</td>\n",
       "    </tr>\n",
       "    <tr>\n",
       "      <th>31159</th>\n",
       "      <td>0</td>\n",
       "      <td>21.1</td>\n",
       "      <td>1.2</td>\n",
       "      <td>6.2</td>\n",
       "      <td>6.6</td>\n",
       "      <td>56.0</td>\n",
       "      <td>26.0</td>\n",
       "      <td>20.0</td>\n",
       "      <td>62.0</td>\n",
       "      <td>55.0</td>\n",
       "      <td>...</td>\n",
       "      <td>0</td>\n",
       "      <td>0</td>\n",
       "      <td>0</td>\n",
       "      <td>0</td>\n",
       "      <td>0</td>\n",
       "      <td>0</td>\n",
       "      <td>0</td>\n",
       "      <td>0</td>\n",
       "      <td>0</td>\n",
       "      <td>1</td>\n",
       "    </tr>\n",
       "    <tr>\n",
       "      <th>31160</th>\n",
       "      <td>0</td>\n",
       "      <td>21.8</td>\n",
       "      <td>1.0</td>\n",
       "      <td>6.0</td>\n",
       "      <td>5.9</td>\n",
       "      <td>50.0</td>\n",
       "      <td>13.0</td>\n",
       "      <td>28.0</td>\n",
       "      <td>82.0</td>\n",
       "      <td>58.0</td>\n",
       "      <td>...</td>\n",
       "      <td>0</td>\n",
       "      <td>0</td>\n",
       "      <td>0</td>\n",
       "      <td>0</td>\n",
       "      <td>0</td>\n",
       "      <td>0</td>\n",
       "      <td>0</td>\n",
       "      <td>0</td>\n",
       "      <td>0</td>\n",
       "      <td>0</td>\n",
       "    </tr>\n",
       "    <tr>\n",
       "      <th>31161</th>\n",
       "      <td>1</td>\n",
       "      <td>23.9</td>\n",
       "      <td>0.4</td>\n",
       "      <td>7.0</td>\n",
       "      <td>2.8</td>\n",
       "      <td>39.0</td>\n",
       "      <td>7.0</td>\n",
       "      <td>19.0</td>\n",
       "      <td>81.0</td>\n",
       "      <td>64.0</td>\n",
       "      <td>...</td>\n",
       "      <td>0</td>\n",
       "      <td>0</td>\n",
       "      <td>0</td>\n",
       "      <td>0</td>\n",
       "      <td>0</td>\n",
       "      <td>0</td>\n",
       "      <td>0</td>\n",
       "      <td>0</td>\n",
       "      <td>0</td>\n",
       "      <td>0</td>\n",
       "    </tr>\n",
       "    <tr>\n",
       "      <th>31162</th>\n",
       "      <td>0</td>\n",
       "      <td>28.9</td>\n",
       "      <td>2.0</td>\n",
       "      <td>4.0</td>\n",
       "      <td>10.8</td>\n",
       "      <td>41.0</td>\n",
       "      <td>22.0</td>\n",
       "      <td>17.0</td>\n",
       "      <td>63.0</td>\n",
       "      <td>48.0</td>\n",
       "      <td>...</td>\n",
       "      <td>0</td>\n",
       "      <td>0</td>\n",
       "      <td>0</td>\n",
       "      <td>0</td>\n",
       "      <td>0</td>\n",
       "      <td>0</td>\n",
       "      <td>0</td>\n",
       "      <td>0</td>\n",
       "      <td>0</td>\n",
       "      <td>1</td>\n",
       "    </tr>\n",
       "  </tbody>\n",
       "</table>\n",
       "<p>5 rows × 59 columns</p>\n",
       "</div>"
      ],
      "text/plain": [
       "       RainTomorrow  MaxTemp  Rainfall  Evaporation  Sunshine  WindGustSpeed  \\\n",
       "31156             0     19.5       0.0          4.6       9.5           35.0   \n",
       "31159             0     21.1       1.2          6.2       6.6           56.0   \n",
       "31160             0     21.8       1.0          6.0       5.9           50.0   \n",
       "31161             1     23.9       0.4          7.0       2.8           39.0   \n",
       "31162             0     28.9       2.0          4.0      10.8           41.0   \n",
       "\n",
       "       WindSpeed9am  WindSpeed3pm  Humidity9am  Humidity3pm  ...  \\\n",
       "31156           4.0          19.0         73.0         56.0  ...   \n",
       "31159          26.0          20.0         62.0         55.0  ...   \n",
       "31160          13.0          28.0         82.0         58.0  ...   \n",
       "31161           7.0          19.0         81.0         64.0  ...   \n",
       "31162          22.0          17.0         63.0         48.0  ...   \n",
       "\n",
       "       WindDir3pm_NW  WindDir3pm_S  WindDir3pm_SE  WindDir3pm_SSE  \\\n",
       "31156              0             0              0               0   \n",
       "31159              0             0              0               0   \n",
       "31160              0             0              0               0   \n",
       "31161              0             0              0               0   \n",
       "31162              0             0              0               0   \n",
       "\n",
       "       WindDir3pm_SSW  WindDir3pm_SW  WindDir3pm_W  WindDir3pm_WNW  \\\n",
       "31156               0              0             0               0   \n",
       "31159               0              0             0               0   \n",
       "31160               0              0             0               0   \n",
       "31161               0              0             0               0   \n",
       "31162               0              0             0               0   \n",
       "\n",
       "       WindDir3pm_WSW  RainToday_Yes  \n",
       "31156               0              0  \n",
       "31159               0              1  \n",
       "31160               0              0  \n",
       "31161               0              0  \n",
       "31162               0              1  \n",
       "\n",
       "[5 rows x 59 columns]"
      ]
     },
     "execution_count": 23,
     "metadata": {},
     "output_type": "execute_result"
    }
   ],
   "source": [
    "weather_syd_d.head()"
   ]
  },
  {
   "cell_type": "markdown",
   "metadata": {},
   "source": [
    "I would like to explore some of the predictive variables in relation to our target variable. I would like to see how Sunshine, Evaporation, Humidity, and Pressure all relate to our chances of Rain Tomorrow. I will perform a series of plots to see this relationship.\n",
    "\n",
    "### Sunshine vs. Rain Tomorrow"
   ]
  },
  {
   "cell_type": "code",
   "execution_count": 24,
   "metadata": {},
   "outputs": [
    {
     "data": {
      "image/png": "[encoded data removed]",
      "text/plain": [
       "<Figure size 432x288 with 1 Axes>"
      ]
     },
     "metadata": {
      "needs_background": "light"
     },
     "output_type": "display_data"
    }
   ],
   "source": [
    "#Code credit to - https://medium.com/analytics-vidhya/tutorial-exploratory-data-analysis-eda-with-categorical-variables-6a569a3aea55\n",
    "\n",
    "#Create histogram comparing RainTomorrow to Sunshine\n",
    "\n",
    "fig, ax = plt.subplots()\n",
    "\n",
    "ax.hist(weather_syd[weather_syd[\"RainTomorrow\"]==1][\"Sunshine\"], bins=15, alpha=0.5, color=\"blue\", label=\"rained\")\n",
    "ax.hist(weather_syd[weather_syd[\"RainTomorrow\"]==0][\"Sunshine\"], bins=15, alpha=0.5, color=\"green\", label=\"did not rain\")\n",
    "\n",
    "ax.set_xlabel(\"Sunshine\")\n",
    "ax.set_ylabel(\"Count of days\")\n",
    "\n",
    "fig.suptitle(\"Sunshine vs. Rain for Tomorrow\")\n",
    "\n",
    "ax.legend();"
   ]
  },
  {
   "cell_type": "markdown",
   "metadata": {},
   "source": [
    "We can clearly see if the day had significant sunshine, then it did not end up raining the following day. This is what I was expecting to see. It appears that rain in these areas possibly require some buildup through the previous day to result in significant enought precipitation.\n",
    "\n",
    "Next, I would like to see how Evaporation has an effect.\n",
    "\n",
    "### Evaporation vs. Rain Tomorrow"
   ]
  },
  {
   "cell_type": "code",
   "execution_count": 25,
   "metadata": {},
   "outputs": [
    {
     "data": {
      "image/png": "[encoded data removed]",
      "text/plain": [
       "<Figure size 432x288 with 1 Axes>"
      ]
     },
     "metadata": {
      "needs_background": "light"
     },
     "output_type": "display_data"
    }
   ],
   "source": [
    "#Create histogram comparing RainTomorrow to Evaporation\n",
    "\n",
    "fig, ax = plt.subplots()\n",
    "\n",
    "ax.hist(weather_syd[weather_syd[\"RainTomorrow\"]==1][\"Evaporation\"], bins=15, alpha=0.5, color=\"blue\", label=\"rained\")\n",
    "ax.hist(weather_syd[weather_syd[\"RainTomorrow\"]==0][\"Evaporation\"], bins=15, alpha=0.5, color=\"green\", label=\"did not rain\")\n",
    "\n",
    "ax.set_xlabel(\"Evaporation\")\n",
    "ax.set_ylabel(\"Count of days\")\n",
    "\n",
    "fig.suptitle(\"Evaporation vs. Rain for Tomorrow\")\n",
    "\n",
    "ax.legend();"
   ]
  },
  {
   "cell_type": "markdown",
   "metadata": {},
   "source": [
    "This is interesting. I assumed that a day with high evaporation would result in a greater count of rainy days. With the atmosphere collecting more liquid, I assumed we would see a release more offten the follwoing day. Instead what we find is that they are roughly the same. The difference in values we see here is in line with the target distribution.\n",
    "\n",
    "Next, let's see how Humidity factors in. I will use Humidity readings from 3pm, since it is closest in time to the following day, i.e. our prediction.\n",
    "\n",
    "### Humidity vs. Rain Tomorrow"
   ]
  },
  {
   "cell_type": "code",
   "execution_count": 26,
   "metadata": {},
   "outputs": [
    {
     "data": {
      "image/png": "[encoded data removed]",
      "text/plain": [
       "<Figure size 432x288 with 1 Axes>"
      ]
     },
     "metadata": {
      "needs_background": "light"
     },
     "output_type": "display_data"
    }
   ],
   "source": [
    "#Create histogram comparing RainTomorrow to Humidity3pm\n",
    "\n",
    "fig, ax = plt.subplots()\n",
    "\n",
    "ax.hist(weather_syd[weather_syd[\"RainTomorrow\"]==1][\"Humidity3pm\"], bins=15, alpha=0.5, color=\"blue\", label=\"rained\")\n",
    "ax.hist(weather_syd[weather_syd[\"RainTomorrow\"]==0][\"Humidity3pm\"], bins=15, alpha=0.5, color=\"green\", label=\"did not rain\")\n",
    "\n",
    "ax.set_xlabel(\"Humidity3pm\")\n",
    "ax.set_ylabel(\"Count of days\")\n",
    "\n",
    "fig.suptitle(\"Humidity vs. Rain for Tomorrow\")\n",
    "\n",
    "ax.legend();"
   ]
  },
  {
   "cell_type": "markdown",
   "metadata": {},
   "source": [
    "This spread is more in line with my expectations. A higer humidity level late in the day does tend to create an increase in rainy days to follow. This shows that the atmosphere is relatively 'charged' up and ready to release water the following day.\n",
    "\n",
    "Let's check and see how Pressure relates, I will continue the trend of 3pm.\n",
    "\n",
    "### Pressure vs. Rain Tomorrow"
   ]
  },
  {
   "cell_type": "code",
   "execution_count": 27,
   "metadata": {},
   "outputs": [
    {
     "data": {
      "image/png": "[encoded data removed]",
      "text/plain": [
       "<Figure size 432x288 with 1 Axes>"
      ]
     },
     "metadata": {
      "needs_background": "light"
     },
     "output_type": "display_data"
    }
   ],
   "source": [
    "#Create histogram comparing RainTomorrow to Pressure3pm\n",
    "\n",
    "fig, ax = plt.subplots()\n",
    "\n",
    "ax.hist(weather_syd[weather_syd[\"RainTomorrow\"]==1][\"Pressure3pm\"], bins=15, alpha=0.5, color=\"blue\", label=\"rained\")\n",
    "ax.hist(weather_syd[weather_syd[\"RainTomorrow\"]==0][\"Pressure3pm\"], bins=15, alpha=0.5, color=\"green\", label=\"did not rain\")\n",
    "\n",
    "ax.set_xlabel(\"Pressure3pm\")\n",
    "ax.set_ylabel(\"Count of days\")\n",
    "\n",
    "fig.suptitle(\"Pressure vs. Rain for Tomorrow\")\n",
    "\n",
    "ax.legend();"
   ]
  },
  {
   "cell_type": "markdown",
   "metadata": {},
   "source": [
    "This is interesting. It appears that Pressure skews slightly to the right, meaning that it may have a little impact, just not as much as I expected to see.\n",
    "\n",
    "One last comparison I would like to make is between RainToday and RainTomorrow. Are we going to typically see rain carry over into a second day? Or are they more isolated daily incidents?\n",
    "\n",
    "### Rain Today vs. Rain Tomorrow"
   ]
  },
  {
   "cell_type": "code",
   "execution_count": 28,
   "metadata": {},
   "outputs": [
    {
     "name": "stdout",
     "output_type": "stream",
     "text": [
      "Rain Today        0    1\n",
      "Rain Tomorrow           \n",
      "0              1394  295\n",
      "1               293  303\n"
     ]
    }
   ],
   "source": [
    "#Create Crosstab of Rain Tomorrow vs Rain Today\n",
    "\n",
    "rain_cross=pd.crosstab(weather_syd_d.RainTomorrow, weather_syd_d.RainToday_Yes, colnames=['Rain Today'],rownames=['Rain Tomorrow'])\n",
    "print(rain_cross)"
   ]
  },
  {
   "cell_type": "code",
   "execution_count": 29,
   "metadata": {},
   "outputs": [
    {
     "data": {
      "text/plain": [
       "Text(0.5, 1.0, 'Rain Tomorrow vs. Rain Today')"
      ]
     },
     "execution_count": 29,
     "metadata": {},
     "output_type": "execute_result"
    },
    {
     "data": {
      "image/png": "[encoded data removed]",
      "text/plain": [
       "<Figure size 432x288 with 1 Axes>"
      ]
     },
     "metadata": {
      "needs_background": "light"
     },
     "output_type": "display_data"
    }
   ],
   "source": [
    "#Create stacked bar chart to visualize crosstab\n",
    "\n",
    "rain_cross.plot(kind='bar', stacked=True)\n",
    "plt.title('Rain Tomorrow vs. Rain Today')"
   ]
  },
  {
   "cell_type": "markdown",
   "metadata": {},
   "source": [
    "We can see that rain today does seem to have somewhat of an impact. Of all our recorded days with rain, the following day recorded rain around 50% of the time. This tells us that when there is rain one day, there would be a roughly 50/50 chance that we will see rain the following day.\n",
    "\n",
    "Through this EDA we can see that some of these variables, Sunshine and Humidity do have a positive impact to our chances of rain the following day. We can see that surprisingly, Evaporation has a slightly negative effect on our rain tomorrow chances. We have also learned that due to the neutral, almost normal distribution of effect that pressure has on our rain chances, it is not that impactful to the overall model."
   ]
  },
  {
   "cell_type": "markdown",
   "metadata": {},
   "source": [
    "# Predictive Classification Models\n",
    "\n",
    "### Create Training and Test Sets"
   ]
  },
  {
   "cell_type": "code",
   "execution_count": 30,
   "metadata": {},
   "outputs": [
    {
     "name": "stdout",
     "output_type": "stream",
     "text": [
      "(1599, 58)\n",
      "(1599,)\n",
      "(686, 58)\n",
      "(686,)\n"
     ]
    }
   ],
   "source": [
    "#Create a 70/30 split for our Training and Test sets.\n",
    "\n",
    "from sklearn.model_selection  import train_test_split\n",
    "features_train, features_test, target_train, target_test = train_test_split(\n",
    "    weather_syd_d.iloc[:,1:].values, weather_syd_d.iloc[:,0].values, test_size=0.30, random_state=0)\n",
    "\n",
    "print(features_train.shape)\n",
    "print(target_train.shape)\n",
    "print(features_test.shape)\n",
    "print(target_test.shape)"
   ]
  },
  {
   "cell_type": "markdown",
   "metadata": {},
   "source": [
    "### K-Nearest Neighbor (KNN)"
   ]
  },
  {
   "cell_type": "code",
   "execution_count": 96,
   "metadata": {},
   "outputs": [
    {
     "name": "stdout",
     "output_type": "stream",
     "text": [
      "                    precision    recall  f1-score   support\n",
      "\n",
      " RainTomorrow = No       0.81      0.90      0.85       509\n",
      "RainTomorrow = yes       0.58      0.39      0.47       177\n",
      "\n",
      "          accuracy                           0.77       686\n",
      "         macro avg       0.69      0.65      0.66       686\n",
      "      weighted avg       0.75      0.77      0.75       686\n",
      "\n",
      "[[459  50]\n",
      " [108  69]]\n",
      "True Negatives:  459\n",
      "False Positives:  50\n",
      "False Negatives:  108\n",
      "True Positives:  69\n",
      "\n",
      "\n",
      "Accuracy Score 0.7696793002915452\n",
      "Precision Score 0.5798319327731093\n",
      "Recall Score 0.3898305084745763\n",
      "F1 Score 0.4662162162162163\n"
     ]
    }
   ],
   "source": [
    "from sklearn.neighbors import KNeighborsClassifier\n",
    "from sklearn.preprocessing import StandardScaler\n",
    "\n",
    "from sklearn.pipeline import make_pipeline\n",
    "clf_knn = make_pipeline(StandardScaler(), KNeighborsClassifier(n_neighbors=3))\n",
    "\n",
    "#Train\n",
    "clf_knn = clf_knn.fit(features_train, target_train)\n",
    "\n",
    "#Validate\n",
    "target_predicted_knn = clf_knn.predict(features_test)\n",
    "\n",
    "#extracting true_positives, false_positives, true_negatives, false_negatives\n",
    "target_names = [\"RainTomorrow = No\", \"RainTomorrow = yes\"]\n",
    "print(classification_report(target_test, target_predicted_knn, target_names=target_names))\n",
    "print(confusion_matrix(target_test, target_predicted_knn))\n",
    "tn, fp, fn, tp = confusion_matrix(target_test, target_predicted_knn).ravel()\n",
    "print(\"True Negatives: \",tn)\n",
    "print(\"False Positives: \",fp)\n",
    "print(\"False Negatives: \",fn)\n",
    "print(\"True Positives: \",tp)\n",
    "print('\\n')\n",
    "print(\"Accuracy Score\", accuracy_score(target_test, target_predicted_knn))\n",
    "print(\"Precision Score\", precision_score(target_test, target_predicted_knn))\n",
    "print(\"Recall Score\", recall_score(target_test, target_predicted_knn))\n",
    "print(\"F1 Score\", f1_score(target_test, target_predicted_knn))"
   ]
  },
  {
   "cell_type": "code",
   "execution_count": 43,
   "metadata": {},
   "outputs": [
    {
     "name": "stdout",
     "output_type": "stream",
     "text": [
      "Cross Validation Score for each K [0.7625     0.79375    0.75       0.81875    0.76875    0.73125\n",
      " 0.7875     0.8125     0.7875     0.78616352]\n"
     ]
    },
    {
     "data": {
      "text/plain": [
       "0.7798663522012579"
      ]
     },
     "execution_count": 43,
     "metadata": {},
     "output_type": "execute_result"
    }
   ],
   "source": [
    "#Verify results with cross validation, 10 fold\n",
    "scores = cross_val_score(clf_knn, features_train, target_train, cv=10)\n",
    "print(\"Cross Validation Score for each K\",scores)\n",
    "scores.mean() "
   ]
  },
  {
   "cell_type": "markdown",
   "metadata": {},
   "source": [
    "#### Results:\n",
    "For this model we tuned the number of neighbors. We performed tested the number of neighbors comparing n=3, n=5, and n=10. The best results came with n=3. The results between these three were somewhat of a balancing act. With n=10 we saw the highest accuracy and precision, yet with the lowest recall. n=3 saw our highest recall, yet the lowest precision. The accuracy between 3 and 5 remained mostly unchanged, but we saw the best ballance on n=3 with the F1 score at its highest of 0.47, with accuracy of 77%, Precision of 58% and Recall of 39%. Overall this is not a well performing model, and probably would not be of much help. Our best performing tune is only predicting 39% of the rainy days, and is only 58% precise when doing so.\n",
    "\n",
    "Let's see if we can improve."
   ]
  },
  {
   "cell_type": "markdown",
   "metadata": {},
   "source": [
    "### Decision Tree"
   ]
  },
  {
   "cell_type": "code",
   "execution_count": 97,
   "metadata": {},
   "outputs": [
    {
     "name": "stdout",
     "output_type": "stream",
     "text": [
      "                    precision    recall  f1-score   support\n",
      "\n",
      " RainTomorrow = No       0.85      0.90      0.88       509\n",
      "RainTomorrow = Yes       0.66      0.54      0.59       177\n",
      "\n",
      "          accuracy                           0.81       686\n",
      "         macro avg       0.75      0.72      0.73       686\n",
      "      weighted avg       0.80      0.81      0.80       686\n",
      "\n",
      "True Negatives:  460\n",
      "False Positives:  49\n",
      "False Negatives:  82\n",
      "True Positives:  95\n",
      "\n",
      "\n",
      "Accuracy Score 0.8090379008746356\n",
      "Precision Score 0.6597222222222222\n",
      "Recall Score 0.536723163841808\n",
      "F1 Score 0.5919003115264797\n"
     ]
    }
   ],
   "source": [
    "#Build the Decision Tree\n",
    "from sklearn import tree \n",
    "clf_dt = tree.DecisionTreeClassifier(random_state=123, max_depth = 5)\n",
    "#print(clf_dt)\n",
    "\n",
    "#Train\n",
    "clf_dt = clf_dt.fit(features_train, target_train)\n",
    "\n",
    "#Validate\n",
    "target_predicted_dt = clf_dt.predict(features_test)\n",
    "\n",
    "#extracting true_positives, false_positives, true_negatives, false_negatives\n",
    "target_names = [\"RainTomorrow = No\", \"RainTomorrow = Yes\"]\n",
    "print(classification_report(target_test, target_predicted_dt, target_names=target_names))\n",
    "tn, fp, fn, tp = confusion_matrix(target_test, target_predicted_dt).ravel()\n",
    "print(\"True Negatives: \",tn)\n",
    "print(\"False Positives: \",fp)\n",
    "print(\"False Negatives: \",fn)\n",
    "print(\"True Positives: \",tp)\n",
    "print('\\n')\n",
    "print(\"Accuracy Score\", accuracy_score(target_test, target_predicted_dt))\n",
    "print(\"Precision Score\", precision_score(target_test, target_predicted_dt))\n",
    "print(\"Recall Score\", recall_score(target_test, target_predicted_dt))\n",
    "print(\"F1 Score\", f1_score(target_test, target_predicted_dt))"
   ]
  },
  {
   "cell_type": "code",
   "execution_count": 34,
   "metadata": {},
   "outputs": [
    {
     "name": "stdout",
     "output_type": "stream",
     "text": [
      "Cross Validation Score for each K [0.7625     0.8375     0.80625    0.81875    0.80625    0.81875\n",
      " 0.85625    0.80625    0.8375     0.79874214]\n"
     ]
    },
    {
     "data": {
      "text/plain": [
       "0.8148742138364782"
      ]
     },
     "execution_count": 34,
     "metadata": {},
     "output_type": "execute_result"
    }
   ],
   "source": [
    "#Verify results with cross validation, 10 fold\n",
    "scores = cross_val_score(clf_dt, features_train, target_train, cv=10)\n",
    "print(\"Cross Validation Score for each K\",scores)\n",
    "scores.mean() "
   ]
  },
  {
   "cell_type": "markdown",
   "metadata": {},
   "source": [
    "#### Results\n",
    "The decision tree model was tuned using the max_depth parameter. We want to see if a more complex or simple tree helps with this prediction. Typically we can expect to see better performance with a simpler tree, not letting it grow too far. I started with it as 'None', then tuned to 10, then 5. The best results so far have come from our pruned tree with a max_depth = 5. This is in line with our expectations. \n",
    "\n",
    "Our model performs at its best when its pruned the smallest. We can see that our accuracy has risen to 80% confirmed by our cross validation. We can also see that our recall has also increased over our KNN model, now at 54%. Our model is casting a wider net, and still maintaining somewhat steady precision, at 66%. Overall this model improved over the KNN model. Our F1 score is at 0.59. We are heading in the right direction, but I dont think we are there yet."
   ]
  },
  {
   "cell_type": "markdown",
   "metadata": {},
   "source": [
    "### Random Forest"
   ]
  },
  {
   "cell_type": "code",
   "execution_count": 98,
   "metadata": {},
   "outputs": [
    {
     "name": "stdout",
     "output_type": "stream",
     "text": [
      "                    precision    recall  f1-score   support\n",
      "\n",
      " RainTomorrow = No       0.86      0.93      0.89       509\n",
      "RainTomorrow = Yes       0.73      0.57      0.64       177\n",
      "\n",
      "          accuracy                           0.84       686\n",
      "         macro avg       0.80      0.75      0.77       686\n",
      "      weighted avg       0.83      0.84      0.83       686\n",
      "\n",
      "True Negatives:  472\n",
      "False Positives:  37\n",
      "False Negatives:  76\n",
      "True Positives:  101\n",
      "\n",
      "\n",
      "Accuracy Score 0.8352769679300291\n",
      "Precision Score 0.7318840579710145\n",
      "Recall Score 0.5706214689265536\n",
      "F1 Score 0.6412698412698412\n"
     ]
    }
   ],
   "source": [
    "#Build Random Forest\n",
    "from sklearn.ensemble import RandomForestClassifier\n",
    "clf_rf = RandomForestClassifier(max_features=45, n_estimators=100, random_state=123)\n",
    "\n",
    "#Train\n",
    "clf_rf.fit(features_train, target_train)\n",
    "\n",
    "#Validate\n",
    "target_predicted_rf = clf_rf.predict(features_test)\n",
    "\n",
    "#extracting true_positives, false_positives, true_negatives, false_negatives\n",
    "target_names = [\"RainTomorrow = No\", \"RainTomorrow = Yes\"]\n",
    "print(classification_report(target_test, target_predicted_rf, target_names=target_names))\n",
    "tn, fp, fn, tp = confusion_matrix(target_test, target_predicted_rf).ravel()\n",
    "print(\"True Negatives: \",tn)\n",
    "print(\"False Positives: \",fp)\n",
    "print(\"False Negatives: \",fn)\n",
    "print(\"True Positives: \",tp)\n",
    "print('\\n')\n",
    "print(\"Accuracy Score\", accuracy_score(target_test, target_predicted_rf))\n",
    "print(\"Precision Score\", precision_score(target_test, target_predicted_rf))\n",
    "print(\"Recall Score\", recall_score(target_test, target_predicted_rf))\n",
    "print(\"F1 Score\", f1_score(target_test, target_predicted_rf))"
   ]
  },
  {
   "cell_type": "code",
   "execution_count": 78,
   "metadata": {},
   "outputs": [
    {
     "name": "stdout",
     "output_type": "stream",
     "text": [
      "Cross Validation Score for each K [0.80625    0.875      0.8375     0.8625     0.825      0.81875\n",
      " 0.8375     0.825      0.86875    0.85534591]\n"
     ]
    },
    {
     "data": {
      "text/plain": [
       "0.8411595911949685"
      ]
     },
     "execution_count": 78,
     "metadata": {},
     "output_type": "execute_result"
    }
   ],
   "source": [
    "#Verify results with cross validation, 10 fold\n",
    "scores = cross_val_score(clf_rf, features_train, target_train, cv=10)\n",
    "print(\"Cross Validation Score for each K\",scores)\n",
    "scores.mean() "
   ]
  },
  {
   "cell_type": "markdown",
   "metadata": {},
   "source": [
    "Let's see how we can tune this forest using a grid search!"
   ]
  },
  {
   "cell_type": "code",
   "execution_count": 83,
   "metadata": {},
   "outputs": [
    {
     "name": "stdout",
     "output_type": "stream",
     "text": [
      "Time to run 18 seconds\n",
      "{'mean_fit_time': array([1.24519391, 1.24000952, 1.26075549, 1.3005074 , 1.3145021 ,\n",
      "       1.32779477, 1.35736125, 1.47126298, 1.41117349, 1.26183558]), 'std_fit_time': array([0.02583412, 0.01464771, 0.01921887, 0.01876567, 0.02072347,\n",
      "       0.02344215, 0.02772272, 0.05854874, 0.02376562, 0.23738737]), 'mean_score_time': array([0.0242033 , 0.02489238, 0.02532911, 0.02440891, 0.02346733,\n",
      "       0.02426541, 0.02527633, 0.024212  , 0.02470784, 0.02032633]), 'std_score_time': array([0.00124597, 0.00177239, 0.00300868, 0.00161085, 0.00084321,\n",
      "       0.00215213, 0.00220231, 0.00094445, 0.003189  , 0.00421059]), 'param_max_features': masked_array(data=[43, 44, 45, 46, 47, 48, 49, 50, 51, 52],\n",
      "             mask=[False, False, False, False, False, False, False, False,\n",
      "                   False, False],\n",
      "       fill_value='?',\n",
      "            dtype=object), 'params': [{'max_features': 43}, {'max_features': 44}, {'max_features': 45}, {'max_features': 46}, {'max_features': 47}, {'max_features': 48}, {'max_features': 49}, {'max_features': 50}, {'max_features': 51}, {'max_features': 52}], 'split0_test_score': array([0.55      , 0.57831325, 0.55421687, 0.55696203, 0.575     ,\n",
      "       0.56790123, 0.53658537, 0.58227848, 0.55      , 0.56097561]), 'split1_test_score': array([0.65789474, 0.69879518, 0.6835443 , 0.71604938, 0.69135802,\n",
      "       0.66666667, 0.65822785, 0.675     , 0.7       , 0.70886076]), 'split2_test_score': array([0.61333333, 0.61111111, 0.61111111, 0.60273973, 0.66666667,\n",
      "       0.62162162, 0.64864865, 0.61333333, 0.59459459, 0.64      ]), 'split3_test_score': array([0.62337662, 0.63157895, 0.61538462, 0.64864865, 0.63157895,\n",
      "       0.63157895, 0.62337662, 0.63157895, 0.60273973, 0.62337662]), 'split4_test_score': array([0.52173913, 0.56338028, 0.56338028, 0.56338028, 0.5915493 ,\n",
      "       0.58333333, 0.54285714, 0.57142857, 0.57534247, 0.56338028]), 'split5_test_score': array([0.61971831, 0.57971014, 0.64788732, 0.6       , 0.65753425,\n",
      "       0.56338028, 0.62857143, 0.62857143, 0.57971014, 0.63888889]), 'split6_test_score': array([0.62162162, 0.65789474, 0.61111111, 0.62162162, 0.61333333,\n",
      "       0.60273973, 0.63013699, 0.64      , 0.60273973, 0.62162162]), 'split7_test_score': array([0.6       , 0.61111111, 0.62857143, 0.61971831, 0.60273973,\n",
      "       0.61971831, 0.6       , 0.6       , 0.58823529, 0.57142857]), 'split8_test_score': array([0.69444444, 0.73684211, 0.78378378, 0.74666667, 0.72      ,\n",
      "       0.73972603, 0.73239437, 0.77333333, 0.73684211, 0.76056338]), 'split9_test_score': array([0.66666667, 0.67692308, 0.71641791, 0.6969697 , 0.67692308,\n",
      "       0.66666667, 0.68656716, 0.71875   , 0.70769231, 0.6875    ]), 'mean_test_score': array([0.61687949, 0.63456599, 0.64154087, 0.63727564, 0.64266833,\n",
      "       0.62633328, 0.62873656, 0.64342741, 0.62378964, 0.63765957]), 'std_test_score': array([0.04906337, 0.0541057 , 0.06639506, 0.06075421, 0.04482315,\n",
      "       0.05097842, 0.05663848, 0.05969365, 0.06194049, 0.06237918]), 'rank_test_score': array([10,  6,  3,  5,  2,  8,  7,  1,  9,  4], dtype=int32)}\n",
      "B E S T   S C O R E 0.6434274095047746\n",
      "B E S T   P A R A M {'max_features': 50}\n"
     ]
    }
   ],
   "source": [
    "# use a full grid over all parameters\n",
    "from numpy import arange\n",
    "import time\n",
    "#param_grid = {\"max_features\": arange(0,50,5)} # FIRST TUNE\n",
    "param_grid = {\"max_features\": arange(43,53,1)} # SECOND TUNE\n",
    "start = time.time()\n",
    "\n",
    "# run grid search\n",
    "grid_search = GridSearchCV(clf_rf, param_grid=param_grid,n_jobs=-1, cv=10, scoring='f1')\n",
    "grid_search.fit(features_train, target_train)\n",
    "end = time.time()\n",
    "print(\"Time to run\", round(end-start), \"seconds\")\n",
    "print(grid_search.cv_results_)\n",
    "print(*\"BEST SCORE\", grid_search.best_score_)\n",
    "print(*\"BEST PARAM\", grid_search.best_params_)"
   ]
  },
  {
   "cell_type": "markdown",
   "metadata": {},
   "source": [
    "#### Results\n",
    "For this model, I will tuned the max_features parameter. I performed the default, 45, and 50 features. I used a grid search method to help find the best number of features. I first performed a grid search of 0-50 by 5. This suggested my best number of feature being 45, the results improveed over default. I then ran the grid search again by 43-53 by 1. This resulted in a number of 50. This oddly got us a worse F1 score than with 45. We saw an increase in precision but a small dip in recall. This is where the F1 comes in most handy. We can see an averaged performance between these two metrics that seem to be negatively correlated.\n",
    "\n",
    "The combined score shows us that 45 is our optimum feature count. We are now reaching an accuracy of 83% with Recall of 57% at 73% Precision. Our F1 score is now 0.64. Our predictive power is slowly getting better with each new model! Let's keep improving to see if any further methods are better."
   ]
  },
  {
   "cell_type": "markdown",
   "metadata": {},
   "source": [
    "### Support Vector Machines - Linear Kernel"
   ]
  },
  {
   "cell_type": "code",
   "execution_count": 99,
   "metadata": {},
   "outputs": [
    {
     "name": "stdout",
     "output_type": "stream",
     "text": [
      "                    precision    recall  f1-score   support\n",
      "\n",
      " RainTomorrow = No       0.92      0.78      0.84       509\n",
      "RainTomorrow = Yes       0.56      0.79      0.66       177\n",
      "\n",
      "          accuracy                           0.79       686\n",
      "         macro avg       0.74      0.79      0.75       686\n",
      "      weighted avg       0.82      0.79      0.80       686\n",
      "\n",
      "True Negatives:  399\n",
      "False Positives:  110\n",
      "False Negatives:  37\n",
      "True Positives:  140\n",
      "\n",
      "\n",
      "Accuracy Score 0.7857142857142857\n",
      "Precision Score 0.56\n",
      "Recall Score 0.7909604519774012\n",
      "F1 Score 0.6557377049180328\n"
     ]
    }
   ],
   "source": [
    "#Build the Support Vector Machine\n",
    "from sklearn.preprocessing import StandardScaler\n",
    "from sklearn.pipeline import make_pipeline\n",
    "from sklearn.svm import SVC\n",
    "clf_linearSVC = make_pipeline(StandardScaler(), SVC(kernel='linear', C=0.45, class_weight='balanced', random_state=123))\n",
    "\n",
    "#Train the model\n",
    "clf_linearSVC.fit(features_train, target_train)\n",
    "\n",
    "#Validate the model\n",
    "target_predicted_linearSVC = clf_linearSVC.predict(features_test)\n",
    "\n",
    "#extracting true_positives, false_positives, true_negatives, false_negatives\n",
    "target_names = [\"RainTomorrow = No\", \"RainTomorrow = Yes\"]\n",
    "print(classification_report(target_test, target_predicted_linearSVC, target_names=target_names))\n",
    "tn, fp, fn, tp = confusion_matrix(target_test, target_predicted_linearSVC).ravel()\n",
    "print(\"True Negatives: \",tn)\n",
    "print(\"False Positives: \",fp)\n",
    "print(\"False Negatives: \",fn)\n",
    "print(\"True Positives: \",tp)\n",
    "print('\\n')\n",
    "print(\"Accuracy Score\", accuracy_score(target_test, target_predicted_linearSVC))\n",
    "print(\"Precision Score\", precision_score(target_test, target_predicted_linearSVC))\n",
    "print(\"Recall Score\", recall_score(target_test, target_predicted_linearSVC))\n",
    "print(\"F1 Score\", f1_score(target_test, target_predicted_linearSVC))"
   ]
  },
  {
   "cell_type": "code",
   "execution_count": 98,
   "metadata": {},
   "outputs": [
    {
     "name": "stdout",
     "output_type": "stream",
     "text": [
      "Cross Validation Score for each K [0.7125     0.8        0.8        0.75       0.78125    0.80625\n",
      " 0.74375    0.7625     0.81875    0.76100629]\n"
     ]
    },
    {
     "data": {
      "text/plain": [
       "0.7736006289308175"
      ]
     },
     "execution_count": 98,
     "metadata": {},
     "output_type": "execute_result"
    }
   ],
   "source": [
    "#Verify results with cross validation, 10 fold\n",
    "scores = cross_val_score(clf_linearSVC, features_train, target_train, cv=10)\n",
    "print(\"Cross Validation Score for each K\",scores)\n",
    "scores.mean() "
   ]
  },
  {
   "cell_type": "code",
   "execution_count": 89,
   "metadata": {},
   "outputs": [
    {
     "name": "stdout",
     "output_type": "stream",
     "text": [
      "SCORES {'mean_fit_time': array([4.20384407e-03, 3.54739285e-01, 5.70330572e-01, 7.94177818e-01,\n",
      "       1.43658161e+00, 1.39192457e+00, 1.74909549e+00, 1.99317713e+00,\n",
      "       2.19808888e+00, 2.25968642e+00, 2.86143370e+00, 2.89064703e+00,\n",
      "       2.87138753e+00, 3.17955422e+00, 3.65846987e+00, 4.13356609e+00,\n",
      "       3.86953316e+00, 4.37679176e+00, 3.57186570e+00, 2.90393667e+00]), 'std_fit_time': array([3.75082952e-04, 3.06147941e-02, 9.41001077e-02, 1.50842931e-01,\n",
      "       3.78174887e-01, 2.42300084e-01, 6.99601653e-01, 5.56630417e-01,\n",
      "       4.59029235e-01, 4.52992501e-01, 5.22837026e-01, 4.16425407e-01,\n",
      "       2.18986742e-01, 8.25330112e-01, 8.60272740e-01, 6.53843411e-01,\n",
      "       1.45870993e+00, 1.54534511e+00, 6.43396100e-01, 1.01703193e+00]), 'mean_score_time': array([0.        , 0.01876512, 0.01855931, 0.01699758, 0.01718845,\n",
      "       0.01756229, 0.01778574, 0.01956263, 0.01865335, 0.01873021,\n",
      "       0.01791902, 0.0202404 , 0.01815734, 0.01683903, 0.01598711,\n",
      "       0.01622901, 0.01522803, 0.0170043 , 0.01475682, 0.01190615]), 'std_score_time': array([0.        , 0.00121414, 0.00190558, 0.00111855, 0.00044504,\n",
      "       0.00185468, 0.00126966, 0.00311785, 0.00207769, 0.00201718,\n",
      "       0.00191827, 0.00607947, 0.00293202, 0.00206562, 0.0007395 ,\n",
      "       0.00184968, 0.00070971, 0.0032085 , 0.00212321, 0.001685  ]), 'param_C': masked_array(data=[0.0, 0.05, 0.1, 0.15000000000000002, 0.2, 0.25,\n",
      "                   0.30000000000000004, 0.35000000000000003, 0.4, 0.45,\n",
      "                   0.5, 0.55, 0.6000000000000001, 0.65,\n",
      "                   0.7000000000000001, 0.75, 0.8, 0.8500000000000001, 0.9,\n",
      "                   0.9500000000000001],\n",
      "             mask=[False, False, False, False, False, False, False, False,\n",
      "                   False, False, False, False, False, False, False, False,\n",
      "                   False, False, False, False],\n",
      "       fill_value='?',\n",
      "            dtype=object), 'params': [{'C': 0.0}, {'C': 0.05}, {'C': 0.1}, {'C': 0.15000000000000002}, {'C': 0.2}, {'C': 0.25}, {'C': 0.30000000000000004}, {'C': 0.35000000000000003}, {'C': 0.4}, {'C': 0.45}, {'C': 0.5}, {'C': 0.55}, {'C': 0.6000000000000001}, {'C': 0.65}, {'C': 0.7000000000000001}, {'C': 0.75}, {'C': 0.8}, {'C': 0.8500000000000001}, {'C': 0.9}, {'C': 0.9500000000000001}], 'split0_test_score': array([       nan, 0.61691542, 0.61386139, 0.6039604 , 0.61616162,\n",
      "       0.61928934, 0.61538462, 0.60913706, 0.6122449 , 0.61538462,\n",
      "       0.62176166, 0.62886598, 0.62176166, 0.60301508, 0.60606061,\n",
      "       0.60913706, 0.60301508, 0.60913706, 0.6       , 0.6       ]), 'split1_test_score': array([       nan, 0.66037736, 0.66666667, 0.67298578, 0.66666667,\n",
      "       0.66350711, 0.66350711, 0.66350711, 0.657277  , 0.66350711,\n",
      "       0.66350711, 0.657277  , 0.65402844, 0.66028708, 0.66019417,\n",
      "       0.647343  , 0.65365854, 0.65384615, 0.66346154, 0.66666667]), 'split2_test_score': array([       nan, 0.64948454, 0.67346939, 0.68393782, 0.67708333,\n",
      "       0.67015707, 0.68041237, 0.66326531, 0.67010309, 0.67692308,\n",
      "       0.66666667, 0.66326531, 0.64948454, 0.65641026, 0.65979381,\n",
      "       0.66321244, 0.66666667, 0.65284974, 0.66666667, 0.64921466]), 'split3_test_score': array([       nan, 0.62564103, 0.61928934, 0.6185567 , 0.62564103,\n",
      "       0.62244898, 0.61538462, 0.62176166, 0.62886598, 0.62244898,\n",
      "       0.60913706, 0.62311558, 0.61616162, 0.59898477, 0.60301508,\n",
      "       0.60606061, 0.60606061, 0.60512821, 0.60913706, 0.59405941]), 'split4_test_score': array([       nan, 0.64516129, 0.64516129, 0.64480874, 0.64835165,\n",
      "       0.65217391, 0.6557377 , 0.66304348, 0.6557377 , 0.65934066,\n",
      "       0.65934066, 0.65945946, 0.65217391, 0.65608466, 0.64893617,\n",
      "       0.63783784, 0.64516129, 0.63101604, 0.64550265, 0.64210526]), 'mean_test_score': array([       nan, 0.63951593, 0.64368961, 0.64484989, 0.64678086,\n",
      "       0.64551528, 0.64608528, 0.64414292, 0.64484573, 0.64752089,\n",
      "       0.64408263, 0.64639666, 0.63872203, 0.63495637, 0.63559997,\n",
      "       0.63271819, 0.63491244, 0.63039544, 0.63695358, 0.6304092 ]), 'std_test_score': array([       nan, 0.01593574, 0.02409167, 0.0306032 , 0.02324041,\n",
      "       0.02095288, 0.02630627, 0.02376636, 0.02111527, 0.02417063,\n",
      "       0.02383097, 0.01686952, 0.01629538, 0.02779396, 0.02569989,\n",
      "       0.02207574, 0.02574745, 0.02071168, 0.02756067, 0.02846427]), 'rank_test_score': array([20, 11, 10,  6,  2,  5,  4,  8,  7,  1,  9,  3, 12, 15, 14, 17, 16,\n",
      "       19, 13, 18], dtype=int32)}\n",
      "BEST SCORE 0.6475208880489856\n",
      "BEST PARAM {'C': 0.45}\n",
      "Time to run 35 seconds\n"
     ]
    }
   ],
   "source": [
    "### import time\n",
    "start = time.time()\n",
    "\n",
    "param_grid={\"C\": arange(0,1,0.05)}\n",
    "\n",
    "clf_linearSVC = SVC(kernel='linear', class_weight='balanced', random_state=123)\n",
    "grid_svm = GridSearchCV(clf_linearSVC, param_grid,n_jobs=-1, cv=5, scoring='f1')\n",
    "grid_svm.fit(features_train, target_train)\n",
    "print(\"SCORES\", grid_svm.cv_results_)\n",
    "print(\"BEST SCORE\", grid_svm.best_score_)\n",
    "print(\"BEST PARAM\", grid_svm.best_params_)\n",
    "end = time.time()\n",
    "print(\"Time to run\", round(end-start), \"seconds\")"
   ]
  },
  {
   "cell_type": "markdown",
   "metadata": {},
   "source": [
    "For this model, I tuned a couple of parameters. First, we ran the SVM in its default state, C=1.0 and running with class_weight = none. Next, I attempted to run the model with class_weight = balanced. This actually made the model better. For the 3rd model I ran a grid search to find our optimal C parameter, which was chosen to be 0.45. Comparing our C=1 and C=0.3 models, we see the exact same results. I decided that our C=0.45 model was the best all around model for the linear SVM allowing for a bit more variance to help the model become more robust with new data outside our training/test sets. The only problem here is that our cross validation results are somewhat wide, so we can see that our model is somewhat unstable.\n",
    "\n",
    "Our recall is now at 79%, precision at 56% and accuracy at 78%. We have improved our F1 score to 0.65. Things are still improving! Let's check out some different kernal methods for SVM. "
   ]
  },
  {
   "cell_type": "markdown",
   "metadata": {},
   "source": [
    "### Support Vector Machine - Radial & RBF Kernal"
   ]
  },
  {
   "cell_type": "code",
   "execution_count": 100,
   "metadata": {},
   "outputs": [
    {
     "name": "stdout",
     "output_type": "stream",
     "text": [
      "                    precision    recall  f1-score   support\n",
      "\n",
      " RainTomorrow = No       0.86      0.92      0.89       509\n",
      "RainTomorrow = Yes       0.72      0.58      0.64       177\n",
      "\n",
      "          accuracy                           0.83       686\n",
      "         macro avg       0.79      0.75      0.77       686\n",
      "      weighted avg       0.83      0.83      0.83       686\n",
      "\n",
      "True Negatives:  470\n",
      "False Positives:  39\n",
      "False Negatives:  75\n",
      "True Positives:  102\n",
      "\n",
      "\n",
      "Accuracy Score 0.8338192419825073\n",
      "Precision Score 0.723404255319149\n",
      "Recall Score 0.576271186440678\n",
      "F1 Score 0.6415094339622641\n"
     ]
    }
   ],
   "source": [
    "#Build \n",
    "from sklearn.preprocessing import StandardScaler\n",
    "from sklearn.pipeline import make_pipeline\n",
    "from sklearn.svm import SVC\n",
    "clf_radialSVC = make_pipeline(StandardScaler(), SVC(kernel='rbf', random_state=123))\n",
    "\n",
    "#Train\n",
    "clf_radialSVC.fit(features_train, target_train)\n",
    "\n",
    "#Validate\n",
    "target_predicted_radialSVC = clf_radialSVC.predict(features_test)\n",
    "\n",
    "#extracting true_positives, false_positives, true_negatives, false_negatives\n",
    "target_names = [\"RainTomorrow = No\", \"RainTomorrow = Yes\"]\n",
    "print(classification_report(target_test, target_predicted_radialSVC, target_names=target_names))\n",
    "tn, fp, fn, tp = confusion_matrix(target_test, target_predicted_radialSVC).ravel()\n",
    "print(\"True Negatives: \",tn)\n",
    "print(\"False Positives: \",fp)\n",
    "print(\"False Negatives: \",fn)\n",
    "print(\"True Positives: \",tp)\n",
    "print('\\n')\n",
    "print(\"Accuracy Score\", accuracy_score(target_test, target_predicted_radialSVC))\n",
    "print(\"Precision Score\", precision_score(target_test, target_predicted_radialSVC))\n",
    "print(\"Recall Score\", recall_score(target_test, target_predicted_radialSVC))\n",
    "print(\"F1 Score\", f1_score(target_test, target_predicted_radialSVC))"
   ]
  },
  {
   "cell_type": "code",
   "execution_count": 105,
   "metadata": {},
   "outputs": [
    {
     "name": "stdout",
     "output_type": "stream",
     "text": [
      "Cross Validation Score for each K [0.7875     0.85625    0.83125    0.85625    0.79375    0.83125\n",
      " 0.8125     0.84375    0.875      0.85534591]\n"
     ]
    },
    {
     "data": {
      "text/plain": [
       "0.8342845911949686"
      ]
     },
     "execution_count": 105,
     "metadata": {},
     "output_type": "execute_result"
    }
   ],
   "source": [
    "#Verify results with cross validation, 10 fold\n",
    "scores = cross_val_score(clf_radialSVC, features_train, target_train, cv=10)\n",
    "print(\"Cross Validation Score for each K\",scores)\n",
    "scores.mean() "
   ]
  },
  {
   "cell_type": "code",
   "execution_count": 102,
   "metadata": {},
   "outputs": [
    {
     "name": "stdout",
     "output_type": "stream",
     "text": [
      "0.6390443145291766\n",
      "{'svc__C': 1000.0, 'svc__gamma': 0.0001, 'svc__kernel': 'rbf'}\n",
      "Time to run -24 seconds\n"
     ]
    }
   ],
   "source": [
    "#code chunk is from Raschka & Mirjalili (2019). Python Machine Learning. 3rd ed. p. 207.\n",
    "\n",
    "start=time.time()\n",
    "from sklearn.model_selection import GridSearchCV\n",
    "from sklearn.svm import SVC\n",
    "\n",
    "pipe_svc = make_pipeline(StandardScaler(),\n",
    "                         SVC(random_state=123))\n",
    "\n",
    "param_range = [0.0001, 0.001, 0.01, 0.1, 1.0, 10.0, 100.0, 1000.0]\n",
    "\n",
    "param_grid = [{'svc__C': param_range, \n",
    "               'svc__gamma': param_range, \n",
    "               'svc__kernel': ['rbf']}]\n",
    "\n",
    "gs = GridSearchCV(estimator=pipe_svc, \n",
    "                  param_grid=param_grid, \n",
    "                  scoring='f1', \n",
    "                  refit=True,\n",
    "                  cv=10,\n",
    "                  n_jobs=-1)\n",
    "gs = gs.fit(features_train, target_train)\n",
    "print(gs.best_score_)\n",
    "print(gs.best_params_)\n",
    "end=time.time()\n",
    "print(\"Time to run\", round(start-end), \"seconds\")"
   ]
  },
  {
   "cell_type": "markdown",
   "metadata": {},
   "source": [
    "For this model, we will focus on the C and gamma parameters. For the first run I set them as default. Next, I used a grid search function from the textbook to tune these values for the two parameter simultaneously. The results show us that the best model is still RBF, with a C=1000 and gamma=0.0001. Applying those parameters to the model we can see that our recall did improve, but at the overall sacrifice of our precision and accuracy. The default model is running better than this grid search suggested tune. With the default settings our model is 83% accurate, with recall of 58% and precision of 72%. The F1 score is 0.64. So far this linear version of SVM is performing well, but not as good as the linear kernal.\n",
    "\n",
    "Overall, we are still getting our best results from the Grid Tuned SVM With a Linear Kernel. Let's see if we can do better!"
   ]
  },
  {
   "cell_type": "markdown",
   "metadata": {},
   "source": [
    "### Stochastic Gradient Descent"
   ]
  },
  {
   "cell_type": "code",
   "execution_count": 101,
   "metadata": {},
   "outputs": [
    {
     "name": "stdout",
     "output_type": "stream",
     "text": [
      "                    precision    recall  f1-score   support\n",
      "\n",
      " RainTomorrow = No       0.88      0.84      0.86       509\n",
      "RainTomorrow = Yes       0.59      0.66      0.62       177\n",
      "\n",
      "          accuracy                           0.79       686\n",
      "         macro avg       0.73      0.75      0.74       686\n",
      "      weighted avg       0.80      0.79      0.80       686\n",
      "\n",
      "True Negatives:  428\n",
      "False Positives:  81\n",
      "False Negatives:  61\n",
      "True Positives:  116\n",
      "\n",
      "\n",
      "Accuracy Score 0.793002915451895\n",
      "Precision Score 0.5888324873096447\n",
      "Recall Score 0.655367231638418\n",
      "F1 Score 0.6203208556149733\n"
     ]
    }
   ],
   "source": [
    "#Build\n",
    "from sklearn.preprocessing import StandardScaler\n",
    "from sklearn.pipeline import make_pipeline\n",
    "from sklearn.linear_model import SGDClassifier\n",
    "\n",
    "#Use pipeline to scale the data first\n",
    "scaler = StandardScaler\n",
    "clf_sgd_logit = make_pipeline(StandardScaler(), SGDClassifier(loss='hinge', random_state=123))\n",
    "\n",
    "#Train\n",
    "clf_sgd_logit.fit(features_train, target_train)\n",
    "\n",
    "#Validate\n",
    "target_predicted_sgd_logit = clf_sgd_logit.predict(features_test)\n",
    "\n",
    "#extracting true_positives, false_positives, true_negatives, false_negatives\n",
    "target_names = [\"RainTomorrow = No\", \"RainTomorrow = Yes\"]\n",
    "print(classification_report(target_test, target_predicted_sgd_logit, target_names=target_names))\n",
    "tn, fp, fn, tp = confusion_matrix(target_test, target_predicted_sgd_logit).ravel()\n",
    "print(\"True Negatives: \",tn)\n",
    "print(\"False Positives: \",fp)\n",
    "print(\"False Negatives: \",fn)\n",
    "print(\"True Positives: \",tp)\n",
    "print('\\n')\n",
    "print(\"Accuracy Score\", accuracy_score(target_test, target_predicted_sgd_logit))\n",
    "print(\"Precision Score\", precision_score(target_test, target_predicted_sgd_logit))\n",
    "print(\"Recall Score\", recall_score(target_test, target_predicted_sgd_logit))\n",
    "print(\"F1 Score\", f1_score(target_test, target_predicted_sgd_logit))"
   ]
  },
  {
   "cell_type": "markdown",
   "metadata": {},
   "source": [
    "According to the documentation, SGD is best suited for large, space datasets, and in many occasions, text dominant. Seeing as this dataset is neither of those, it makes sense that we did not perform as well with this model as we have with previous models.\n",
    "\n",
    "For this model I tuned the loss function, trying out hinge, log, and modified_huber. The hinge loss function provided us our best scores of the three. Overall accuracy was highest at 79%, precision was in the middle of the three at 59%, recall was the highest at 66%, and with that we got our highest F1 score of 0.62. Still lower than our SVC Linear model. Let's move on!"
   ]
  },
  {
   "cell_type": "markdown",
   "metadata": {},
   "source": [
    "### Adaboost"
   ]
  },
  {
   "cell_type": "code",
   "execution_count": 102,
   "metadata": {},
   "outputs": [
    {
     "name": "stdout",
     "output_type": "stream",
     "text": [
      "                    precision    recall  f1-score   support\n",
      "\n",
      " RainTomorrow = No       0.87      0.93      0.90       509\n",
      "RainTomorrow = Yes       0.75      0.58      0.66       177\n",
      "\n",
      "          accuracy                           0.84       686\n",
      "         macro avg       0.81      0.76      0.78       686\n",
      "      weighted avg       0.84      0.84      0.84       686\n",
      "\n",
      "True Negatives:  475\n",
      "False Positives:  34\n",
      "False Negatives:  74\n",
      "True Positives:  103\n",
      "\n",
      "\n",
      "Accuracy Score 0.8425655976676385\n",
      "Precision Score 0.7518248175182481\n",
      "Recall Score 0.5819209039548022\n",
      "F1 Score 0.6560509554140127\n"
     ]
    }
   ],
   "source": [
    "from sklearn.ensemble import AdaBoostClassifier\n",
    "from sklearn import tree\n",
    "clf_dt_ab = AdaBoostClassifier(base_estimator=tree.DecisionTreeClassifier(max_depth=5), algorithm=\"SAMME\", learning_rate = 0.1, n_estimators=30, random_state=123)\n",
    "\n",
    "#Train\n",
    "clf_dt_ab.fit(features_train, target_train)\n",
    "\n",
    "#Validate\n",
    "target_predicted_dt_ab=clf_dt_ab.predict(features_test)\n",
    "\n",
    "#extracting true_positives, false_positives, true_negatives, false_negatives\n",
    "target_names = [\"RainTomorrow = No\", \"RainTomorrow = Yes\"]\n",
    "print(classification_report(target_test, target_predicted_dt_ab, target_names=target_names))\n",
    "tn, fp, fn, tp = confusion_matrix(target_test, target_predicted_dt_ab).ravel()\n",
    "print(\"True Negatives: \",tn)\n",
    "print(\"False Positives: \",fp)\n",
    "print(\"False Negatives: \",fn)\n",
    "print(\"True Positives: \",tp)\n",
    "print('\\n')\n",
    "print(\"Accuracy Score\", accuracy_score(target_test, target_predicted_dt_ab))\n",
    "print(\"Precision Score\", precision_score(target_test, target_predicted_dt_ab))\n",
    "print(\"Recall Score\", recall_score(target_test, target_predicted_dt_ab))\n",
    "print(\"F1 Score\", f1_score(target_test, target_predicted_dt_ab))"
   ]
  },
  {
   "cell_type": "markdown",
   "metadata": {},
   "source": [
    "For this model, I tuned a couple of parameters. All of these have a base learner of Decision Tree, and since our best decision tree earler had the max depth of 5, that is the setting I used across all 3 models. The first model I used the SAMME.R algorithm. Next I used the SAMME algorithm and saw some slight improvements. From there I tuned the learning_rate = 0.1 and the n_estimators = 30. I wanted to try this out because I felt that simplifying the model a bit with less estimators may have helped its performance. \n",
    "\n",
    "I was right! We reached our best results with this setup. We are now seeing an accuracy of 84%, a precision of 75% and a recall of 58%. Our F1 score is now tied for best of all models at 0.66. This model is now tied for performance with our SVC Linear model. However, we are achiving a higher overall accuracy with this Adaboost model. Let's see if we can do any better."
   ]
  },
  {
   "cell_type": "markdown",
   "metadata": {},
   "source": [
    "### Bagging Classifier"
   ]
  },
  {
   "cell_type": "code",
   "execution_count": 103,
   "metadata": {},
   "outputs": [
    {
     "name": "stdout",
     "output_type": "stream",
     "text": [
      "                    precision    recall  f1-score   support\n",
      "\n",
      " RainTomorrow = No       0.86      0.94      0.89       509\n",
      "RainTomorrow = Yes       0.75      0.55      0.63       177\n",
      "\n",
      "          accuracy                           0.84       686\n",
      "         macro avg       0.80      0.74      0.76       686\n",
      "      weighted avg       0.83      0.84      0.83       686\n",
      "\n",
      "True Negatives:  476\n",
      "False Positives:  33\n",
      "False Negatives:  80\n",
      "True Positives:  97\n",
      "\n",
      "\n",
      "Accuracy Score 0.8352769679300291\n",
      "Precision Score 0.7461538461538462\n",
      "Recall Score 0.5480225988700564\n",
      "F1 Score 0.6319218241042345\n"
     ]
    }
   ],
   "source": [
    "#Build\n",
    "from sklearn.ensemble import BaggingClassifier\n",
    "clf_bag = BaggingClassifier(n_estimators=10, random_state=123)\n",
    "\n",
    "#Train\n",
    "clf_bag.fit(features_train, target_train)\n",
    "\n",
    "#Validate \n",
    "target_predicted_clf_bag=clf_bag.predict(features_test)\n",
    "\n",
    "#extracting true_positives, false_positives, true_negatives, false_negatives\n",
    "target_names = [\"RainTomorrow = No\", \"RainTomorrow = Yes\"]\n",
    "print(classification_report(target_test, target_predicted_clf_bag, target_names=target_names))\n",
    "tn, fp, fn, tp = confusion_matrix(target_test, target_predicted_clf_bag).ravel()\n",
    "print(\"True Negatives: \",tn)\n",
    "print(\"False Positives: \",fp)\n",
    "print(\"False Negatives: \",fn)\n",
    "print(\"True Positives: \",tp)\n",
    "print('\\n')\n",
    "print(\"Accuracy Score\", accuracy_score(target_test, target_predicted_clf_bag))\n",
    "print(\"Precision Score\", precision_score(target_test, target_predicted_clf_bag))\n",
    "print(\"Recall Score\", recall_score(target_test, target_predicted_clf_bag))\n",
    "print(\"F1 Score\", f1_score(target_test, target_predicted_clf_bag))"
   ]
  },
  {
   "cell_type": "markdown",
   "metadata": {},
   "source": [
    "This is a well performing model. It behaves in a more deliberate manner than some of the other models, meaning overall we have lower recall and higher precision. We see this model cast a smaller net, but focus more on making the correct predictions. \n",
    "\n",
    "For this model I tuned the n_estimators. I attemped 100, 30, and 10. Each step lower created better results. I chose to try 30 to compare it to the Adaboost model, which performed best with 30. However, it performed overall worse. Our best bagging model came with 10 base estimators. With only 10 estimators we saw an accuracy of 84%, precision of 75% and recall of 55%. Our F1 score came out to be 0.63. This model is currently sitting around 4th place overall, so it's good but not great in comparison. Let's see what else we can try."
   ]
  },
  {
   "cell_type": "markdown",
   "metadata": {},
   "source": [
    "### Gradient Boosting"
   ]
  },
  {
   "cell_type": "code",
   "execution_count": 104,
   "metadata": {},
   "outputs": [
    {
     "name": "stdout",
     "output_type": "stream",
     "text": [
      "                    precision    recall  f1-score   support\n",
      "\n",
      " RainTomorrow = No       0.87      0.92      0.89       509\n",
      "RainTomorrow = Yes       0.72      0.60      0.66       177\n",
      "\n",
      "          accuracy                           0.84       686\n",
      "         macro avg       0.79      0.76      0.77       686\n",
      "      weighted avg       0.83      0.84      0.83       686\n",
      "\n",
      "True Negatives:  467\n",
      "False Positives:  42\n",
      "False Negatives:  70\n",
      "True Positives:  107\n",
      "\n",
      "\n",
      "Accuracy Score 0.8367346938775511\n",
      "Precision Score 0.7181208053691275\n",
      "Recall Score 0.6045197740112994\n",
      "F1 Score 0.6564417177914109\n"
     ]
    }
   ],
   "source": [
    "#Build \n",
    "from sklearn.ensemble import GradientBoostingClassifier\n",
    "clf_GBC = GradientBoostingClassifier(n_estimators=30, learning_rate=0.3, random_state=123) #default learning rate is 0.1\n",
    "\n",
    "#Train\n",
    "clf_GBC.fit(features_train, target_train)\n",
    "\n",
    "#Validate\n",
    "target_predicted_GBC=clf_GBC.predict(features_test)\n",
    "\n",
    "#extracting true_positives, false_positives, true_negatives, false_negatives\n",
    "target_names = [\"RainTomorrow = No\", \"RainTomorrow = Yes\"]\n",
    "print(classification_report(target_test, target_predicted_GBC, target_names=target_names))\n",
    "tn, fp, fn, tp = confusion_matrix(target_test, target_predicted_GBC).ravel()\n",
    "print(\"True Negatives: \",tn)\n",
    "print(\"False Positives: \",fp)\n",
    "print(\"False Negatives: \",fn)\n",
    "print(\"True Positives: \",tp)\n",
    "print('\\n')\n",
    "print(\"Accuracy Score\", accuracy_score(target_test, target_predicted_GBC))\n",
    "print(\"Precision Score\", precision_score(target_test, target_predicted_GBC))\n",
    "print(\"Recall Score\", recall_score(target_test, target_predicted_GBC))\n",
    "print(\"F1 Score\", f1_score(target_test, target_predicted_GBC))"
   ]
  },
  {
   "cell_type": "markdown",
   "metadata": {},
   "source": [
    "I think we have a new front runner! I built 3 models, the first with a learning_rate = 0.1, next with n_estimators = 30 and learning_rate = 0.1, and finally with n_estimators = 30 and learning_rate = 0.3. \n",
    "\n",
    "This final model (30, 0.3) gave us the best results so far! We are now looking at an accuracy of 84%, a precision of 72% and a recall of 60%. Our F1 score is at 0.66 as we've seen before, but the levels of our precision/recall are at their best relationship so far. We have been able to boost them both up without sacrificing one over the other too much. This is great! I wonder if we can still do any better..."
   ]
  },
  {
   "cell_type": "markdown",
   "metadata": {},
   "source": [
    "### Extra Trees"
   ]
  },
  {
   "cell_type": "code",
   "execution_count": 105,
   "metadata": {},
   "outputs": [
    {
     "name": "stdout",
     "output_type": "stream",
     "text": [
      "                    precision    recall  f1-score   support\n",
      "\n",
      " RainTomorrow = No       0.85      0.90      0.88       509\n",
      "RainTomorrow = Yes       0.67      0.55      0.60       177\n",
      "\n",
      "          accuracy                           0.81       686\n",
      "         macro avg       0.76      0.73      0.74       686\n",
      "      weighted avg       0.81      0.81      0.81       686\n",
      "\n",
      "True Negatives:  460\n",
      "False Positives:  49\n",
      "False Negatives:  79\n",
      "True Positives:  98\n",
      "\n",
      "\n",
      "Accuracy Score 0.8134110787172012\n",
      "Precision Score 0.6666666666666666\n",
      "Recall Score 0.5536723163841808\n",
      "F1 Score 0.6049382716049383\n"
     ]
    }
   ],
   "source": [
    "#Build\n",
    "from sklearn.ensemble import ExtraTreesClassifier\n",
    "clf_xdt = ExtraTreesClassifier(n_estimators= 100, n_jobs=-1, random_state=123, class_weight = 'balanced', \n",
    "                               max_features = 30)\n",
    "\n",
    "#Train\n",
    "clf_xdt.fit(features_train, target_train)\n",
    "\n",
    "#Validate\n",
    "target_predicted_xdt=clf_xdt.predict(features_test)\n",
    "\n",
    "#extracting true_positives, false_positives, true_negatives, false_negatives\n",
    "target_names = [\"RainTomorrow = No\", \"RainTomorrow = Yes\"]\n",
    "print(classification_report(target_test, target_predicted_xdt, target_names=target_names))\n",
    "tn, fp, fn, tp = confusion_matrix(target_test, target_predicted_xdt).ravel()\n",
    "print(\"True Negatives: \",tn)\n",
    "print(\"False Positives: \",fp)\n",
    "print(\"False Negatives: \",fn)\n",
    "print(\"True Positives: \",tp)\n",
    "print('\\n')\n",
    "print(\"Accuracy Score\", accuracy_score(target_test, target_predicted_xdt))\n",
    "print(\"Precision Score\", precision_score(target_test, target_predicted_xdt))\n",
    "print(\"Recall Score\", recall_score(target_test, target_predicted_xdt))\n",
    "print(\"F1 Score\", f1_score(target_test, target_predicted_xdt))"
   ]
  },
  {
   "cell_type": "markdown",
   "metadata": {},
   "source": [
    "This model is not on of our best. I tuned the max_features, using 'auto', 'log2', and 30. I went with 30 for the third tune becuase it seems to be where a lot of these models peak in performance when simplifying the amount of features used to create its predictions. We are a little ways off from our new top model. \n",
    "\n",
    "With max_features = 30, we are seeing an accuracy of 81%, precision of 67%, recall of 55% and an overall F1 score of 0.60, about 5pts off the lead. Let's keep moving and see if these last few models can beat Gradient Boosting!"
   ]
  },
  {
   "cell_type": "markdown",
   "metadata": {},
   "source": [
    "### Artificial Neural Networks (ANN)"
   ]
  },
  {
   "cell_type": "code",
   "execution_count": 106,
   "metadata": {},
   "outputs": [
    {
     "name": "stdout",
     "output_type": "stream",
     "text": [
      "                    precision    recall  f1-score   support\n",
      "\n",
      " RainTomorrow = No       0.88      0.90      0.89       509\n",
      "RainTomorrow = Yes       0.69      0.63      0.66       177\n",
      "\n",
      "          accuracy                           0.83       686\n",
      "         macro avg       0.78      0.77      0.77       686\n",
      "      weighted avg       0.83      0.83      0.83       686\n",
      "\n",
      "True Negatives:  459\n",
      "False Positives:  50\n",
      "False Negatives:  65\n",
      "True Positives:  112\n",
      "\n",
      "\n",
      "Accuracy Score 0.8323615160349854\n",
      "Precision Score 0.691358024691358\n",
      "Recall Score 0.632768361581921\n",
      "F1 Score 0.6607669616519175\n"
     ]
    }
   ],
   "source": [
    "#Build\n",
    "from sklearn.neural_network import MLPClassifier\n",
    "from sklearn.preprocessing import StandardScaler\n",
    "from sklearn.pipeline import make_pipeline\n",
    "scaler = StandardScaler\n",
    "#clf_nn = make_pipeline(StandardScaler(), MLPClassifier(hidden_layer_sizes=(5),random_state=123, max_iter=1000))\n",
    "#clf_nn = make_pipeline(StandardScaler(), MLPClassifier(hidden_layer_sizes=(5), solver=\"lbfgs\",random_state=123, max_iter=1000))\n",
    "clf_nn = make_pipeline(StandardScaler(), MLPClassifier(hidden_layer_sizes=(5), solver=\"sgd\", learning_rate=\"adaptive\", max_iter=1000, random_state=123))\n",
    "#clf_nn = make_pipeline(StandardScaler(), MLPClassifier(hidden_layer_sizes=(5,5), solver=\"sgd\", learning_rate=\"adaptive\", max_iter=1000,random_state=123))\n",
    "#clf_nn = make_pipeline(StandardScaler(), MLPClassifier(hidden_layer_sizes=(15,15), solver=\"sgd\", learning_rate=\"adaptive\", max_iter=10000,random_state=123))\n",
    "\n",
    "#Train\n",
    "clf_nn.fit(features_train, target_train)\n",
    "\n",
    "#Validate\n",
    "target_predicted_clf_nn = clf_nn.predict(features_test)\n",
    "\n",
    "\n",
    "#extracting true_positives, false_positives, true_negatives, false_negatives\n",
    "target_names = [\"RainTomorrow = No\", \"RainTomorrow = Yes\"]\n",
    "print(classification_report(target_test, target_predicted_clf_nn, target_names=target_names))\n",
    "tn, fp, fn, tp = confusion_matrix(target_test, target_predicted_clf_nn).ravel()\n",
    "print(\"True Negatives: \",tn)\n",
    "print(\"False Positives: \",fp)\n",
    "print(\"False Negatives: \",fn)\n",
    "print(\"True Positives: \",tp)\n",
    "print('\\n')\n",
    "print(\"Accuracy Score\", accuracy_score(target_test, target_predicted_clf_nn))\n",
    "print(\"Precision Score\", precision_score(target_test, target_predicted_clf_nn))\n",
    "print(\"Recall Score\", recall_score(target_test, target_predicted_clf_nn))\n",
    "print(\"F1 Score\", f1_score(target_test, target_predicted_clf_nn))"
   ]
  },
  {
   "cell_type": "markdown",
   "metadata": {},
   "source": [
    "-Tuned models are commented out above-\n",
    "\n",
    "It looks like we have a new leader! So for this model, I tuned a couple different parameters. First I wanted to try and see which solver for the weight optimization worked the best. We tried adam, lbfgs, and sgd. The best solver was sdg. From there I began to play with the layer and node layout. Sticking with 1 (layer) x 5 (nodes), I expanded that to 2 x 5, and then 2 x 15. I saw a decline in performance by just simply adding another layer, but by adding more nodes it slighly improved, however it never beat our original 1 x 5 structure. (Note: I did expand max iterations to overcome convergance issues as needed, 1000 was a good baseline for most tunes).\n",
    "\n",
    "So, with the sgd solver and a 1 x 5 layer/node strucutre, we got our best results over all other models so far! We have now reached an accuracy of 83%, precision of 69%, recall of 63% and an F1 score of 0.66!\n",
    "\n",
    "Next, let's try and see if we can stack some of our best learners to try and make one super-learner!"
   ]
  },
  {
   "cell_type": "markdown",
   "metadata": {},
   "source": [
    "### Stacking"
   ]
  },
  {
   "cell_type": "code",
   "execution_count": 94,
   "metadata": {},
   "outputs": [
    {
     "name": "stdout",
     "output_type": "stream",
     "text": [
      "Recall: 0.59 (+/- 0.05) [ANN]\n",
      "Accuracy: 0.84 (+/- 0.02) [ANN]\n",
      "Precision: 0.74 (+/- 0.05) [ANN]\n",
      "F1 Score: 0.66 (+/- 0.04) [ANN]\n",
      "Recall: 0.57 (+/- 0.04) [Gradient Boosting]\n",
      "Accuracy: 0.83 (+/- 0.01) [Gradient Boosting]\n",
      "Precision: 0.71 (+/- 0.04) [Gradient Boosting]\n",
      "F1 Score: 0.63 (+/- 0.02) [Gradient Boosting]\n",
      "Recall: 0.53 (+/- 0.05) [AdaBoost]\n",
      "Accuracy: 0.83 (+/- 0.02) [AdaBoost]\n",
      "Precision: 0.75 (+/- 0.07) [AdaBoost]\n",
      "F1 Score: 0.62 (+/- 0.05) [AdaBoost]\n",
      "Recall: 0.73 (+/- 0.04) [SVC Linear Kernel]\n",
      "Accuracy: 0.77 (+/- 0.02) [SVC Linear Kernel]\n",
      "Precision: 0.55 (+/- 0.03) [SVC Linear Kernel]\n",
      "F1 Score: 0.63 (+/- 0.03) [SVC Linear Kernel]\n",
      "Recall: 0.56 (+/- 0.05) [Second Stage Learner]\n",
      "Accuracy: 0.84 (+/- 0.02) [Second Stage Learner]\n",
      "Precision: 0.76 (+/- 0.05) [Second Stage Learner]\n",
      "F1 Score: 0.64 (+/- 0.04) [Second Stage Learner]\n"
     ]
    }
   ],
   "source": [
    "from sklearn.ensemble import VotingClassifier\n",
    "from sklearn.ensemble import AdaBoostClassifier\n",
    "from sklearn import tree\n",
    "from sklearn.neural_network import MLPClassifier\n",
    "from sklearn.ensemble import GradientBoostingClassifier\n",
    "from sklearn.svm import SVC\n",
    "from sklearn.preprocessing import StandardScaler\n",
    "from sklearn.pipeline import make_pipeline\n",
    "\n",
    "#Stacking four base learners: ANN, Gradient Boosting, AdaBoost, SVC Linear Kernel\n",
    "\n",
    "learner_1 = make_pipeline(StandardScaler(), MLPClassifier(hidden_layer_sizes=(5), solver=\"sgd\", learning_rate=\"adaptive\", max_iter=1000, random_state=123))\n",
    "learner_2 = GradientBoostingClassifier(n_estimators=30, learning_rate=0.3, random_state=123)\n",
    "learner_3 = AdaBoostClassifier(base_estimator=tree.DecisionTreeClassifier(max_depth=5), algorithm=\"SAMME\", learning_rate = 0.1, n_estimators=30, random_state=123)\n",
    "learner_4 = make_pipeline(StandardScaler(), SVC(kernel='linear', C=0.45, class_weight='balanced', random_state=123))\n",
    "\n",
    "stacked_learner = VotingClassifier(estimators=[('nn', learner_1), ('gb', learner_2), ('ab', learner_3), ('svc', learner_4)], voting='hard')\n",
    "\n",
    "for MV, label in zip([learner_1, learner_2, learner_3, learner_4, stacked_learner], \n",
    "                     ['ANN', 'Gradient Boosting', 'AdaBoost', 'SVC Linear Kernel', 'Second Stage Learner']):\n",
    "    scores2 = cross_val_score(MV, features_train, target_train, cv=5, scoring='recall')\n",
    "    scores3 = cross_val_score(MV, features_train, target_train, cv=5, scoring='accuracy')\n",
    "    scores4 = cross_val_score(MV, features_train, target_train, cv=5, scoring='precision')\n",
    "    scores5 = cross_val_score(MV, features_train, target_train, cv=5, scoring='f1')\n",
    "    \n",
    "    print(\"Recall: %0.2f (+/- %0.2f) [%s]\" % (scores2.mean(), scores2.std(), label))\n",
    "    print(\"Accuracy: %0.2f (+/- %0.2f) [%s]\" % (scores3.mean(), scores3.std(), label))\n",
    "    print(\"Precision: %0.2f (+/- %0.2f) [%s]\" % (scores4.mean(), scores4.std(), label))\n",
    "    print(\"F1 Score: %0.2f (+/- %0.2f) [%s]\" % (scores5.mean(), scores5.std(), label))"
   ]
  },
  {
   "cell_type": "markdown",
   "metadata": {},
   "source": [
    "For this stacking model, I stacked the top 4 performing models so far in this notebook. I stacked ANN, Gradient Boosting, AdaBoost, and SVC Linear Kernal. I used thier top performing tunes and input them into the stacked learner. Overall this appears to have performed a little worse than our top performing model, which is currently still the ANN. Our ANN is pulling an F1 score of 0.66, while when we stack, we are seeing a F1 score of 0.64. This was a surprise! I was actually hoping to see some sort of super model being able to use the best of our bunch to really nail the predictions, but that is why we test!"
   ]
  },
  {
   "cell_type": "markdown",
   "metadata": {},
   "source": [
    "# Results!"
   ]
  },
  {
   "attachments": {
    "image.png": {
     "image/png": "[encoded data removed]"
    }
   },
   "cell_type": "markdown",
   "metadata": {},
   "source": [
    "Let's take a look at all of our models and see how we did!\n",
    "\n",
    "![image.png](attachment:image.png)"
   ]
  },
  {
   "cell_type": "markdown",
   "metadata": {},
   "source": [
    "That is a lot of results! Let's dive in a bit. If we recall our original dataset, of all our observations, we only saw RainTommorrow = Yes about 26% of the time. Therefore we needed our models to at least be 74% accurate. Luckily that does not seem to be a problem because many of our models were well above that threshold. However, I don't believe that accuracy should be our main driver to determine the best performing model on this dataset. We need to be able to find that sweet spot between our recall and precision to help out model predict as many rainy days as it can, as precisely as it can. Since the F1 score is a weighted average between the recall and precision performance, it should lead us to the best performing model that doesn’t lean to far on either metric. Meaning, we don’t want a model that just casts a huge net and has very little precision, or focuses too much on precision, but only really captures a small amount of the rain events. The F1 score is a number between 0-1, with 0 being no predictive power, and 1 being perfect recall and precision.\n",
    "\n",
    "With that understanding we can then find our best performing model based on our F1 score! Looks like we are doing our best predicting overall with the Artificial Neural Network, running the Stochastic Gradient Descent solver for weight optimization. With this model we used one layer, with 5 nodes. We reached our highest level of F1 score of 0.66. Depending on the needs of the organization that may employ this model, that may or may not be enough. We are hitting an accuracy of 83% but since we have such a heavy weight towards the RainTomorrow = No, that isn’t too hard of a number to predict. At random you'd predict correctly that it won’t rain a majority of the time. This model was casting a decent size net, collecting 63% of the rainy days, and doing it with somewhat average precision, around 69%. I think for this model to be usable, it may need to perform better. At this rate, our model's really topped the charts at being able to predict a rainy day <70% of the time. Another downside to this result, is that the ANN model, working as a black box, isn't really capable of telling us much about what factors really drive these results. We may be able to interpret some weights, but we really won’t be able to see good coefficients to draw more inferential detail from.\n",
    "\n",
    "Is this enough? That depends on the application. For your local weather reports, making sure the average person dresses appropriately? That might be helpful, but for potentially critical predictions, such as transit or constructiosn, this may not quite cut it. However we are cutting the uncertanty of rainy days by over 60%, so that has to count for something! Overall I found this experiment really interesting, and I would like to one day test this out on different areas around Australia. It's possible that one of these models could be really powerful in predicting the weather of Perth, for example!"
   ]
  }
 ],
 "metadata": {
  "kernelspec": {
   "display_name": "Python 3",
   "language": "python",
   "name": "python3"
  },
  "language_info": {
   "codemirror_mode": {
    "name": "ipython",
    "version": 3
   },
   "file_extension": ".py",
   "mimetype": "text/x-python",
   "name": "python",
   "nbconvert_exporter": "python",
   "pygments_lexer": "ipython3",
   "version": "3.8.5"
  }
 },
 "nbformat": 4,
 "nbformat_minor": 4
}
